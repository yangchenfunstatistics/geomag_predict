{
 "cells": [
  {
   "cell_type": "markdown",
   "id": "2d7a1cd1",
   "metadata": {},
   "source": [
    "# Load Dataset"
   ]
  },
  {
   "cell_type": "code",
   "execution_count": 2,
   "id": "c819b671",
   "metadata": {},
   "outputs": [],
   "source": [
    "import pandas as pd\n",
    "import numpy as np\n",
    "import pickle\n",
    "train = pd.read_pickle('train_1cad_h_median.pkl')\n",
    "test = pd.read_pickle('test_1cad_h_median.pkl')\n",
    "train.columns = train.columns.astype(str)\n",
    "test.columns = test.columns.astype(str)"
   ]
  },
  {
   "cell_type": "code",
   "execution_count": 3,
   "id": "fff861a8",
   "metadata": {
    "scrolled": true
   },
   "outputs": [],
   "source": [
    "ytrain_NEW = pd.read_pickle('ytrain_NEW.pkl')\n",
    "ytest_NEW = pd.read_pickle('ytest_NEW.pkl')"
   ]
  },
  {
   "cell_type": "code",
   "execution_count": 4,
   "id": "1889913c",
   "metadata": {},
   "outputs": [],
   "source": [
    "ytrain_OTT = pd.read_pickle('ytrain_OTT.pkl')\n",
    "ytest_OTT = pd.read_pickle('ytest_OTT.pkl')"
   ]
  },
  {
   "cell_type": "code",
   "execution_count": 5,
   "id": "b9270371",
   "metadata": {},
   "outputs": [],
   "source": [
    "ytrain_WNG = pd.read_pickle('ytrain_WNG.pkl')\n",
    "ytest_WNG = pd.read_pickle('ytest_WNG.pkl')"
   ]
  },
  {
   "cell_type": "code",
   "execution_count": 6,
   "id": "fa0d770d",
   "metadata": {},
   "outputs": [],
   "source": [
    "ytrain_ABK = pd.read_pickle('ytrain_ABK.pkl')\n",
    "ytest_ABK = pd.read_pickle('ytest_ABK.pkl')"
   ]
  },
  {
   "cell_type": "code",
   "execution_count": 7,
   "id": "8a90556e",
   "metadata": {},
   "outputs": [],
   "source": [
    "ytrain_YKC = pd.read_pickle('ytrain_YKC.pkl')\n",
    "ytest_YKC = pd.read_pickle('ytest_YKC.pkl')"
   ]
  },
  {
   "cell_type": "markdown",
   "id": "2418a3d5",
   "metadata": {},
   "source": [
    "# ANN"
   ]
  },
  {
   "cell_type": "code",
   "execution_count": 8,
   "id": "140673d4",
   "metadata": {
    "scrolled": true
   },
   "outputs": [],
   "source": [
    "import torch\n",
    "import torch.nn as nn\n",
    "import torch.nn.functional as F\n",
    "import torch.optim as optim\n",
    "import torch.utils.data as data_utils\n",
    "import pandas as pd\n",
    "import numpy as np\n",
    "from torchmetrics import R2Score\n",
    "\n",
    "import matplotlib as mpl\n",
    "import matplotlib.pyplot as plt"
   ]
  },
  {
   "cell_type": "code",
   "execution_count": 9,
   "id": "3fb1b1db",
   "metadata": {},
   "outputs": [],
   "source": [
    "import time\n",
    "from rich.progress import track"
   ]
  },
  {
   "cell_type": "code",
   "execution_count": 24,
   "id": "49f75815",
   "metadata": {
    "scrolled": true
   },
   "outputs": [
    {
     "name": "stdout",
     "output_type": "stream",
     "text": [
      "Net(\n",
      "  (fc1): Linear(in_features=292, out_features=146, bias=True)\n",
      "  (dropout): Dropout(p=0.1, inplace=False)\n",
      "  (fc2): Linear(in_features=146, out_features=73, bias=True)\n",
      "  (fc3): Linear(in_features=73, out_features=36, bias=True)\n",
      "  (fc4): Linear(in_features=36, out_features=2, bias=True)\n",
      ")\n"
     ]
    }
   ],
   "source": [
    "class Net(nn.Module):\n",
    "\n",
    "    def __init__(self):\n",
    "        super(Net,self).__init__()\n",
    "        self.fc1 = nn.Linear(292, 146)  \n",
    "        self.dropout = nn.Dropout(0.1)\n",
    "        self.fc2 = nn.Linear(146, 73)\n",
    "        self.fc3 = nn.Linear(73, 36)  \n",
    "        self.fc4 = nn.Linear(36, 2)\n",
    "\n",
    "    def forward(self, x):\n",
    "        x = F.relu(self.fc1(x))\n",
    "        x = self.dropout(x)\n",
    "        x = F.relu(self.fc2(x))\n",
    "        x = F.relu(self.fc3(x))\n",
    "        x = F.relu(self.fc4(x))\n",
    "        return x\n",
    "\n",
    "\n",
    "net = Net()\n",
    "print(net)"
   ]
  },
  {
   "cell_type": "code",
   "execution_count": 11,
   "id": "732f0458",
   "metadata": {},
   "outputs": [],
   "source": [
    "# import EarlyStopping\n",
    "# from pytorchtools import EarlyStopping\n",
    "\n",
    "# Had to import the function like this. For some reason Great Lakes can't recognise .py file\n",
    "class EarlyStopping:\n",
    "    \"\"\"Early stops the training if validation loss doesn't improve after a given patience.\"\"\"\n",
    "    def __init__(self, patience=7, verbose=False, delta=0, path='checkpoint.pt', trace_func=print):\n",
    "        \"\"\"\n",
    "        Args:\n",
    "            patience (int): How long to wait after last time validation loss improved.\n",
    "                            Default: 7\n",
    "            verbose (bool): If True, prints a message for each validation loss improvement. \n",
    "                            Default: False\n",
    "            delta (float): Minimum change in the monitored quantity to qualify as an improvement.\n",
    "                            Default: 0\n",
    "            path (str): Path for the checkpoint to be saved to.\n",
    "                            Default: 'checkpoint.pt'\n",
    "            trace_func (function): trace print function.\n",
    "                            Default: print            \n",
    "        \"\"\"\n",
    "        self.patience = patience\n",
    "        self.verbose = verbose\n",
    "        self.counter = 0\n",
    "        self.best_score = None\n",
    "        self.early_stop = False\n",
    "        self.val_loss_min = np.Inf\n",
    "        self.delta = delta\n",
    "        self.path = path\n",
    "        self.trace_func = trace_func\n",
    "    def __call__(self, val_loss, model):\n",
    "\n",
    "        score = -val_loss\n",
    "\n",
    "        if self.best_score is None:\n",
    "            self.best_score = score\n",
    "            self.save_checkpoint(val_loss, model)\n",
    "        elif score < self.best_score + self.delta:\n",
    "            self.counter += 1\n",
    "            self.trace_func(f'EarlyStopping counter: {self.counter} out of {self.patience}')\n",
    "            if self.counter >= self.patience:\n",
    "                self.early_stop = True\n",
    "        else:\n",
    "            self.best_score = score\n",
    "            self.save_checkpoint(val_loss, model)\n",
    "            self.counter = 0\n",
    "\n",
    "    def save_checkpoint(self, val_loss, model):\n",
    "        '''Saves model when validation loss decrease.'''\n",
    "        if self.verbose:\n",
    "            self.trace_func(f'Validation loss decreased ({self.val_loss_min:.6f} --> {val_loss:.6f}).  Saving model ...')\n",
    "        torch.save(model.state_dict(), self.path)\n",
    "        self.val_loss_min = val_loss"
   ]
  },
  {
   "cell_type": "markdown",
   "id": "ef6362e1",
   "metadata": {},
   "source": [
    "## NEW"
   ]
  },
  {
   "cell_type": "code",
   "execution_count": 17,
   "id": "eaef3240",
   "metadata": {
    "scrolled": true
   },
   "outputs": [],
   "source": [
    "model_NEW = Net()\n",
    "# optimizer = optim.Adam(model.parameters(), lr=0.1)\n",
    "optimizer = torch.optim.AdamW(model_NEW.parameters(), lr=0.005, weight_decay=0.01, amsgrad=False)\n",
    "scheduler = torch.optim.lr_scheduler.ExponentialLR(optimizer, gamma=0.5, last_epoch=-1, verbose=False)\n",
    "criterion = nn.MSELoss()"
   ]
  },
  {
   "cell_type": "code",
   "execution_count": 18,
   "id": "fead0902",
   "metadata": {},
   "outputs": [],
   "source": [
    "# Set validation set size for early stopping and batch size\n",
    "valid_size = 0.2\n",
    "batch_size = 32\n",
    "\n",
    "# Obtain training indices that will be used for validation\n",
    "from torch.utils.data.sampler import SubsetRandomSampler"
   ]
  },
  {
   "cell_type": "code",
   "execution_count": 19,
   "id": "cc092e7d",
   "metadata": {},
   "outputs": [],
   "source": [
    "def get_device() -> torch.device:\n",
    "    return torch.device(\"cuda:0\") if torch.cuda.is_available() else torch.device(\"cpu\")\n",
    "\n",
    "\n",
    "def df_to_tensor(x: pd.DataFrame) -> torch:\n",
    "    return torch.from_numpy(x.values).to(get_device())"
   ]
  },
  {
   "cell_type": "code",
   "execution_count": 20,
   "id": "d8e3ec75",
   "metadata": {
    "scrolled": true
   },
   "outputs": [],
   "source": [
    "temp1 = df_to_tensor(train).to(torch.float32)"
   ]
  },
  {
   "cell_type": "code",
   "execution_count": 21,
   "id": "dcbcb540",
   "metadata": {},
   "outputs": [],
   "source": [
    "temp2 = df_to_tensor(ytrain_NEW).to(torch.float32)"
   ]
  },
  {
   "cell_type": "code",
   "execution_count": 22,
   "id": "0fb02276",
   "metadata": {},
   "outputs": [],
   "source": [
    "temp3 = df_to_tensor(test).to(torch.float32)"
   ]
  },
  {
   "cell_type": "code",
   "execution_count": 23,
   "id": "69067df9",
   "metadata": {},
   "outputs": [],
   "source": [
    "temp4 = df_to_tensor(ytest_NEW).to(torch.float32)"
   ]
  },
  {
   "cell_type": "code",
   "execution_count": 24,
   "id": "854ae19b",
   "metadata": {},
   "outputs": [],
   "source": [
    "temp2 = torch.abs(temp2)\n",
    "temp4 = torch.abs(temp4)"
   ]
  },
  {
   "cell_type": "code",
   "execution_count": 25,
   "id": "e58775fc",
   "metadata": {},
   "outputs": [],
   "source": [
    "train_tensor = data_utils.TensorDataset(temp1, temp2)\n",
    "test_tensor = data_utils.TensorDataset(temp3, temp4)"
   ]
  },
  {
   "cell_type": "code",
   "execution_count": 26,
   "id": "f72aae72",
   "metadata": {},
   "outputs": [],
   "source": [
    "num_train = len(train_tensor)\n",
    "indices = list(range(num_train))\n",
    "np.random.shuffle(indices)\n",
    "split = int(np.floor(valid_size * num_train))\n",
    "train_idx, valid_idx = indices[split:], indices[:split]\n",
    "\n",
    "# define samplers for obtaining training and validation batches\n",
    "train_sampler = SubsetRandomSampler(train_idx)\n",
    "valid_sampler = SubsetRandomSampler(valid_idx)\n",
    "    \n",
    "# load training data in batches\n",
    "train_loader = torch.utils.data.DataLoader(train_tensor,\n",
    "                                               batch_size=batch_size,\n",
    "                                               sampler=train_sampler,\n",
    "                                               num_workers=0)\n",
    "    \n",
    "# load validation data in batches\n",
    "valid_loader = torch.utils.data.DataLoader(train_tensor,\n",
    "                                               batch_size=batch_size,\n",
    "                                               sampler=valid_sampler,\n",
    "                                               num_workers=0)\n",
    "    \n",
    "# load test data in batches\n",
    "test_loader = torch.utils.data.DataLoader(test_tensor,\n",
    "                                              batch_size=batch_size,\n",
    "                                              num_workers=0)"
   ]
  },
  {
   "cell_type": "code",
   "execution_count": 27,
   "id": "aec6f668",
   "metadata": {
    "scrolled": true
   },
   "outputs": [
    {
     "data": {
      "application/vnd.jupyter.widget-view+json": {
       "model_id": "a3eca5480cb94f5e9692256c761923e5",
       "version_major": 2,
       "version_minor": 0
      },
      "text/plain": [
       "Output()"
      ]
     },
     "metadata": {},
     "output_type": "display_data"
    },
    {
     "data": {
      "text/html": [
       "<pre style=\"white-space:pre;overflow-x:auto;line-height:normal;font-family:Menlo,'DejaVu Sans Mono',consolas,'Courier New',monospace\">[  0/100] train_loss: 87.97948 valid_loss: 81.14458\n",
       "</pre>\n"
      ],
      "text/plain": [
       "[  0/100] train_loss: 87.97948 valid_loss: 81.14458\n"
      ]
     },
     "metadata": {},
     "output_type": "display_data"
    },
    {
     "data": {
      "text/html": [
       "<pre style=\"white-space:pre;overflow-x:auto;line-height:normal;font-family:Menlo,'DejaVu Sans Mono',consolas,'Courier New',monospace\">Validation loss decreased (inf --&gt; 81.144582).  Saving model ...\n",
       "</pre>\n"
      ],
      "text/plain": [
       "Validation loss decreased (inf --> 81.144582).  Saving model ...\n"
      ]
     },
     "metadata": {},
     "output_type": "display_data"
    },
    {
     "data": {
      "text/html": [
       "<pre style=\"white-space:pre;overflow-x:auto;line-height:normal;font-family:Menlo,'DejaVu Sans Mono',consolas,'Courier New',monospace\">[  1/100] train_loss: 76.59263 valid_loss: 69.24220\n",
       "</pre>\n"
      ],
      "text/plain": [
       "[  1/100] train_loss: 76.59263 valid_loss: 69.24220\n"
      ]
     },
     "metadata": {},
     "output_type": "display_data"
    },
    {
     "data": {
      "text/html": [
       "<pre style=\"white-space:pre;overflow-x:auto;line-height:normal;font-family:Menlo,'DejaVu Sans Mono',consolas,'Courier New',monospace\">Validation loss decreased (81.144582 --&gt; 69.242196).  Saving model ...\n",
       "</pre>\n"
      ],
      "text/plain": [
       "Validation loss decreased (81.144582 --> 69.242196).  Saving model ...\n"
      ]
     },
     "metadata": {},
     "output_type": "display_data"
    },
    {
     "data": {
      "text/html": [
       "<pre style=\"white-space:pre;overflow-x:auto;line-height:normal;font-family:Menlo,'DejaVu Sans Mono',consolas,'Courier New',monospace\">[  2/100] train_loss: 66.11919 valid_loss: 63.01585\n",
       "</pre>\n"
      ],
      "text/plain": [
       "[  2/100] train_loss: 66.11919 valid_loss: 63.01585\n"
      ]
     },
     "metadata": {},
     "output_type": "display_data"
    },
    {
     "data": {
      "text/html": [
       "<pre style=\"white-space:pre;overflow-x:auto;line-height:normal;font-family:Menlo,'DejaVu Sans Mono',consolas,'Courier New',monospace\">Validation loss decreased (69.242196 --&gt; 63.015846).  Saving model ...\n",
       "</pre>\n"
      ],
      "text/plain": [
       "Validation loss decreased (69.242196 --> 63.015846).  Saving model ...\n"
      ]
     },
     "metadata": {},
     "output_type": "display_data"
    },
    {
     "data": {
      "text/html": [
       "<pre style=\"white-space:pre;overflow-x:auto;line-height:normal;font-family:Menlo,'DejaVu Sans Mono',consolas,'Courier New',monospace\">[  3/100] train_loss: 59.06824 valid_loss: 56.34521\n",
       "</pre>\n"
      ],
      "text/plain": [
       "[  3/100] train_loss: 59.06824 valid_loss: 56.34521\n"
      ]
     },
     "metadata": {},
     "output_type": "display_data"
    },
    {
     "data": {
      "text/html": [
       "<pre style=\"white-space:pre;overflow-x:auto;line-height:normal;font-family:Menlo,'DejaVu Sans Mono',consolas,'Courier New',monospace\">Validation loss decreased (63.015846 --&gt; 56.345208).  Saving model ...\n",
       "</pre>\n"
      ],
      "text/plain": [
       "Validation loss decreased (63.015846 --> 56.345208).  Saving model ...\n"
      ]
     },
     "metadata": {},
     "output_type": "display_data"
    },
    {
     "data": {
      "text/html": [
       "<pre style=\"white-space:pre;overflow-x:auto;line-height:normal;font-family:Menlo,'DejaVu Sans Mono',consolas,'Courier New',monospace\">[  4/100] train_loss: 54.78219 valid_loss: 52.79009\n",
       "</pre>\n"
      ],
      "text/plain": [
       "[  4/100] train_loss: 54.78219 valid_loss: 52.79009\n"
      ]
     },
     "metadata": {},
     "output_type": "display_data"
    },
    {
     "data": {
      "text/html": [
       "<pre style=\"white-space:pre;overflow-x:auto;line-height:normal;font-family:Menlo,'DejaVu Sans Mono',consolas,'Courier New',monospace\">Validation loss decreased (56.345208 --&gt; 52.790092).  Saving model ...\n",
       "</pre>\n"
      ],
      "text/plain": [
       "Validation loss decreased (56.345208 --> 52.790092).  Saving model ...\n"
      ]
     },
     "metadata": {},
     "output_type": "display_data"
    },
    {
     "data": {
      "text/html": [
       "<pre style=\"white-space:pre;overflow-x:auto;line-height:normal;font-family:Menlo,'DejaVu Sans Mono',consolas,'Courier New',monospace\">[  5/100] train_loss: 51.89521 valid_loss: 51.94393\n",
       "</pre>\n"
      ],
      "text/plain": [
       "[  5/100] train_loss: 51.89521 valid_loss: 51.94393\n"
      ]
     },
     "metadata": {},
     "output_type": "display_data"
    },
    {
     "data": {
      "text/html": [
       "<pre style=\"white-space:pre;overflow-x:auto;line-height:normal;font-family:Menlo,'DejaVu Sans Mono',consolas,'Courier New',monospace\">Validation loss decreased (52.790092 --&gt; 51.943926).  Saving model ...\n",
       "</pre>\n"
      ],
      "text/plain": [
       "Validation loss decreased (52.790092 --> 51.943926).  Saving model ...\n"
      ]
     },
     "metadata": {},
     "output_type": "display_data"
    },
    {
     "data": {
      "text/html": [
       "<pre style=\"white-space:pre;overflow-x:auto;line-height:normal;font-family:Menlo,'DejaVu Sans Mono',consolas,'Courier New',monospace\">[  6/100] train_loss: 50.41127 valid_loss: 50.14341\n",
       "</pre>\n"
      ],
      "text/plain": [
       "[  6/100] train_loss: 50.41127 valid_loss: 50.14341\n"
      ]
     },
     "metadata": {},
     "output_type": "display_data"
    },
    {
     "data": {
      "text/html": [
       "<pre style=\"white-space:pre;overflow-x:auto;line-height:normal;font-family:Menlo,'DejaVu Sans Mono',consolas,'Courier New',monospace\">Validation loss decreased (51.943926 --&gt; 50.143409).  Saving model ...\n",
       "</pre>\n"
      ],
      "text/plain": [
       "Validation loss decreased (51.943926 --> 50.143409).  Saving model ...\n"
      ]
     },
     "metadata": {},
     "output_type": "display_data"
    },
    {
     "data": {
      "text/html": [
       "<pre style=\"white-space:pre;overflow-x:auto;line-height:normal;font-family:Menlo,'DejaVu Sans Mono',consolas,'Courier New',monospace\">[  7/100] train_loss: 49.55141 valid_loss: 49.81783\n",
       "</pre>\n"
      ],
      "text/plain": [
       "[  7/100] train_loss: 49.55141 valid_loss: 49.81783\n"
      ]
     },
     "metadata": {},
     "output_type": "display_data"
    },
    {
     "data": {
      "text/html": [
       "<pre style=\"white-space:pre;overflow-x:auto;line-height:normal;font-family:Menlo,'DejaVu Sans Mono',consolas,'Courier New',monospace\">Validation loss decreased (50.143409 --&gt; 49.817827).  Saving model ...\n",
       "</pre>\n"
      ],
      "text/plain": [
       "Validation loss decreased (50.143409 --> 49.817827).  Saving model ...\n"
      ]
     },
     "metadata": {},
     "output_type": "display_data"
    },
    {
     "data": {
      "text/html": [
       "<pre style=\"white-space:pre;overflow-x:auto;line-height:normal;font-family:Menlo,'DejaVu Sans Mono',consolas,'Courier New',monospace\">[  8/100] train_loss: 49.11522 valid_loss: 49.40396\n",
       "</pre>\n"
      ],
      "text/plain": [
       "[  8/100] train_loss: 49.11522 valid_loss: 49.40396\n"
      ]
     },
     "metadata": {},
     "output_type": "display_data"
    },
    {
     "data": {
      "text/html": [
       "<pre style=\"white-space:pre;overflow-x:auto;line-height:normal;font-family:Menlo,'DejaVu Sans Mono',consolas,'Courier New',monospace\">Validation loss decreased (49.817827 --&gt; 49.403964).  Saving model ...\n",
       "</pre>\n"
      ],
      "text/plain": [
       "Validation loss decreased (49.817827 --> 49.403964).  Saving model ...\n"
      ]
     },
     "metadata": {},
     "output_type": "display_data"
    },
    {
     "data": {
      "text/html": [
       "<pre style=\"white-space:pre;overflow-x:auto;line-height:normal;font-family:Menlo,'DejaVu Sans Mono',consolas,'Courier New',monospace\">[  9/100] train_loss: 48.86362 valid_loss: 49.23176\n",
       "</pre>\n"
      ],
      "text/plain": [
       "[  9/100] train_loss: 48.86362 valid_loss: 49.23176\n"
      ]
     },
     "metadata": {},
     "output_type": "display_data"
    },
    {
     "data": {
      "text/html": [
       "<pre style=\"white-space:pre;overflow-x:auto;line-height:normal;font-family:Menlo,'DejaVu Sans Mono',consolas,'Courier New',monospace\">Validation loss decreased (49.403964 --&gt; 49.231759).  Saving model ...\n",
       "</pre>\n"
      ],
      "text/plain": [
       "Validation loss decreased (49.403964 --> 49.231759).  Saving model ...\n"
      ]
     },
     "metadata": {},
     "output_type": "display_data"
    },
    {
     "data": {
      "text/html": [
       "<pre style=\"white-space:pre;overflow-x:auto;line-height:normal;font-family:Menlo,'DejaVu Sans Mono',consolas,'Courier New',monospace\">[ 10/100] train_loss: 48.75739 valid_loss: 49.15289\n",
       "</pre>\n"
      ],
      "text/plain": [
       "[ 10/100] train_loss: 48.75739 valid_loss: 49.15289\n"
      ]
     },
     "metadata": {},
     "output_type": "display_data"
    },
    {
     "data": {
      "text/html": [
       "<pre style=\"white-space:pre;overflow-x:auto;line-height:normal;font-family:Menlo,'DejaVu Sans Mono',consolas,'Courier New',monospace\">Validation loss decreased (49.231759 --&gt; 49.152891).  Saving model ...\n",
       "</pre>\n"
      ],
      "text/plain": [
       "Validation loss decreased (49.231759 --> 49.152891).  Saving model ...\n"
      ]
     },
     "metadata": {},
     "output_type": "display_data"
    },
    {
     "data": {
      "text/html": [
       "<pre style=\"white-space:pre;overflow-x:auto;line-height:normal;font-family:Menlo,'DejaVu Sans Mono',consolas,'Courier New',monospace\">[ 11/100] train_loss: 48.69474 valid_loss: 49.11084\n",
       "</pre>\n"
      ],
      "text/plain": [
       "[ 11/100] train_loss: 48.69474 valid_loss: 49.11084\n"
      ]
     },
     "metadata": {},
     "output_type": "display_data"
    },
    {
     "data": {
      "text/html": [
       "<pre style=\"white-space:pre;overflow-x:auto;line-height:normal;font-family:Menlo,'DejaVu Sans Mono',consolas,'Courier New',monospace\">Validation loss decreased (49.152891 --&gt; 49.110838).  Saving model ...\n",
       "</pre>\n"
      ],
      "text/plain": [
       "Validation loss decreased (49.152891 --> 49.110838).  Saving model ...\n"
      ]
     },
     "metadata": {},
     "output_type": "display_data"
    },
    {
     "data": {
      "text/html": [
       "<pre style=\"white-space:pre;overflow-x:auto;line-height:normal;font-family:Menlo,'DejaVu Sans Mono',consolas,'Courier New',monospace\">[ 12/100] train_loss: 48.64934 valid_loss: 49.09634\n",
       "</pre>\n"
      ],
      "text/plain": [
       "[ 12/100] train_loss: 48.64934 valid_loss: 49.09634\n"
      ]
     },
     "metadata": {},
     "output_type": "display_data"
    },
    {
     "data": {
      "text/html": [
       "<pre style=\"white-space:pre;overflow-x:auto;line-height:normal;font-family:Menlo,'DejaVu Sans Mono',consolas,'Courier New',monospace\">Validation loss decreased (49.110838 --&gt; 49.096338).  Saving model ...\n",
       "</pre>\n"
      ],
      "text/plain": [
       "Validation loss decreased (49.110838 --> 49.096338).  Saving model ...\n"
      ]
     },
     "metadata": {},
     "output_type": "display_data"
    },
    {
     "data": {
      "text/html": [
       "<pre style=\"white-space:pre;overflow-x:auto;line-height:normal;font-family:Menlo,'DejaVu Sans Mono',consolas,'Courier New',monospace\">[ 13/100] train_loss: 48.61790 valid_loss: 49.08900\n",
       "</pre>\n"
      ],
      "text/plain": [
       "[ 13/100] train_loss: 48.61790 valid_loss: 49.08900\n"
      ]
     },
     "metadata": {},
     "output_type": "display_data"
    },
    {
     "data": {
      "text/html": [
       "<pre style=\"white-space:pre;overflow-x:auto;line-height:normal;font-family:Menlo,'DejaVu Sans Mono',consolas,'Courier New',monospace\">Validation loss decreased (49.096338 --&gt; 49.088996).  Saving model ...\n",
       "</pre>\n"
      ],
      "text/plain": [
       "Validation loss decreased (49.096338 --> 49.088996).  Saving model ...\n"
      ]
     },
     "metadata": {},
     "output_type": "display_data"
    },
    {
     "data": {
      "text/html": [
       "<pre style=\"white-space:pre;overflow-x:auto;line-height:normal;font-family:Menlo,'DejaVu Sans Mono',consolas,'Courier New',monospace\">[ 14/100] train_loss: 48.60843 valid_loss: 49.08222\n",
       "</pre>\n"
      ],
      "text/plain": [
       "[ 14/100] train_loss: 48.60843 valid_loss: 49.08222\n"
      ]
     },
     "metadata": {},
     "output_type": "display_data"
    },
    {
     "data": {
      "text/html": [
       "<pre style=\"white-space:pre;overflow-x:auto;line-height:normal;font-family:Menlo,'DejaVu Sans Mono',consolas,'Courier New',monospace\">Validation loss decreased (49.088996 --&gt; 49.082218).  Saving model ...\n",
       "</pre>\n"
      ],
      "text/plain": [
       "Validation loss decreased (49.088996 --> 49.082218).  Saving model ...\n"
      ]
     },
     "metadata": {},
     "output_type": "display_data"
    },
    {
     "data": {
      "text/html": [
       "<pre style=\"white-space:pre;overflow-x:auto;line-height:normal;font-family:Menlo,'DejaVu Sans Mono',consolas,'Courier New',monospace\">[ 15/100] train_loss: 48.60177 valid_loss: 49.08152\n",
       "</pre>\n"
      ],
      "text/plain": [
       "[ 15/100] train_loss: 48.60177 valid_loss: 49.08152\n"
      ]
     },
     "metadata": {},
     "output_type": "display_data"
    },
    {
     "data": {
      "text/html": [
       "<pre style=\"white-space:pre;overflow-x:auto;line-height:normal;font-family:Menlo,'DejaVu Sans Mono',consolas,'Courier New',monospace\">Validation loss decreased (49.082218 --&gt; 49.081520).  Saving model ...\n",
       "</pre>\n"
      ],
      "text/plain": [
       "Validation loss decreased (49.082218 --> 49.081520).  Saving model ...\n"
      ]
     },
     "metadata": {},
     "output_type": "display_data"
    },
    {
     "data": {
      "text/html": [
       "<pre style=\"white-space:pre;overflow-x:auto;line-height:normal;font-family:Menlo,'DejaVu Sans Mono',consolas,'Courier New',monospace\">[ 16/100] train_loss: 48.59856 valid_loss: 49.07990\n",
       "</pre>\n"
      ],
      "text/plain": [
       "[ 16/100] train_loss: 48.59856 valid_loss: 49.07990\n"
      ]
     },
     "metadata": {},
     "output_type": "display_data"
    },
    {
     "data": {
      "text/html": [
       "<pre style=\"white-space:pre;overflow-x:auto;line-height:normal;font-family:Menlo,'DejaVu Sans Mono',consolas,'Courier New',monospace\">Validation loss decreased (49.081520 --&gt; 49.079898).  Saving model ...\n",
       "</pre>\n"
      ],
      "text/plain": [
       "Validation loss decreased (49.081520 --> 49.079898).  Saving model ...\n"
      ]
     },
     "metadata": {},
     "output_type": "display_data"
    },
    {
     "data": {
      "text/html": [
       "<pre style=\"white-space:pre;overflow-x:auto;line-height:normal;font-family:Menlo,'DejaVu Sans Mono',consolas,'Courier New',monospace\">[ 17/100] train_loss: 48.59687 valid_loss: 49.07976\n",
       "</pre>\n"
      ],
      "text/plain": [
       "[ 17/100] train_loss: 48.59687 valid_loss: 49.07976\n"
      ]
     },
     "metadata": {},
     "output_type": "display_data"
    },
    {
     "data": {
      "text/html": [
       "<pre style=\"white-space:pre;overflow-x:auto;line-height:normal;font-family:Menlo,'DejaVu Sans Mono',consolas,'Courier New',monospace\">Validation loss decreased (49.079898 --&gt; 49.079757).  Saving model ...\n",
       "</pre>\n"
      ],
      "text/plain": [
       "Validation loss decreased (49.079898 --> 49.079757).  Saving model ...\n"
      ]
     },
     "metadata": {},
     "output_type": "display_data"
    },
    {
     "data": {
      "text/html": [
       "<pre style=\"white-space:pre;overflow-x:auto;line-height:normal;font-family:Menlo,'DejaVu Sans Mono',consolas,'Courier New',monospace\">[ 18/100] train_loss: 48.59614 valid_loss: 49.08298\n",
       "</pre>\n"
      ],
      "text/plain": [
       "[ 18/100] train_loss: 48.59614 valid_loss: 49.08298\n"
      ]
     },
     "metadata": {},
     "output_type": "display_data"
    },
    {
     "data": {
      "text/html": [
       "<pre style=\"white-space:pre;overflow-x:auto;line-height:normal;font-family:Menlo,'DejaVu Sans Mono',consolas,'Courier New',monospace\">EarlyStopping counter: 1 out of 10\n",
       "</pre>\n"
      ],
      "text/plain": [
       "EarlyStopping counter: 1 out of 10\n"
      ]
     },
     "metadata": {},
     "output_type": "display_data"
    },
    {
     "data": {
      "text/html": [
       "<pre style=\"white-space:pre;overflow-x:auto;line-height:normal;font-family:Menlo,'DejaVu Sans Mono',consolas,'Courier New',monospace\">[ 19/100] train_loss: 48.59590 valid_loss: 49.08081\n",
       "</pre>\n"
      ],
      "text/plain": [
       "[ 19/100] train_loss: 48.59590 valid_loss: 49.08081\n"
      ]
     },
     "metadata": {},
     "output_type": "display_data"
    },
    {
     "data": {
      "text/html": [
       "<pre style=\"white-space:pre;overflow-x:auto;line-height:normal;font-family:Menlo,'DejaVu Sans Mono',consolas,'Courier New',monospace\">EarlyStopping counter: 2 out of 10\n",
       "</pre>\n"
      ],
      "text/plain": [
       "EarlyStopping counter: 2 out of 10\n"
      ]
     },
     "metadata": {},
     "output_type": "display_data"
    },
    {
     "data": {
      "text/html": [
       "<pre style=\"white-space:pre;overflow-x:auto;line-height:normal;font-family:Menlo,'DejaVu Sans Mono',consolas,'Courier New',monospace\">[ 20/100] train_loss: 48.59576 valid_loss: 49.08004\n",
       "</pre>\n"
      ],
      "text/plain": [
       "[ 20/100] train_loss: 48.59576 valid_loss: 49.08004\n"
      ]
     },
     "metadata": {},
     "output_type": "display_data"
    },
    {
     "data": {
      "text/html": [
       "<pre style=\"white-space:pre;overflow-x:auto;line-height:normal;font-family:Menlo,'DejaVu Sans Mono',consolas,'Courier New',monospace\">EarlyStopping counter: 3 out of 10\n",
       "</pre>\n"
      ],
      "text/plain": [
       "EarlyStopping counter: 3 out of 10\n"
      ]
     },
     "metadata": {},
     "output_type": "display_data"
    },
    {
     "data": {
      "text/html": [
       "<pre style=\"white-space:pre;overflow-x:auto;line-height:normal;font-family:Menlo,'DejaVu Sans Mono',consolas,'Courier New',monospace\">[ 21/100] train_loss: 48.59572 valid_loss: 49.08004\n",
       "</pre>\n"
      ],
      "text/plain": [
       "[ 21/100] train_loss: 48.59572 valid_loss: 49.08004\n"
      ]
     },
     "metadata": {},
     "output_type": "display_data"
    },
    {
     "data": {
      "text/html": [
       "<pre style=\"white-space:pre;overflow-x:auto;line-height:normal;font-family:Menlo,'DejaVu Sans Mono',consolas,'Courier New',monospace\">EarlyStopping counter: 4 out of 10\n",
       "</pre>\n"
      ],
      "text/plain": [
       "EarlyStopping counter: 4 out of 10\n"
      ]
     },
     "metadata": {},
     "output_type": "display_data"
    },
    {
     "data": {
      "text/html": [
       "<pre style=\"white-space:pre;overflow-x:auto;line-height:normal;font-family:Menlo,'DejaVu Sans Mono',consolas,'Courier New',monospace\">[ 22/100] train_loss: 48.59571 valid_loss: 49.07992\n",
       "</pre>\n"
      ],
      "text/plain": [
       "[ 22/100] train_loss: 48.59571 valid_loss: 49.07992\n"
      ]
     },
     "metadata": {},
     "output_type": "display_data"
    },
    {
     "data": {
      "text/html": [
       "<pre style=\"white-space:pre;overflow-x:auto;line-height:normal;font-family:Menlo,'DejaVu Sans Mono',consolas,'Courier New',monospace\">EarlyStopping counter: 5 out of 10\n",
       "</pre>\n"
      ],
      "text/plain": [
       "EarlyStopping counter: 5 out of 10\n"
      ]
     },
     "metadata": {},
     "output_type": "display_data"
    },
    {
     "data": {
      "text/html": [
       "<pre style=\"white-space:pre;overflow-x:auto;line-height:normal;font-family:Menlo,'DejaVu Sans Mono',consolas,'Courier New',monospace\">[ 23/100] train_loss: 48.59570 valid_loss: 49.07989\n",
       "</pre>\n"
      ],
      "text/plain": [
       "[ 23/100] train_loss: 48.59570 valid_loss: 49.07989\n"
      ]
     },
     "metadata": {},
     "output_type": "display_data"
    },
    {
     "data": {
      "text/html": [
       "<pre style=\"white-space:pre;overflow-x:auto;line-height:normal;font-family:Menlo,'DejaVu Sans Mono',consolas,'Courier New',monospace\">EarlyStopping counter: 6 out of 10\n",
       "</pre>\n"
      ],
      "text/plain": [
       "EarlyStopping counter: 6 out of 10\n"
      ]
     },
     "metadata": {},
     "output_type": "display_data"
    },
    {
     "data": {
      "text/html": [
       "<pre style=\"white-space:pre;overflow-x:auto;line-height:normal;font-family:Menlo,'DejaVu Sans Mono',consolas,'Courier New',monospace\">[ 24/100] train_loss: 48.59570 valid_loss: 49.08486\n",
       "</pre>\n"
      ],
      "text/plain": [
       "[ 24/100] train_loss: 48.59570 valid_loss: 49.08486\n"
      ]
     },
     "metadata": {},
     "output_type": "display_data"
    },
    {
     "data": {
      "text/html": [
       "<pre style=\"white-space:pre;overflow-x:auto;line-height:normal;font-family:Menlo,'DejaVu Sans Mono',consolas,'Courier New',monospace\">EarlyStopping counter: 7 out of 10\n",
       "</pre>\n"
      ],
      "text/plain": [
       "EarlyStopping counter: 7 out of 10\n"
      ]
     },
     "metadata": {},
     "output_type": "display_data"
    },
    {
     "data": {
      "text/html": [
       "<pre style=\"white-space:pre;overflow-x:auto;line-height:normal;font-family:Menlo,'DejaVu Sans Mono',consolas,'Courier New',monospace\">[ 25/100] train_loss: 48.59570 valid_loss: 49.07950\n",
       "</pre>\n"
      ],
      "text/plain": [
       "[ 25/100] train_loss: 48.59570 valid_loss: 49.07950\n"
      ]
     },
     "metadata": {},
     "output_type": "display_data"
    },
    {
     "data": {
      "text/html": [
       "<pre style=\"white-space:pre;overflow-x:auto;line-height:normal;font-family:Menlo,'DejaVu Sans Mono',consolas,'Courier New',monospace\">Validation loss decreased (49.079757 --&gt; 49.079504).  Saving model ...\n",
       "</pre>\n"
      ],
      "text/plain": [
       "Validation loss decreased (49.079757 --> 49.079504).  Saving model ...\n"
      ]
     },
     "metadata": {},
     "output_type": "display_data"
    },
    {
     "data": {
      "text/html": [
       "<pre style=\"white-space:pre;overflow-x:auto;line-height:normal;font-family:Menlo,'DejaVu Sans Mono',consolas,'Courier New',monospace\">[ 26/100] train_loss: 48.59570 valid_loss: 49.08608\n",
       "</pre>\n"
      ],
      "text/plain": [
       "[ 26/100] train_loss: 48.59570 valid_loss: 49.08608\n"
      ]
     },
     "metadata": {},
     "output_type": "display_data"
    },
    {
     "data": {
      "text/html": [
       "<pre style=\"white-space:pre;overflow-x:auto;line-height:normal;font-family:Menlo,'DejaVu Sans Mono',consolas,'Courier New',monospace\">EarlyStopping counter: 1 out of 10\n",
       "</pre>\n"
      ],
      "text/plain": [
       "EarlyStopping counter: 1 out of 10\n"
      ]
     },
     "metadata": {},
     "output_type": "display_data"
    },
    {
     "data": {
      "text/html": [
       "<pre style=\"white-space:pre;overflow-x:auto;line-height:normal;font-family:Menlo,'DejaVu Sans Mono',consolas,'Courier New',monospace\">[ 27/100] train_loss: 48.59570 valid_loss: 49.08037\n",
       "</pre>\n"
      ],
      "text/plain": [
       "[ 27/100] train_loss: 48.59570 valid_loss: 49.08037\n"
      ]
     },
     "metadata": {},
     "output_type": "display_data"
    },
    {
     "data": {
      "text/html": [
       "<pre style=\"white-space:pre;overflow-x:auto;line-height:normal;font-family:Menlo,'DejaVu Sans Mono',consolas,'Courier New',monospace\">EarlyStopping counter: 2 out of 10\n",
       "</pre>\n"
      ],
      "text/plain": [
       "EarlyStopping counter: 2 out of 10\n"
      ]
     },
     "metadata": {},
     "output_type": "display_data"
    },
    {
     "data": {
      "text/html": [
       "<pre style=\"white-space:pre;overflow-x:auto;line-height:normal;font-family:Menlo,'DejaVu Sans Mono',consolas,'Courier New',monospace\">[ 28/100] train_loss: 48.59570 valid_loss: 49.07988\n",
       "</pre>\n"
      ],
      "text/plain": [
       "[ 28/100] train_loss: 48.59570 valid_loss: 49.07988\n"
      ]
     },
     "metadata": {},
     "output_type": "display_data"
    },
    {
     "data": {
      "text/html": [
       "<pre style=\"white-space:pre;overflow-x:auto;line-height:normal;font-family:Menlo,'DejaVu Sans Mono',consolas,'Courier New',monospace\">EarlyStopping counter: 3 out of 10\n",
       "</pre>\n"
      ],
      "text/plain": [
       "EarlyStopping counter: 3 out of 10\n"
      ]
     },
     "metadata": {},
     "output_type": "display_data"
    },
    {
     "data": {
      "text/html": [
       "<pre style=\"white-space:pre;overflow-x:auto;line-height:normal;font-family:Menlo,'DejaVu Sans Mono',consolas,'Courier New',monospace\">[ 29/100] train_loss: 48.59570 valid_loss: 49.08107\n",
       "</pre>\n"
      ],
      "text/plain": [
       "[ 29/100] train_loss: 48.59570 valid_loss: 49.08107\n"
      ]
     },
     "metadata": {},
     "output_type": "display_data"
    },
    {
     "data": {
      "text/html": [
       "<pre style=\"white-space:pre;overflow-x:auto;line-height:normal;font-family:Menlo,'DejaVu Sans Mono',consolas,'Courier New',monospace\">EarlyStopping counter: 4 out of 10\n",
       "</pre>\n"
      ],
      "text/plain": [
       "EarlyStopping counter: 4 out of 10\n"
      ]
     },
     "metadata": {},
     "output_type": "display_data"
    },
    {
     "data": {
      "text/html": [
       "<pre style=\"white-space:pre;overflow-x:auto;line-height:normal;font-family:Menlo,'DejaVu Sans Mono',consolas,'Courier New',monospace\">[ 30/100] train_loss: 48.59570 valid_loss: 49.08153\n",
       "</pre>\n"
      ],
      "text/plain": [
       "[ 30/100] train_loss: 48.59570 valid_loss: 49.08153\n"
      ]
     },
     "metadata": {},
     "output_type": "display_data"
    },
    {
     "data": {
      "text/html": [
       "<pre style=\"white-space:pre;overflow-x:auto;line-height:normal;font-family:Menlo,'DejaVu Sans Mono',consolas,'Courier New',monospace\">EarlyStopping counter: 5 out of 10\n",
       "</pre>\n"
      ],
      "text/plain": [
       "EarlyStopping counter: 5 out of 10\n"
      ]
     },
     "metadata": {},
     "output_type": "display_data"
    },
    {
     "data": {
      "text/html": [
       "<pre style=\"white-space:pre;overflow-x:auto;line-height:normal;font-family:Menlo,'DejaVu Sans Mono',consolas,'Courier New',monospace\">[ 31/100] train_loss: 48.59570 valid_loss: 49.08035\n",
       "</pre>\n"
      ],
      "text/plain": [
       "[ 31/100] train_loss: 48.59570 valid_loss: 49.08035\n"
      ]
     },
     "metadata": {},
     "output_type": "display_data"
    },
    {
     "data": {
      "text/html": [
       "<pre style=\"white-space:pre;overflow-x:auto;line-height:normal;font-family:Menlo,'DejaVu Sans Mono',consolas,'Courier New',monospace\">EarlyStopping counter: 6 out of 10\n",
       "</pre>\n"
      ],
      "text/plain": [
       "EarlyStopping counter: 6 out of 10\n"
      ]
     },
     "metadata": {},
     "output_type": "display_data"
    },
    {
     "data": {
      "text/html": [
       "<pre style=\"white-space:pre;overflow-x:auto;line-height:normal;font-family:Menlo,'DejaVu Sans Mono',consolas,'Courier New',monospace\">[ 32/100] train_loss: 48.59570 valid_loss: 49.08121\n",
       "</pre>\n"
      ],
      "text/plain": [
       "[ 32/100] train_loss: 48.59570 valid_loss: 49.08121\n"
      ]
     },
     "metadata": {},
     "output_type": "display_data"
    },
    {
     "data": {
      "text/html": [
       "<pre style=\"white-space:pre;overflow-x:auto;line-height:normal;font-family:Menlo,'DejaVu Sans Mono',consolas,'Courier New',monospace\">EarlyStopping counter: 7 out of 10\n",
       "</pre>\n"
      ],
      "text/plain": [
       "EarlyStopping counter: 7 out of 10\n"
      ]
     },
     "metadata": {},
     "output_type": "display_data"
    },
    {
     "data": {
      "text/html": [
       "<pre style=\"white-space:pre;overflow-x:auto;line-height:normal;font-family:Menlo,'DejaVu Sans Mono',consolas,'Courier New',monospace\">[ 33/100] train_loss: 48.59570 valid_loss: 49.07948\n",
       "</pre>\n"
      ],
      "text/plain": [
       "[ 33/100] train_loss: 48.59570 valid_loss: 49.07948\n"
      ]
     },
     "metadata": {},
     "output_type": "display_data"
    },
    {
     "data": {
      "text/html": [
       "<pre style=\"white-space:pre;overflow-x:auto;line-height:normal;font-family:Menlo,'DejaVu Sans Mono',consolas,'Courier New',monospace\">Validation loss decreased (49.079504 --&gt; 49.079478).  Saving model ...\n",
       "</pre>\n"
      ],
      "text/plain": [
       "Validation loss decreased (49.079504 --> 49.079478).  Saving model ...\n"
      ]
     },
     "metadata": {},
     "output_type": "display_data"
    },
    {
     "data": {
      "text/html": [
       "<pre style=\"white-space:pre;overflow-x:auto;line-height:normal;font-family:Menlo,'DejaVu Sans Mono',consolas,'Courier New',monospace\"></pre>\n"
      ],
      "text/plain": []
     },
     "metadata": {},
     "output_type": "display_data"
    },
    {
     "data": {
      "text/html": [
       "<pre style=\"white-space:pre;overflow-x:auto;line-height:normal;font-family:Menlo,'DejaVu Sans Mono',consolas,'Courier New',monospace\">\n",
       "</pre>\n"
      ],
      "text/plain": [
       "\n"
      ]
     },
     "metadata": {},
     "output_type": "display_data"
    },
    {
     "ename": "KeyboardInterrupt",
     "evalue": "",
     "output_type": "error",
     "traceback": [
      "\u001b[0;31m---------------------------------------------------------------------------\u001b[0m",
      "\u001b[0;31mKeyboardInterrupt\u001b[0m                         Traceback (most recent call last)",
      "\u001b[0;32m/tmp/ipykernel_2129859/2320164349.py\u001b[0m in \u001b[0;36m<module>\u001b[0;34m\u001b[0m\n\u001b[1;32m     23\u001b[0m         \u001b[0mpred_y\u001b[0m \u001b[0;34m=\u001b[0m \u001b[0mmodel_NEW\u001b[0m\u001b[0;34m(\u001b[0m\u001b[0mX\u001b[0m\u001b[0;34m)\u001b[0m\u001b[0;34m\u001b[0m\u001b[0;34m\u001b[0m\u001b[0m\n\u001b[1;32m     24\u001b[0m         \u001b[0mtemp\u001b[0m \u001b[0;34m=\u001b[0m \u001b[0mpred_y\u001b[0m\u001b[0;34m\u001b[0m\u001b[0;34m\u001b[0m\u001b[0m\n\u001b[0;32m---> 25\u001b[0;31m         \u001b[0mloss\u001b[0m \u001b[0;34m=\u001b[0m \u001b[0mcriterion\u001b[0m\u001b[0;34m(\u001b[0m\u001b[0mtorch\u001b[0m\u001b[0;34m.\u001b[0m\u001b[0msqrt\u001b[0m\u001b[0;34m(\u001b[0m\u001b[0mtorch\u001b[0m\u001b[0;34m.\u001b[0m\u001b[0msquare\u001b[0m\u001b[0;34m(\u001b[0m\u001b[0mpred_y\u001b[0m\u001b[0;34m[\u001b[0m\u001b[0;34m:\u001b[0m\u001b[0;34m,\u001b[0m\u001b[0;36m0\u001b[0m\u001b[0;34m]\u001b[0m\u001b[0;34m)\u001b[0m\u001b[0;34m+\u001b[0m\u001b[0mtorch\u001b[0m\u001b[0;34m.\u001b[0m\u001b[0msquare\u001b[0m\u001b[0;34m(\u001b[0m\u001b[0mpred_y\u001b[0m\u001b[0;34m[\u001b[0m\u001b[0;34m:\u001b[0m\u001b[0;34m,\u001b[0m\u001b[0;36m1\u001b[0m\u001b[0;34m]\u001b[0m\u001b[0;34m)\u001b[0m\u001b[0;34m)\u001b[0m\u001b[0;34m,\u001b[0m \u001b[0mtorch\u001b[0m\u001b[0;34m.\u001b[0m\u001b[0msqrt\u001b[0m\u001b[0;34m(\u001b[0m\u001b[0mtorch\u001b[0m\u001b[0;34m.\u001b[0m\u001b[0msquare\u001b[0m\u001b[0;34m(\u001b[0m\u001b[0my\u001b[0m\u001b[0;34m[\u001b[0m\u001b[0;34m:\u001b[0m\u001b[0;34m,\u001b[0m\u001b[0;36m0\u001b[0m\u001b[0;34m]\u001b[0m\u001b[0;34m)\u001b[0m\u001b[0;34m+\u001b[0m\u001b[0mtorch\u001b[0m\u001b[0;34m.\u001b[0m\u001b[0msquare\u001b[0m\u001b[0;34m(\u001b[0m\u001b[0my\u001b[0m\u001b[0;34m[\u001b[0m\u001b[0;34m:\u001b[0m\u001b[0;34m,\u001b[0m\u001b[0;36m1\u001b[0m\u001b[0;34m]\u001b[0m\u001b[0;34m)\u001b[0m\u001b[0;34m)\u001b[0m\u001b[0;34m)\u001b[0m\u001b[0;34m\u001b[0m\u001b[0;34m\u001b[0m\u001b[0m\n\u001b[0m\u001b[1;32m     26\u001b[0m         \u001b[0;31m# criterion(pred_y[:,0], y[:,0]) + criterion(pred_y[:,1], y[:,1])\u001b[0m\u001b[0;34m\u001b[0m\u001b[0;34m\u001b[0m\u001b[0m\n\u001b[1;32m     27\u001b[0m         \u001b[0mtrain_losses\u001b[0m\u001b[0;34m.\u001b[0m\u001b[0mappend\u001b[0m\u001b[0;34m(\u001b[0m\u001b[0mloss\u001b[0m\u001b[0;34m.\u001b[0m\u001b[0mitem\u001b[0m\u001b[0;34m(\u001b[0m\u001b[0;34m)\u001b[0m\u001b[0;34m)\u001b[0m\u001b[0;34m\u001b[0m\u001b[0;34m\u001b[0m\u001b[0m\n",
      "\u001b[0;31mKeyboardInterrupt\u001b[0m: "
     ]
    }
   ],
   "source": [
    "n_epochs = 100\n",
    "patience = 10\n",
    "losses = []\n",
    "pred_y = []\n",
    "train_losses = []\n",
    "\n",
    "# Track the validation loss as the model trains\n",
    "valid_losses = []\n",
    "# Track the average training loss per epoch as the model trains\n",
    "avg_train_losses = []\n",
    "# Track the average validation loss per epoch as the model trains\n",
    "avg_valid_losses = [] \n",
    "\n",
    "# Initialize the early_stopping object\n",
    "early_stopping = EarlyStopping(patience=patience, verbose=True)\n",
    "\n",
    "for epoch in track(range(n_epochs)):\n",
    "    for batch_idx, data_target in enumerate(train_loader):\n",
    "        X, y = data_target\n",
    "        \n",
    "        optimizer.zero_grad()\n",
    "        \n",
    "        pred_y = model_NEW(X)\n",
    "        temp = pred_y\n",
    "        loss = criterion(torch.sqrt(torch.square(pred_y[:,0])+torch.square(pred_y[:,1])), torch.sqrt(torch.square(y[:,0])+torch.square(y[:,1])))\n",
    "        # criterion(pred_y[:,0], y[:,0]) + criterion(pred_y[:,1], y[:,1])\n",
    "        train_losses.append(loss.item())\n",
    "        \n",
    "        loss.backward()\n",
    "        optimizer.step()\n",
    "    # Validate the model\n",
    "    model_NEW.eval() # prep model for evaluation\n",
    "    for data, target in valid_loader:\n",
    "        # forward pass: compute predicted outputs by passing inputs to the model\n",
    "        output = model_NEW(data)\n",
    "        # calculate the loss\n",
    "        loss = criterion(torch.sqrt(torch.square(output[:,0])+torch.square(output[:,1])), torch.sqrt(torch.square(target[:,0])+torch.square(target[:,1])))\n",
    "        # criterion(output[:,0], target[:,0]) + criterion(output[:,1], target[:,1])\n",
    "        # record validation loss\n",
    "        valid_losses.append(loss.item())\n",
    "\n",
    "    # print training/validation statistics \n",
    "    # calculate average loss over an epoch\n",
    "    train_loss = np.average(train_losses)\n",
    "    valid_loss = np.average(valid_losses)\n",
    "    avg_train_losses.append(train_loss)\n",
    "    avg_valid_losses.append(valid_loss)\n",
    "        \n",
    "    epoch_len = len(str(n_epochs))\n",
    "        \n",
    "    print_msg = (f'[{epoch:>{epoch_len}}/{n_epochs:>{epoch_len}}] ' +\n",
    "                     f'train_loss: {train_loss:.5f} ' +\n",
    "                     f'valid_loss: {valid_loss:.5f}')\n",
    "        \n",
    "    print(print_msg)\n",
    "        \n",
    "    # clear lists to track next epoch\n",
    "    train_losses = []\n",
    "    valid_losses = []\n",
    "        \n",
    "    # early_stopping needs the validation loss to check if it has decresed, \n",
    "    # and if it has, it will make a checkpoint of the current model\n",
    "    early_stopping(valid_loss, model_NEW)\n",
    "    \n",
    "    if early_stopping.early_stop:\n",
    "        print(\"Early stopping\")\n",
    "        break\n",
    "    \n",
    "    # Update learning rate\n",
    "    scheduler.step()\n",
    "\n",
    "# load the last checkpoint with the best model\n",
    "model_NEW.load_state_dict(torch.load('checkpoint.pt'))"
   ]
  },
  {
   "cell_type": "code",
   "execution_count": 28,
   "id": "216554f2",
   "metadata": {
    "scrolled": true
   },
   "outputs": [],
   "source": [
    "# Use the year 2015 for prediction\n",
    "mse = []\n",
    "prediction = []\n",
    "\n",
    "for i, data in enumerate(test_loader, 0):\n",
    "    X, y = data\n",
    "    \n",
    "    # Do the forward pass and get the predictions\n",
    "    pred = model_NEW(X)\n",
    "    error = criterion(torch.sqrt(torch.square(pred[:,0])+torch.square(pred[:,1])), torch.sqrt(torch.square(y[:,0])+torch.square(y[:,1])))   \n",
    "    prediction.extend(torch.sqrt(torch.square(pred[:,0])+torch.square(pred[:,1])).detach())\n",
    "    mse.append(error.item())"
   ]
  },
  {
   "cell_type": "code",
   "execution_count": 29,
   "id": "60045075",
   "metadata": {
    "scrolled": false
   },
   "outputs": [
    {
     "data": {
      "text/plain": [
       "226.24907250833738"
      ]
     },
     "execution_count": 29,
     "metadata": {},
     "output_type": "execute_result"
    }
   ],
   "source": [
    "# Calculate MSE\n",
    "sum(mse)/len(mse)"
   ]
  },
  {
   "cell_type": "code",
   "execution_count": 30,
   "id": "e7d1a046",
   "metadata": {
    "scrolled": false
   },
   "outputs": [
    {
     "data": {
      "text/plain": [
       "tensor(0.4660)"
      ]
     },
     "execution_count": 30,
     "metadata": {},
     "output_type": "execute_result"
    }
   ],
   "source": [
    "# Calculate R2\n",
    "r2score = R2Score()\n",
    "r2score(torch.stack(prediction),torch.sqrt(temp4[:,0]**2+temp4[:,1]**2))"
   ]
  },
  {
   "cell_type": "code",
   "execution_count": 45,
   "id": "a44003c2",
   "metadata": {},
   "outputs": [
    {
     "data": {
      "text/plain": [
       "Text(0.5, 1.0, 'Prediction vs True on 2015 data (NEW)')"
      ]
     },
     "execution_count": 45,
     "metadata": {},
     "output_type": "execute_result"
    },
    {
     "data": {
      "image/png": "[encoded data removed]",
      "text/plain": [
       "<Figure size 432x288 with 1 Axes>"
      ]
     },
     "metadata": {
      "needs_background": "light"
     },
     "output_type": "display_data"
    }
   ],
   "source": [
    "prediction_NEW = [tensor.item() for tensor in prediction]\n",
    "prediction_NEW = pd.DataFrame(prediction_NEW)\n",
    "prediction_NEW.index = ytest_NEW.index\n",
    "ytest_NEW['h'] = (ytest_NEW['dbn_nez']**2 + ytest_NEW['dbe_nez']**2)**(1/2)\n",
    "plt.plot(ytest_NEW['h'], label = 'Horizontal Component')\n",
    "plt.plot(prediction_NEW, label = 'Prediction')\n",
    "plt.legend(loc=\"upper right\")\n",
    "plt.title('Prediction vs True on 2015 data (NEW)')"
   ]
  },
  {
   "cell_type": "code",
   "execution_count": 46,
   "id": "e45f5945",
   "metadata": {
    "scrolled": true
   },
   "outputs": [
    {
     "data": {
      "text/plain": [
       "Text(0.5, 1.0, 'Prediction vs True on 2015-03-17 data (NEW)')"
      ]
     },
     "execution_count": 46,
     "metadata": {},
     "output_type": "execute_result"
    },
    {
     "data": {
      "image/png": "[encoded data removed]",
      "text/plain": [
       "<Figure size 432x288 with 1 Axes>"
      ]
     },
     "metadata": {
      "needs_background": "light"
     },
     "output_type": "display_data"
    }
   ],
   "source": [
    "plt.plot(ytest_NEW['h'].loc['2015-3-17':'2015-3-18'], label = 'Horizontal Component')\n",
    "plt.plot(prediction_NEW.loc['2015-3-17':'2015-3-18'], label = 'Prediction')\n",
    "plt.legend(loc=\"upper left\")\n",
    "plt.title('Prediction vs True on 2015-03-17 data (NEW)')"
   ]
  },
  {
   "cell_type": "code",
   "execution_count": 83,
   "id": "639f4a81",
   "metadata": {},
   "outputs": [
    {
     "name": "stderr",
     "output_type": "stream",
     "text": [
      "/tmp/ipykernel_2129859/3483531061.py:2: RuntimeWarning: divide by zero encountered in log10\n",
      "  y = np.log10(ytest_NEW['h'].to_numpy())\n"
     ]
    }
   ],
   "source": [
    "x = np.log10(prediction_NEW.to_numpy().T[0])\n",
    "y = np.log10(ytest_NEW['h'].to_numpy())"
   ]
  },
  {
   "cell_type": "code",
   "execution_count": 86,
   "id": "bce9d379",
   "metadata": {},
   "outputs": [],
   "source": [
    "y[y<-1] = -1"
   ]
  },
  {
   "cell_type": "code",
   "execution_count": 87,
   "id": "6c248eb0",
   "metadata": {
    "scrolled": true
   },
   "outputs": [
    {
     "data": {
      "image/png": "[encoded data removed]",
      "text/plain": [
       "<Figure size 432x288 with 2 Axes>"
      ]
     },
     "metadata": {
      "needs_background": "light"
     },
     "output_type": "display_data"
    }
   ],
   "source": [
    "import datashader as ds\n",
    "from datashader.mpl_ext import dsshow\n",
    "\n",
    "\n",
    "def using_datashader(ax, x, y):\n",
    "\n",
    "    df = pd.DataFrame(dict(x=x, y=y))\n",
    "    dsartist = dsshow(\n",
    "        df,\n",
    "        ds.Point(\"x\", \"y\"),\n",
    "        ds.count(),\n",
    "        vmin=0,\n",
    "        vmax=200,\n",
    "        norm=\"linear\",\n",
    "        aspect=\"auto\",\n",
    "        ax=ax,\n",
    "    )\n",
    "\n",
    "    plt.colorbar(dsartist)\n",
    "\n",
    "\n",
    "fig, ax = plt.subplots()\n",
    "using_datashader(ax, x, y)\n",
    "plt.xlabel(\"log10(dB_H)Predicted\", fontsize=12)\n",
    "plt.ylabel(\"log10(dB_H)\", fontsize=12)\n",
    "plt.title(\"NEW\")\n",
    "ax.axline((0, 0), slope=1, color='k')\n",
    "plt.show()"
   ]
  },
  {
   "cell_type": "code",
   "execution_count": 88,
   "id": "2fa73a07",
   "metadata": {},
   "outputs": [],
   "source": [
    "torch.save(model_NEW.state_dict(), 'model_NEW.pth')"
   ]
  },
  {
   "cell_type": "code",
   "execution_count": 225,
   "id": "b4807545",
   "metadata": {},
   "outputs": [
    {
     "data": {
      "text/plain": [
       "<All keys matched successfully>"
      ]
     },
     "execution_count": 225,
     "metadata": {},
     "output_type": "execute_result"
    }
   ],
   "source": [
    "model_NEW = Net()\n",
    "model_NEW.load_state_dict(torch.load('model_NEW.pth'))"
   ]
  },
  {
   "cell_type": "markdown",
   "id": "71f5e723",
   "metadata": {},
   "source": [
    "## OTT"
   ]
  },
  {
   "cell_type": "code",
   "execution_count": 99,
   "id": "7adc1320",
   "metadata": {
    "scrolled": true
   },
   "outputs": [],
   "source": [
    "model_OTT = Net()\n",
    "# optimizer = optim.Adam(model.parameters(), lr=0.1)\n",
    "optimizer = torch.optim.AdamW(model_OTT.parameters(), lr=0.005, weight_decay=0.01, amsgrad=False)\n",
    "scheduler = torch.optim.lr_scheduler.ExponentialLR(optimizer, gamma=0.5, last_epoch=-1, verbose=False)\n",
    "criterion = nn.MSELoss()"
   ]
  },
  {
   "cell_type": "code",
   "execution_count": 100,
   "id": "aa84fa5e",
   "metadata": {},
   "outputs": [],
   "source": [
    "# Set validation set size for early stopping and batch size\n",
    "valid_size = 0.2\n",
    "batch_size = 32\n",
    "\n",
    "# Obtain training indices that will be used for validation\n",
    "from torch.utils.data.sampler import SubsetRandomSampler"
   ]
  },
  {
   "cell_type": "code",
   "execution_count": 101,
   "id": "8047c650",
   "metadata": {},
   "outputs": [],
   "source": [
    "def get_device() -> torch.device:\n",
    "    return torch.device(\"cuda:0\") if torch.cuda.is_available() else torch.device(\"cpu\")\n",
    "\n",
    "\n",
    "def df_to_tensor(x: pd.DataFrame) -> torch:\n",
    "    return torch.from_numpy(x.values).to(get_device())"
   ]
  },
  {
   "cell_type": "code",
   "execution_count": 102,
   "id": "9f77a195",
   "metadata": {
    "scrolled": true
   },
   "outputs": [],
   "source": [
    "temp1 = df_to_tensor(train).to(torch.float32)"
   ]
  },
  {
   "cell_type": "code",
   "execution_count": 103,
   "id": "f6815291",
   "metadata": {},
   "outputs": [],
   "source": [
    "temp2 = df_to_tensor(ytrain_OTT).to(torch.float32)"
   ]
  },
  {
   "cell_type": "code",
   "execution_count": 104,
   "id": "d54d9140",
   "metadata": {},
   "outputs": [],
   "source": [
    "temp3 = df_to_tensor(test).to(torch.float32)"
   ]
  },
  {
   "cell_type": "code",
   "execution_count": 105,
   "id": "f012763e",
   "metadata": {},
   "outputs": [],
   "source": [
    "temp4 = df_to_tensor(ytest_OTT).to(torch.float32)"
   ]
  },
  {
   "cell_type": "code",
   "execution_count": 106,
   "id": "2670099d",
   "metadata": {},
   "outputs": [],
   "source": [
    "temp2 = torch.abs(temp2)\n",
    "temp4 = torch.abs(temp4)"
   ]
  },
  {
   "cell_type": "code",
   "execution_count": 107,
   "id": "e34a73ed",
   "metadata": {},
   "outputs": [],
   "source": [
    "train_tensor = data_utils.TensorDataset(temp1, temp2)\n",
    "test_tensor = data_utils.TensorDataset(temp3, temp4)"
   ]
  },
  {
   "cell_type": "code",
   "execution_count": 108,
   "id": "d28ec1ba",
   "metadata": {},
   "outputs": [],
   "source": [
    "num_train = len(train_tensor)\n",
    "indices = list(range(num_train))\n",
    "np.random.shuffle(indices)\n",
    "split = int(np.floor(valid_size * num_train))\n",
    "train_idx, valid_idx = indices[split:], indices[:split]\n",
    "\n",
    "# define samplers for obtaining training and validation batches\n",
    "train_sampler = SubsetRandomSampler(train_idx)\n",
    "valid_sampler = SubsetRandomSampler(valid_idx)\n",
    "    \n",
    "# load training data in batches\n",
    "train_loader = torch.utils.data.DataLoader(train_tensor,\n",
    "                                               batch_size=batch_size,\n",
    "                                               sampler=train_sampler,\n",
    "                                               num_workers=0)\n",
    "    \n",
    "# load validation data in batches\n",
    "valid_loader = torch.utils.data.DataLoader(train_tensor,\n",
    "                                               batch_size=batch_size,\n",
    "                                               sampler=valid_sampler,\n",
    "                                               num_workers=0)\n",
    "    \n",
    "# load test data in batches\n",
    "test_loader = torch.utils.data.DataLoader(test_tensor,\n",
    "                                              batch_size=batch_size,\n",
    "                                              num_workers=0)"
   ]
  },
  {
   "cell_type": "code",
   "execution_count": 109,
   "id": "fd70cd59",
   "metadata": {
    "scrolled": true
   },
   "outputs": [
    {
     "data": {
      "application/vnd.jupyter.widget-view+json": {
       "model_id": "026667ffb06d45059fd20c46b9804a27",
       "version_major": 2,
       "version_minor": 0
      },
      "text/plain": [
       "Output()"
      ]
     },
     "metadata": {},
     "output_type": "display_data"
    },
    {
     "data": {
      "text/html": [
       "<pre style=\"white-space:pre;overflow-x:auto;line-height:normal;font-family:Menlo,'DejaVu Sans Mono',consolas,'Courier New',monospace\">[  0/100] train_loss: 78.86528 valid_loss: 73.18919\n",
       "</pre>\n"
      ],
      "text/plain": [
       "[  0/100] train_loss: 78.86528 valid_loss: 73.18919\n"
      ]
     },
     "metadata": {},
     "output_type": "display_data"
    },
    {
     "data": {
      "text/html": [
       "<pre style=\"white-space:pre;overflow-x:auto;line-height:normal;font-family:Menlo,'DejaVu Sans Mono',consolas,'Courier New',monospace\">Validation loss decreased (inf --&gt; 73.189188).  Saving model ...\n",
       "</pre>\n"
      ],
      "text/plain": [
       "Validation loss decreased (inf --> 73.189188).  Saving model ...\n"
      ]
     },
     "metadata": {},
     "output_type": "display_data"
    },
    {
     "data": {
      "text/html": [
       "<pre style=\"white-space:pre;overflow-x:auto;line-height:normal;font-family:Menlo,'DejaVu Sans Mono',consolas,'Courier New',monospace\">[  1/100] train_loss: 69.05547 valid_loss: 65.85079\n",
       "</pre>\n"
      ],
      "text/plain": [
       "[  1/100] train_loss: 69.05547 valid_loss: 65.85079\n"
      ]
     },
     "metadata": {},
     "output_type": "display_data"
    },
    {
     "data": {
      "text/html": [
       "<pre style=\"white-space:pre;overflow-x:auto;line-height:normal;font-family:Menlo,'DejaVu Sans Mono',consolas,'Courier New',monospace\">Validation loss decreased (73.189188 --&gt; 65.850788).  Saving model ...\n",
       "</pre>\n"
      ],
      "text/plain": [
       "Validation loss decreased (73.189188 --> 65.850788).  Saving model ...\n"
      ]
     },
     "metadata": {},
     "output_type": "display_data"
    },
    {
     "data": {
      "text/html": [
       "<pre style=\"white-space:pre;overflow-x:auto;line-height:normal;font-family:Menlo,'DejaVu Sans Mono',consolas,'Courier New',monospace\">[  2/100] train_loss: 60.21377 valid_loss: 60.90778\n",
       "</pre>\n"
      ],
      "text/plain": [
       "[  2/100] train_loss: 60.21377 valid_loss: 60.90778\n"
      ]
     },
     "metadata": {},
     "output_type": "display_data"
    },
    {
     "data": {
      "text/html": [
       "<pre style=\"white-space:pre;overflow-x:auto;line-height:normal;font-family:Menlo,'DejaVu Sans Mono',consolas,'Courier New',monospace\">Validation loss decreased (65.850788 --&gt; 60.907776).  Saving model ...\n",
       "</pre>\n"
      ],
      "text/plain": [
       "Validation loss decreased (65.850788 --> 60.907776).  Saving model ...\n"
      ]
     },
     "metadata": {},
     "output_type": "display_data"
    },
    {
     "data": {
      "text/html": [
       "<pre style=\"white-space:pre;overflow-x:auto;line-height:normal;font-family:Menlo,'DejaVu Sans Mono',consolas,'Courier New',monospace\">[  3/100] train_loss: 52.41879 valid_loss: 55.12494\n",
       "</pre>\n"
      ],
      "text/plain": [
       "[  3/100] train_loss: 52.41879 valid_loss: 55.12494\n"
      ]
     },
     "metadata": {},
     "output_type": "display_data"
    },
    {
     "data": {
      "text/html": [
       "<pre style=\"white-space:pre;overflow-x:auto;line-height:normal;font-family:Menlo,'DejaVu Sans Mono',consolas,'Courier New',monospace\">Validation loss decreased (60.907776 --&gt; 55.124940).  Saving model ...\n",
       "</pre>\n"
      ],
      "text/plain": [
       "Validation loss decreased (60.907776 --> 55.124940).  Saving model ...\n"
      ]
     },
     "metadata": {},
     "output_type": "display_data"
    },
    {
     "data": {
      "text/html": [
       "<pre style=\"white-space:pre;overflow-x:auto;line-height:normal;font-family:Menlo,'DejaVu Sans Mono',consolas,'Courier New',monospace\">[  4/100] train_loss: 47.18112 valid_loss: 46.05832\n",
       "</pre>\n"
      ],
      "text/plain": [
       "[  4/100] train_loss: 47.18112 valid_loss: 46.05832\n"
      ]
     },
     "metadata": {},
     "output_type": "display_data"
    },
    {
     "data": {
      "text/html": [
       "<pre style=\"white-space:pre;overflow-x:auto;line-height:normal;font-family:Menlo,'DejaVu Sans Mono',consolas,'Courier New',monospace\">Validation loss decreased (55.124940 --&gt; 46.058316).  Saving model ...\n",
       "</pre>\n"
      ],
      "text/plain": [
       "Validation loss decreased (55.124940 --> 46.058316).  Saving model ...\n"
      ]
     },
     "metadata": {},
     "output_type": "display_data"
    },
    {
     "data": {
      "text/html": [
       "<pre style=\"white-space:pre;overflow-x:auto;line-height:normal;font-family:Menlo,'DejaVu Sans Mono',consolas,'Courier New',monospace\">[  5/100] train_loss: 43.52031 valid_loss: 43.28043\n",
       "</pre>\n"
      ],
      "text/plain": [
       "[  5/100] train_loss: 43.52031 valid_loss: 43.28043\n"
      ]
     },
     "metadata": {},
     "output_type": "display_data"
    },
    {
     "data": {
      "text/html": [
       "<pre style=\"white-space:pre;overflow-x:auto;line-height:normal;font-family:Menlo,'DejaVu Sans Mono',consolas,'Courier New',monospace\">Validation loss decreased (46.058316 --&gt; 43.280428).  Saving model ...\n",
       "</pre>\n"
      ],
      "text/plain": [
       "Validation loss decreased (46.058316 --> 43.280428).  Saving model ...\n"
      ]
     },
     "metadata": {},
     "output_type": "display_data"
    },
    {
     "data": {
      "text/html": [
       "<pre style=\"white-space:pre;overflow-x:auto;line-height:normal;font-family:Menlo,'DejaVu Sans Mono',consolas,'Courier New',monospace\">[  6/100] train_loss: 41.48892 valid_loss: 41.82469\n",
       "</pre>\n"
      ],
      "text/plain": [
       "[  6/100] train_loss: 41.48892 valid_loss: 41.82469\n"
      ]
     },
     "metadata": {},
     "output_type": "display_data"
    },
    {
     "data": {
      "text/html": [
       "<pre style=\"white-space:pre;overflow-x:auto;line-height:normal;font-family:Menlo,'DejaVu Sans Mono',consolas,'Courier New',monospace\">Validation loss decreased (43.280428 --&gt; 41.824692).  Saving model ...\n",
       "</pre>\n"
      ],
      "text/plain": [
       "Validation loss decreased (43.280428 --> 41.824692).  Saving model ...\n"
      ]
     },
     "metadata": {},
     "output_type": "display_data"
    },
    {
     "data": {
      "text/html": [
       "<pre style=\"white-space:pre;overflow-x:auto;line-height:normal;font-family:Menlo,'DejaVu Sans Mono',consolas,'Courier New',monospace\">[  7/100] train_loss: 40.40707 valid_loss: 40.83861\n",
       "</pre>\n"
      ],
      "text/plain": [
       "[  7/100] train_loss: 40.40707 valid_loss: 40.83861\n"
      ]
     },
     "metadata": {},
     "output_type": "display_data"
    },
    {
     "data": {
      "text/html": [
       "<pre style=\"white-space:pre;overflow-x:auto;line-height:normal;font-family:Menlo,'DejaVu Sans Mono',consolas,'Courier New',monospace\">Validation loss decreased (41.824692 --&gt; 40.838614).  Saving model ...\n",
       "</pre>\n"
      ],
      "text/plain": [
       "Validation loss decreased (41.824692 --> 40.838614).  Saving model ...\n"
      ]
     },
     "metadata": {},
     "output_type": "display_data"
    },
    {
     "data": {
      "text/html": [
       "<pre style=\"white-space:pre;overflow-x:auto;line-height:normal;font-family:Menlo,'DejaVu Sans Mono',consolas,'Courier New',monospace\">[  8/100] train_loss: 39.84047 valid_loss: 40.48605\n",
       "</pre>\n"
      ],
      "text/plain": [
       "[  8/100] train_loss: 39.84047 valid_loss: 40.48605\n"
      ]
     },
     "metadata": {},
     "output_type": "display_data"
    },
    {
     "data": {
      "text/html": [
       "<pre style=\"white-space:pre;overflow-x:auto;line-height:normal;font-family:Menlo,'DejaVu Sans Mono',consolas,'Courier New',monospace\">Validation loss decreased (40.838614 --&gt; 40.486052).  Saving model ...\n",
       "</pre>\n"
      ],
      "text/plain": [
       "Validation loss decreased (40.838614 --> 40.486052).  Saving model ...\n"
      ]
     },
     "metadata": {},
     "output_type": "display_data"
    },
    {
     "data": {
      "text/html": [
       "<pre style=\"white-space:pre;overflow-x:auto;line-height:normal;font-family:Menlo,'DejaVu Sans Mono',consolas,'Courier New',monospace\">[  9/100] train_loss: 39.51225 valid_loss: 40.31925\n",
       "</pre>\n"
      ],
      "text/plain": [
       "[  9/100] train_loss: 39.51225 valid_loss: 40.31925\n"
      ]
     },
     "metadata": {},
     "output_type": "display_data"
    },
    {
     "data": {
      "text/html": [
       "<pre style=\"white-space:pre;overflow-x:auto;line-height:normal;font-family:Menlo,'DejaVu Sans Mono',consolas,'Courier New',monospace\">Validation loss decreased (40.486052 --&gt; 40.319252).  Saving model ...\n",
       "</pre>\n"
      ],
      "text/plain": [
       "Validation loss decreased (40.486052 --> 40.319252).  Saving model ...\n"
      ]
     },
     "metadata": {},
     "output_type": "display_data"
    },
    {
     "data": {
      "text/html": [
       "<pre style=\"white-space:pre;overflow-x:auto;line-height:normal;font-family:Menlo,'DejaVu Sans Mono',consolas,'Courier New',monospace\">[ 10/100] train_loss: 39.40059 valid_loss: 40.25968\n",
       "</pre>\n"
      ],
      "text/plain": [
       "[ 10/100] train_loss: 39.40059 valid_loss: 40.25968\n"
      ]
     },
     "metadata": {},
     "output_type": "display_data"
    },
    {
     "data": {
      "text/html": [
       "<pre style=\"white-space:pre;overflow-x:auto;line-height:normal;font-family:Menlo,'DejaVu Sans Mono',consolas,'Courier New',monospace\">Validation loss decreased (40.319252 --&gt; 40.259679).  Saving model ...\n",
       "</pre>\n"
      ],
      "text/plain": [
       "Validation loss decreased (40.319252 --> 40.259679).  Saving model ...\n"
      ]
     },
     "metadata": {},
     "output_type": "display_data"
    },
    {
     "data": {
      "text/html": [
       "<pre style=\"white-space:pre;overflow-x:auto;line-height:normal;font-family:Menlo,'DejaVu Sans Mono',consolas,'Courier New',monospace\">[ 11/100] train_loss: 39.31819 valid_loss: 40.20368\n",
       "</pre>\n"
      ],
      "text/plain": [
       "[ 11/100] train_loss: 39.31819 valid_loss: 40.20368\n"
      ]
     },
     "metadata": {},
     "output_type": "display_data"
    },
    {
     "data": {
      "text/html": [
       "<pre style=\"white-space:pre;overflow-x:auto;line-height:normal;font-family:Menlo,'DejaVu Sans Mono',consolas,'Courier New',monospace\">Validation loss decreased (40.259679 --&gt; 40.203680).  Saving model ...\n",
       "</pre>\n"
      ],
      "text/plain": [
       "Validation loss decreased (40.259679 --> 40.203680).  Saving model ...\n"
      ]
     },
     "metadata": {},
     "output_type": "display_data"
    },
    {
     "data": {
      "text/html": [
       "<pre style=\"white-space:pre;overflow-x:auto;line-height:normal;font-family:Menlo,'DejaVu Sans Mono',consolas,'Courier New',monospace\">[ 12/100] train_loss: 39.26610 valid_loss: 40.17164\n",
       "</pre>\n"
      ],
      "text/plain": [
       "[ 12/100] train_loss: 39.26610 valid_loss: 40.17164\n"
      ]
     },
     "metadata": {},
     "output_type": "display_data"
    },
    {
     "data": {
      "text/html": [
       "<pre style=\"white-space:pre;overflow-x:auto;line-height:normal;font-family:Menlo,'DejaVu Sans Mono',consolas,'Courier New',monospace\">Validation loss decreased (40.203680 --&gt; 40.171640).  Saving model ...\n",
       "</pre>\n"
      ],
      "text/plain": [
       "Validation loss decreased (40.203680 --> 40.171640).  Saving model ...\n"
      ]
     },
     "metadata": {},
     "output_type": "display_data"
    },
    {
     "data": {
      "text/html": [
       "<pre style=\"white-space:pre;overflow-x:auto;line-height:normal;font-family:Menlo,'DejaVu Sans Mono',consolas,'Courier New',monospace\">[ 13/100] train_loss: 39.24273 valid_loss: 40.16604\n",
       "</pre>\n"
      ],
      "text/plain": [
       "[ 13/100] train_loss: 39.24273 valid_loss: 40.16604\n"
      ]
     },
     "metadata": {},
     "output_type": "display_data"
    },
    {
     "data": {
      "text/html": [
       "<pre style=\"white-space:pre;overflow-x:auto;line-height:normal;font-family:Menlo,'DejaVu Sans Mono',consolas,'Courier New',monospace\">Validation loss decreased (40.171640 --&gt; 40.166043).  Saving model ...\n",
       "</pre>\n"
      ],
      "text/plain": [
       "Validation loss decreased (40.171640 --> 40.166043).  Saving model ...\n"
      ]
     },
     "metadata": {},
     "output_type": "display_data"
    },
    {
     "data": {
      "text/html": [
       "<pre style=\"white-space:pre;overflow-x:auto;line-height:normal;font-family:Menlo,'DejaVu Sans Mono',consolas,'Courier New',monospace\">[ 14/100] train_loss: 39.22800 valid_loss: 40.15825\n",
       "</pre>\n"
      ],
      "text/plain": [
       "[ 14/100] train_loss: 39.22800 valid_loss: 40.15825\n"
      ]
     },
     "metadata": {},
     "output_type": "display_data"
    },
    {
     "data": {
      "text/html": [
       "<pre style=\"white-space:pre;overflow-x:auto;line-height:normal;font-family:Menlo,'DejaVu Sans Mono',consolas,'Courier New',monospace\">Validation loss decreased (40.166043 --&gt; 40.158249).  Saving model ...\n",
       "</pre>\n"
      ],
      "text/plain": [
       "Validation loss decreased (40.166043 --> 40.158249).  Saving model ...\n"
      ]
     },
     "metadata": {},
     "output_type": "display_data"
    },
    {
     "data": {
      "text/html": [
       "<pre style=\"white-space:pre;overflow-x:auto;line-height:normal;font-family:Menlo,'DejaVu Sans Mono',consolas,'Courier New',monospace\">[ 15/100] train_loss: 39.22167 valid_loss: 40.15676\n",
       "</pre>\n"
      ],
      "text/plain": [
       "[ 15/100] train_loss: 39.22167 valid_loss: 40.15676\n"
      ]
     },
     "metadata": {},
     "output_type": "display_data"
    },
    {
     "data": {
      "text/html": [
       "<pre style=\"white-space:pre;overflow-x:auto;line-height:normal;font-family:Menlo,'DejaVu Sans Mono',consolas,'Courier New',monospace\">Validation loss decreased (40.158249 --&gt; 40.156764).  Saving model ...\n",
       "</pre>\n"
      ],
      "text/plain": [
       "Validation loss decreased (40.158249 --> 40.156764).  Saving model ...\n"
      ]
     },
     "metadata": {},
     "output_type": "display_data"
    },
    {
     "data": {
      "text/html": [
       "<pre style=\"white-space:pre;overflow-x:auto;line-height:normal;font-family:Menlo,'DejaVu Sans Mono',consolas,'Courier New',monospace\">[ 16/100] train_loss: 39.21840 valid_loss: 40.15766\n",
       "</pre>\n"
      ],
      "text/plain": [
       "[ 16/100] train_loss: 39.21840 valid_loss: 40.15766\n"
      ]
     },
     "metadata": {},
     "output_type": "display_data"
    },
    {
     "data": {
      "text/html": [
       "<pre style=\"white-space:pre;overflow-x:auto;line-height:normal;font-family:Menlo,'DejaVu Sans Mono',consolas,'Courier New',monospace\">EarlyStopping counter: 1 out of 10\n",
       "</pre>\n"
      ],
      "text/plain": [
       "EarlyStopping counter: 1 out of 10\n"
      ]
     },
     "metadata": {},
     "output_type": "display_data"
    },
    {
     "data": {
      "text/html": [
       "<pre style=\"white-space:pre;overflow-x:auto;line-height:normal;font-family:Menlo,'DejaVu Sans Mono',consolas,'Courier New',monospace\">[ 17/100] train_loss: 39.21586 valid_loss: 40.15537\n",
       "</pre>\n"
      ],
      "text/plain": [
       "[ 17/100] train_loss: 39.21586 valid_loss: 40.15537\n"
      ]
     },
     "metadata": {},
     "output_type": "display_data"
    },
    {
     "data": {
      "text/html": [
       "<pre style=\"white-space:pre;overflow-x:auto;line-height:normal;font-family:Menlo,'DejaVu Sans Mono',consolas,'Courier New',monospace\">Validation loss decreased (40.156764 --&gt; 40.155370).  Saving model ...\n",
       "</pre>\n"
      ],
      "text/plain": [
       "Validation loss decreased (40.156764 --> 40.155370).  Saving model ...\n"
      ]
     },
     "metadata": {},
     "output_type": "display_data"
    },
    {
     "data": {
      "text/html": [
       "<pre style=\"white-space:pre;overflow-x:auto;line-height:normal;font-family:Menlo,'DejaVu Sans Mono',consolas,'Courier New',monospace\">[ 18/100] train_loss: 39.21496 valid_loss: 40.15477\n",
       "</pre>\n"
      ],
      "text/plain": [
       "[ 18/100] train_loss: 39.21496 valid_loss: 40.15477\n"
      ]
     },
     "metadata": {},
     "output_type": "display_data"
    },
    {
     "data": {
      "text/html": [
       "<pre style=\"white-space:pre;overflow-x:auto;line-height:normal;font-family:Menlo,'DejaVu Sans Mono',consolas,'Courier New',monospace\">Validation loss decreased (40.155370 --&gt; 40.154771).  Saving model ...\n",
       "</pre>\n"
      ],
      "text/plain": [
       "Validation loss decreased (40.155370 --> 40.154771).  Saving model ...\n"
      ]
     },
     "metadata": {},
     "output_type": "display_data"
    },
    {
     "data": {
      "text/html": [
       "<pre style=\"white-space:pre;overflow-x:auto;line-height:normal;font-family:Menlo,'DejaVu Sans Mono',consolas,'Courier New',monospace\">[ 19/100] train_loss: 39.21451 valid_loss: 40.15528\n",
       "</pre>\n"
      ],
      "text/plain": [
       "[ 19/100] train_loss: 39.21451 valid_loss: 40.15528\n"
      ]
     },
     "metadata": {},
     "output_type": "display_data"
    },
    {
     "data": {
      "text/html": [
       "<pre style=\"white-space:pre;overflow-x:auto;line-height:normal;font-family:Menlo,'DejaVu Sans Mono',consolas,'Courier New',monospace\">EarlyStopping counter: 1 out of 10\n",
       "</pre>\n"
      ],
      "text/plain": [
       "EarlyStopping counter: 1 out of 10\n"
      ]
     },
     "metadata": {},
     "output_type": "display_data"
    },
    {
     "data": {
      "text/html": [
       "<pre style=\"white-space:pre;overflow-x:auto;line-height:normal;font-family:Menlo,'DejaVu Sans Mono',consolas,'Courier New',monospace\">[ 20/100] train_loss: 39.21438 valid_loss: 40.15477\n",
       "</pre>\n"
      ],
      "text/plain": [
       "[ 20/100] train_loss: 39.21438 valid_loss: 40.15477\n"
      ]
     },
     "metadata": {},
     "output_type": "display_data"
    },
    {
     "data": {
      "text/html": [
       "<pre style=\"white-space:pre;overflow-x:auto;line-height:normal;font-family:Menlo,'DejaVu Sans Mono',consolas,'Courier New',monospace\">EarlyStopping counter: 2 out of 10\n",
       "</pre>\n"
      ],
      "text/plain": [
       "EarlyStopping counter: 2 out of 10\n"
      ]
     },
     "metadata": {},
     "output_type": "display_data"
    },
    {
     "data": {
      "text/html": [
       "<pre style=\"white-space:pre;overflow-x:auto;line-height:normal;font-family:Menlo,'DejaVu Sans Mono',consolas,'Courier New',monospace\">[ 21/100] train_loss: 39.21432 valid_loss: 40.15492\n",
       "</pre>\n"
      ],
      "text/plain": [
       "[ 21/100] train_loss: 39.21432 valid_loss: 40.15492\n"
      ]
     },
     "metadata": {},
     "output_type": "display_data"
    },
    {
     "data": {
      "text/html": [
       "<pre style=\"white-space:pre;overflow-x:auto;line-height:normal;font-family:Menlo,'DejaVu Sans Mono',consolas,'Courier New',monospace\">EarlyStopping counter: 3 out of 10\n",
       "</pre>\n"
      ],
      "text/plain": [
       "EarlyStopping counter: 3 out of 10\n"
      ]
     },
     "metadata": {},
     "output_type": "display_data"
    },
    {
     "data": {
      "text/html": [
       "<pre style=\"white-space:pre;overflow-x:auto;line-height:normal;font-family:Menlo,'DejaVu Sans Mono',consolas,'Courier New',monospace\">[ 22/100] train_loss: 39.21429 valid_loss: 40.15787\n",
       "</pre>\n"
      ],
      "text/plain": [
       "[ 22/100] train_loss: 39.21429 valid_loss: 40.15787\n"
      ]
     },
     "metadata": {},
     "output_type": "display_data"
    },
    {
     "data": {
      "text/html": [
       "<pre style=\"white-space:pre;overflow-x:auto;line-height:normal;font-family:Menlo,'DejaVu Sans Mono',consolas,'Courier New',monospace\">EarlyStopping counter: 4 out of 10\n",
       "</pre>\n"
      ],
      "text/plain": [
       "EarlyStopping counter: 4 out of 10\n"
      ]
     },
     "metadata": {},
     "output_type": "display_data"
    },
    {
     "data": {
      "text/html": [
       "<pre style=\"white-space:pre;overflow-x:auto;line-height:normal;font-family:Menlo,'DejaVu Sans Mono',consolas,'Courier New',monospace\">[ 23/100] train_loss: 39.21429 valid_loss: 40.15482\n",
       "</pre>\n"
      ],
      "text/plain": [
       "[ 23/100] train_loss: 39.21429 valid_loss: 40.15482\n"
      ]
     },
     "metadata": {},
     "output_type": "display_data"
    },
    {
     "data": {
      "text/html": [
       "<pre style=\"white-space:pre;overflow-x:auto;line-height:normal;font-family:Menlo,'DejaVu Sans Mono',consolas,'Courier New',monospace\">EarlyStopping counter: 5 out of 10\n",
       "</pre>\n"
      ],
      "text/plain": [
       "EarlyStopping counter: 5 out of 10\n"
      ]
     },
     "metadata": {},
     "output_type": "display_data"
    },
    {
     "data": {
      "text/html": [
       "<pre style=\"white-space:pre;overflow-x:auto;line-height:normal;font-family:Menlo,'DejaVu Sans Mono',consolas,'Courier New',monospace\">[ 24/100] train_loss: 39.21429 valid_loss: 40.15537\n",
       "</pre>\n"
      ],
      "text/plain": [
       "[ 24/100] train_loss: 39.21429 valid_loss: 40.15537\n"
      ]
     },
     "metadata": {},
     "output_type": "display_data"
    },
    {
     "data": {
      "text/html": [
       "<pre style=\"white-space:pre;overflow-x:auto;line-height:normal;font-family:Menlo,'DejaVu Sans Mono',consolas,'Courier New',monospace\">EarlyStopping counter: 6 out of 10\n",
       "</pre>\n"
      ],
      "text/plain": [
       "EarlyStopping counter: 6 out of 10\n"
      ]
     },
     "metadata": {},
     "output_type": "display_data"
    },
    {
     "data": {
      "text/html": [
       "<pre style=\"white-space:pre;overflow-x:auto;line-height:normal;font-family:Menlo,'DejaVu Sans Mono',consolas,'Courier New',monospace\">[ 25/100] train_loss: 39.21429 valid_loss: 40.15564\n",
       "</pre>\n"
      ],
      "text/plain": [
       "[ 25/100] train_loss: 39.21429 valid_loss: 40.15564\n"
      ]
     },
     "metadata": {},
     "output_type": "display_data"
    },
    {
     "data": {
      "text/html": [
       "<pre style=\"white-space:pre;overflow-x:auto;line-height:normal;font-family:Menlo,'DejaVu Sans Mono',consolas,'Courier New',monospace\">EarlyStopping counter: 7 out of 10\n",
       "</pre>\n"
      ],
      "text/plain": [
       "EarlyStopping counter: 7 out of 10\n"
      ]
     },
     "metadata": {},
     "output_type": "display_data"
    },
    {
     "data": {
      "text/html": [
       "<pre style=\"white-space:pre;overflow-x:auto;line-height:normal;font-family:Menlo,'DejaVu Sans Mono',consolas,'Courier New',monospace\">[ 26/100] train_loss: 39.21429 valid_loss: 40.16188\n",
       "</pre>\n"
      ],
      "text/plain": [
       "[ 26/100] train_loss: 39.21429 valid_loss: 40.16188\n"
      ]
     },
     "metadata": {},
     "output_type": "display_data"
    },
    {
     "data": {
      "text/html": [
       "<pre style=\"white-space:pre;overflow-x:auto;line-height:normal;font-family:Menlo,'DejaVu Sans Mono',consolas,'Courier New',monospace\">EarlyStopping counter: 8 out of 10\n",
       "</pre>\n"
      ],
      "text/plain": [
       "EarlyStopping counter: 8 out of 10\n"
      ]
     },
     "metadata": {},
     "output_type": "display_data"
    },
    {
     "data": {
      "text/html": [
       "<pre style=\"white-space:pre;overflow-x:auto;line-height:normal;font-family:Menlo,'DejaVu Sans Mono',consolas,'Courier New',monospace\">[ 27/100] train_loss: 39.21429 valid_loss: 40.15646\n",
       "</pre>\n"
      ],
      "text/plain": [
       "[ 27/100] train_loss: 39.21429 valid_loss: 40.15646\n"
      ]
     },
     "metadata": {},
     "output_type": "display_data"
    },
    {
     "data": {
      "text/html": [
       "<pre style=\"white-space:pre;overflow-x:auto;line-height:normal;font-family:Menlo,'DejaVu Sans Mono',consolas,'Courier New',monospace\">EarlyStopping counter: 9 out of 10\n",
       "</pre>\n"
      ],
      "text/plain": [
       "EarlyStopping counter: 9 out of 10\n"
      ]
     },
     "metadata": {},
     "output_type": "display_data"
    },
    {
     "data": {
      "text/html": [
       "<pre style=\"white-space:pre;overflow-x:auto;line-height:normal;font-family:Menlo,'DejaVu Sans Mono',consolas,'Courier New',monospace\">[ 28/100] train_loss: 39.21429 valid_loss: 40.15521\n",
       "</pre>\n"
      ],
      "text/plain": [
       "[ 28/100] train_loss: 39.21429 valid_loss: 40.15521\n"
      ]
     },
     "metadata": {},
     "output_type": "display_data"
    },
    {
     "data": {
      "text/html": [
       "<pre style=\"white-space:pre;overflow-x:auto;line-height:normal;font-family:Menlo,'DejaVu Sans Mono',consolas,'Courier New',monospace\">EarlyStopping counter: 10 out of 10\n",
       "</pre>\n"
      ],
      "text/plain": [
       "EarlyStopping counter: 10 out of 10\n"
      ]
     },
     "metadata": {},
     "output_type": "display_data"
    },
    {
     "data": {
      "text/html": [
       "<pre style=\"white-space:pre;overflow-x:auto;line-height:normal;font-family:Menlo,'DejaVu Sans Mono',consolas,'Courier New',monospace\">Early stopping\n",
       "</pre>\n"
      ],
      "text/plain": [
       "Early stopping\n"
      ]
     },
     "metadata": {},
     "output_type": "display_data"
    },
    {
     "data": {
      "text/html": [
       "<pre style=\"white-space:pre;overflow-x:auto;line-height:normal;font-family:Menlo,'DejaVu Sans Mono',consolas,'Courier New',monospace\"></pre>\n"
      ],
      "text/plain": []
     },
     "metadata": {},
     "output_type": "display_data"
    },
    {
     "data": {
      "text/html": [
       "<pre style=\"white-space:pre;overflow-x:auto;line-height:normal;font-family:Menlo,'DejaVu Sans Mono',consolas,'Courier New',monospace\">\n",
       "</pre>\n"
      ],
      "text/plain": [
       "\n"
      ]
     },
     "metadata": {},
     "output_type": "display_data"
    },
    {
     "data": {
      "text/plain": [
       "<All keys matched successfully>"
      ]
     },
     "execution_count": 109,
     "metadata": {},
     "output_type": "execute_result"
    }
   ],
   "source": [
    "n_epochs = 100\n",
    "patience = 10\n",
    "losses = []\n",
    "pred_y = []\n",
    "train_losses = []\n",
    "\n",
    "# Track the validation loss as the model trains\n",
    "valid_losses = []\n",
    "# Track the average training loss per epoch as the model trains\n",
    "avg_train_losses = []\n",
    "# Track the average validation loss per epoch as the model trains\n",
    "avg_valid_losses = [] \n",
    "\n",
    "# Initialize the early_stopping object\n",
    "early_stopping = EarlyStopping(patience=patience, verbose=True)\n",
    "\n",
    "for epoch in track(range(n_epochs)):\n",
    "    for batch_idx, data_target in enumerate(train_loader):\n",
    "        X, y = data_target\n",
    "        \n",
    "        optimizer.zero_grad()\n",
    "        \n",
    "        pred_y = model_OTT(X)\n",
    "        temp = pred_y\n",
    "        loss = criterion(torch.sqrt(torch.square(pred_y[:,0])+torch.square(pred_y[:,1])), torch.sqrt(torch.square(y[:,0])+torch.square(y[:,1])))\n",
    "        # criterion(pred_y[:,0], y[:,0]) + criterion(pred_y[:,1], y[:,1])\n",
    "        train_losses.append(loss.item())\n",
    "        \n",
    "        loss.backward()\n",
    "        optimizer.step()\n",
    "    # Validate the model\n",
    "    model_OTT.eval() # prep model for evaluation\n",
    "    for data, target in valid_loader:\n",
    "        # forward pass: compute predicted outputs by passing inputs to the model\n",
    "        output = model_OTT(data)\n",
    "        # calculate the loss\n",
    "        loss = criterion(torch.sqrt(torch.square(output[:,0])+torch.square(output[:,1])), torch.sqrt(torch.square(target[:,0])+torch.square(target[:,1])))\n",
    "        # criterion(output[:,0], target[:,0]) + criterion(output[:,1], target[:,1])\n",
    "        # record validation loss\n",
    "        valid_losses.append(loss.item())\n",
    "\n",
    "    # print training/validation statistics \n",
    "    # calculate average loss over an epoch\n",
    "    train_loss = np.average(train_losses)\n",
    "    valid_loss = np.average(valid_losses)\n",
    "    avg_train_losses.append(train_loss)\n",
    "    avg_valid_losses.append(valid_loss)\n",
    "        \n",
    "    epoch_len = len(str(n_epochs))\n",
    "        \n",
    "    print_msg = (f'[{epoch:>{epoch_len}}/{n_epochs:>{epoch_len}}] ' +\n",
    "                     f'train_loss: {train_loss:.5f} ' +\n",
    "                     f'valid_loss: {valid_loss:.5f}')\n",
    "        \n",
    "    print(print_msg)\n",
    "        \n",
    "    # clear lists to track next epoch\n",
    "    train_losses = []\n",
    "    valid_losses = []\n",
    "        \n",
    "    # early_stopping needs the validation loss to check if it has decresed, \n",
    "    # and if it has, it will make a checkpoint of the current model\n",
    "    early_stopping(valid_loss, model_OTT)\n",
    "    \n",
    "    if early_stopping.early_stop:\n",
    "        print(\"Early stopping\")\n",
    "        break\n",
    "    \n",
    "    # Update learning rate\n",
    "    scheduler.step()\n",
    "\n",
    "# load the last checkpoint with the best model\n",
    "model_OTT.load_state_dict(torch.load('checkpoint.pt'))"
   ]
  },
  {
   "cell_type": "code",
   "execution_count": 110,
   "id": "a861d179",
   "metadata": {
    "scrolled": true
   },
   "outputs": [],
   "source": [
    "# Use the year 2015 for prediction\n",
    "mse = []\n",
    "prediction = []\n",
    "\n",
    "for i, data in enumerate(test_loader, 0):\n",
    "    X, y = data\n",
    "    \n",
    "    # Do the forward pass and get the predictions\n",
    "    pred = model_OTT(X)\n",
    "    error = criterion(torch.sqrt(torch.square(pred[:,0])+torch.square(pred[:,1])), torch.sqrt(torch.square(y[:,0])+torch.square(y[:,1])))   \n",
    "    prediction.extend(torch.sqrt(torch.square(pred[:,0])+torch.square(pred[:,1])).detach())\n",
    "    mse.append(error.item())"
   ]
  },
  {
   "cell_type": "code",
   "execution_count": 111,
   "id": "3cf979c0",
   "metadata": {
    "scrolled": false
   },
   "outputs": [
    {
     "data": {
      "text/plain": [
       "224.2501946562871"
      ]
     },
     "execution_count": 111,
     "metadata": {},
     "output_type": "execute_result"
    }
   ],
   "source": [
    "# Calculate MSE\n",
    "sum(mse)/len(mse)"
   ]
  },
  {
   "cell_type": "code",
   "execution_count": 112,
   "id": "e2978aa8",
   "metadata": {
    "scrolled": false
   },
   "outputs": [
    {
     "data": {
      "text/plain": [
       "tensor(0.4173)"
      ]
     },
     "execution_count": 112,
     "metadata": {},
     "output_type": "execute_result"
    }
   ],
   "source": [
    "# Calculate R2\n",
    "r2score = R2Score()\n",
    "r2score(torch.stack(prediction),torch.sqrt(temp4[:,0]**2+temp4[:,1]**2))"
   ]
  },
  {
   "cell_type": "code",
   "execution_count": 113,
   "id": "665d4c93",
   "metadata": {},
   "outputs": [
    {
     "data": {
      "text/plain": [
       "Text(0.5, 1.0, 'Prediction vs True on 2015 data (OTT)')"
      ]
     },
     "execution_count": 113,
     "metadata": {},
     "output_type": "execute_result"
    },
    {
     "data": {
      "image/png": "[encoded data removed]",
      "text/plain": [
       "<Figure size 432x288 with 1 Axes>"
      ]
     },
     "metadata": {
      "needs_background": "light"
     },
     "output_type": "display_data"
    }
   ],
   "source": [
    "prediction_OTT = [tensor.item() for tensor in prediction]\n",
    "prediction_OTT = pd.DataFrame(prediction_OTT)\n",
    "prediction_OTT.index = ytest_OTT.index\n",
    "ytest_OTT['h'] = (ytest_OTT['dbn_nez']**2 + ytest_OTT['dbe_nez']**2)**(1/2)\n",
    "plt.plot(ytest_OTT['h'], label = 'Horizontal Component')\n",
    "plt.plot(prediction_OTT, label = 'Prediction')\n",
    "plt.legend(loc=\"upper right\")\n",
    "plt.title('Prediction vs True on 2015 data (OTT)')"
   ]
  },
  {
   "cell_type": "code",
   "execution_count": 114,
   "id": "d1581fcc",
   "metadata": {
    "scrolled": true
   },
   "outputs": [
    {
     "data": {
      "text/plain": [
       "Text(0.5, 1.0, 'Prediction vs True on 2015-03-17 data (OTT)')"
      ]
     },
     "execution_count": 114,
     "metadata": {},
     "output_type": "execute_result"
    },
    {
     "data": {
      "image/png": "[encoded data removed]",
      "text/plain": [
       "<Figure size 432x288 with 1 Axes>"
      ]
     },
     "metadata": {
      "needs_background": "light"
     },
     "output_type": "display_data"
    }
   ],
   "source": [
    "plt.plot(ytest_OTT['h'].loc['2015-3-17':'2015-3-18'], label = 'Horizontal Component')\n",
    "plt.plot(prediction_OTT.loc['2015-3-17':'2015-3-18'], label = 'Prediction')\n",
    "plt.legend(loc=\"upper left\")\n",
    "plt.title('Prediction vs True on 2015-03-17 data (OTT)')"
   ]
  },
  {
   "cell_type": "code",
   "execution_count": 115,
   "id": "932b6cc6",
   "metadata": {},
   "outputs": [
    {
     "name": "stderr",
     "output_type": "stream",
     "text": [
      "/tmp/ipykernel_2129859/4235726839.py:2: RuntimeWarning: divide by zero encountered in log10\n",
      "  y = np.log10(ytest_OTT['h'].to_numpy())\n"
     ]
    }
   ],
   "source": [
    "x = np.log10(prediction_OTT.to_numpy().T[0])\n",
    "y = np.log10(ytest_OTT['h'].to_numpy())"
   ]
  },
  {
   "cell_type": "code",
   "execution_count": 116,
   "id": "6fd94314",
   "metadata": {},
   "outputs": [],
   "source": [
    "y[y<-1] = -1"
   ]
  },
  {
   "cell_type": "code",
   "execution_count": 117,
   "id": "dc2574e1",
   "metadata": {
    "scrolled": true
   },
   "outputs": [
    {
     "data": {
      "image/png": "[encoded data removed]",
      "text/plain": [
       "<Figure size 432x288 with 2 Axes>"
      ]
     },
     "metadata": {
      "needs_background": "light"
     },
     "output_type": "display_data"
    }
   ],
   "source": [
    "import datashader as ds\n",
    "from datashader.mpl_ext import dsshow\n",
    "\n",
    "\n",
    "def using_datashader(ax, x, y):\n",
    "\n",
    "    df = pd.DataFrame(dict(x=x, y=y))\n",
    "    dsartist = dsshow(\n",
    "        df,\n",
    "        ds.Point(\"x\", \"y\"),\n",
    "        ds.count(),\n",
    "        vmin=0,\n",
    "        vmax=200,\n",
    "        norm=\"linear\",\n",
    "        aspect=\"auto\",\n",
    "        ax=ax,\n",
    "    )\n",
    "\n",
    "    plt.colorbar(dsartist)\n",
    "\n",
    "\n",
    "fig, ax = plt.subplots()\n",
    "using_datashader(ax, x, y)\n",
    "plt.xlabel(\"log10(dB_H)Predicted\", fontsize=12)\n",
    "plt.ylabel(\"log10(dB_H)\", fontsize=12)\n",
    "plt.title(\"OTT\")\n",
    "ax.axline((0, 0), slope=1, color='k')\n",
    "plt.show()"
   ]
  },
  {
   "cell_type": "code",
   "execution_count": 118,
   "id": "c1cfb830",
   "metadata": {},
   "outputs": [],
   "source": [
    "torch.save(model_OTT.state_dict(), 'model_OTT.pth')"
   ]
  },
  {
   "cell_type": "code",
   "execution_count": 225,
   "id": "0684f023",
   "metadata": {},
   "outputs": [
    {
     "data": {
      "text/plain": [
       "<All keys matched successfully>"
      ]
     },
     "execution_count": 225,
     "metadata": {},
     "output_type": "execute_result"
    }
   ],
   "source": [
    "model_OTT = Net()\n",
    "model_OTT.load_state_dict(torch.load('model_OTT.pth'))"
   ]
  },
  {
   "cell_type": "markdown",
   "id": "faec8320",
   "metadata": {},
   "source": [
    "## WNG"
   ]
  },
  {
   "cell_type": "code",
   "execution_count": 12,
   "id": "f648e364",
   "metadata": {
    "scrolled": true
   },
   "outputs": [],
   "source": [
    "model_WNG = Net()\n",
    "# optimizer = optim.Adam(model.parameters(), lr=0.1)\n",
    "optimizer = torch.optim.AdamW(model_WNG.parameters(), lr=0.005, weight_decay=0.01, amsgrad=False)\n",
    "scheduler = torch.optim.lr_scheduler.ExponentialLR(optimizer, gamma=0.5, last_epoch=-1, verbose=False)\n",
    "criterion = nn.MSELoss()"
   ]
  },
  {
   "cell_type": "code",
   "execution_count": 13,
   "id": "d5debe4c",
   "metadata": {},
   "outputs": [],
   "source": [
    "# Set validation set size for early stopping and batch size\n",
    "valid_size = 0.2\n",
    "batch_size = 32\n",
    "\n",
    "# Obtain training indices that will be used for validation\n",
    "from torch.utils.data.sampler import SubsetRandomSampler"
   ]
  },
  {
   "cell_type": "code",
   "execution_count": 14,
   "id": "4bf051de",
   "metadata": {},
   "outputs": [],
   "source": [
    "def get_device() -> torch.device:\n",
    "    return torch.device(\"cuda:0\") if torch.cuda.is_available() else torch.device(\"cpu\")\n",
    "\n",
    "\n",
    "def df_to_tensor(x: pd.DataFrame) -> torch:\n",
    "    return torch.from_numpy(x.values).to(get_device())"
   ]
  },
  {
   "cell_type": "code",
   "execution_count": 15,
   "id": "55975691",
   "metadata": {
    "scrolled": true
   },
   "outputs": [],
   "source": [
    "temp1 = df_to_tensor(train).to(torch.float32)"
   ]
  },
  {
   "cell_type": "code",
   "execution_count": 16,
   "id": "90ca628b",
   "metadata": {},
   "outputs": [],
   "source": [
    "temp2 = df_to_tensor(ytrain_WNG).to(torch.float32)"
   ]
  },
  {
   "cell_type": "code",
   "execution_count": 17,
   "id": "bab63ccd",
   "metadata": {},
   "outputs": [],
   "source": [
    "temp3 = df_to_tensor(test).to(torch.float32)"
   ]
  },
  {
   "cell_type": "code",
   "execution_count": 18,
   "id": "7066309f",
   "metadata": {},
   "outputs": [],
   "source": [
    "temp4 = df_to_tensor(ytest_WNG).to(torch.float32)"
   ]
  },
  {
   "cell_type": "code",
   "execution_count": 19,
   "id": "4264b448",
   "metadata": {},
   "outputs": [],
   "source": [
    "temp2 = torch.abs(temp2)\n",
    "temp4 = torch.abs(temp4)"
   ]
  },
  {
   "cell_type": "code",
   "execution_count": 20,
   "id": "e6c8d4a4",
   "metadata": {},
   "outputs": [],
   "source": [
    "train_tensor = data_utils.TensorDataset(temp1, temp2)\n",
    "test_tensor = data_utils.TensorDataset(temp3, temp4)"
   ]
  },
  {
   "cell_type": "code",
   "execution_count": 21,
   "id": "fec6d86b",
   "metadata": {},
   "outputs": [],
   "source": [
    "num_train = len(train_tensor)\n",
    "indices = list(range(num_train))\n",
    "np.random.shuffle(indices)\n",
    "split = int(np.floor(valid_size * num_train))\n",
    "train_idx, valid_idx = indices[split:], indices[:split]\n",
    "\n",
    "# define samplers for obtaining training and validation batches\n",
    "train_sampler = SubsetRandomSampler(train_idx)\n",
    "valid_sampler = SubsetRandomSampler(valid_idx)\n",
    "    \n",
    "# load training data in batches\n",
    "train_loader = torch.utils.data.DataLoader(train_tensor,\n",
    "                                               batch_size=batch_size,\n",
    "                                               sampler=train_sampler,\n",
    "                                               num_workers=0)\n",
    "    \n",
    "# load validation data in batches\n",
    "valid_loader = torch.utils.data.DataLoader(train_tensor,\n",
    "                                               batch_size=batch_size,\n",
    "                                               sampler=valid_sampler,\n",
    "                                               num_workers=0)\n",
    "    \n",
    "# load test data in batches\n",
    "test_loader = torch.utils.data.DataLoader(test_tensor,\n",
    "                                              batch_size=batch_size,\n",
    "                                              num_workers=0)"
   ]
  },
  {
   "cell_type": "code",
   "execution_count": null,
   "id": "a037ac3e",
   "metadata": {
    "scrolled": true
   },
   "outputs": [
    {
     "data": {
      "application/vnd.jupyter.widget-view+json": {
       "model_id": "9365492a8c7548198bde067a77502abd",
       "version_major": 2,
       "version_minor": 0
      },
      "text/plain": [
       "Output()"
      ]
     },
     "metadata": {},
     "output_type": "display_data"
    },
    {
     "data": {
      "text/html": [
       "<pre style=\"white-space:pre;overflow-x:auto;line-height:normal;font-family:Menlo,'DejaVu Sans Mono',consolas,'Courier New',monospace\">[  0/100] train_loss: 67.76093 valid_loss: 63.92127\n",
       "</pre>\n"
      ],
      "text/plain": [
       "[  0/100] train_loss: 67.76093 valid_loss: 63.92127\n"
      ]
     },
     "metadata": {},
     "output_type": "display_data"
    },
    {
     "data": {
      "text/html": [
       "<pre style=\"white-space:pre;overflow-x:auto;line-height:normal;font-family:Menlo,'DejaVu Sans Mono',consolas,'Courier New',monospace\">Validation loss decreased (inf --&gt; 63.921268).  Saving model ...\n",
       "</pre>\n"
      ],
      "text/plain": [
       "Validation loss decreased (inf --> 63.921268).  Saving model ...\n"
      ]
     },
     "metadata": {},
     "output_type": "display_data"
    },
    {
     "data": {
      "text/html": [
       "<pre style=\"white-space:pre;overflow-x:auto;line-height:normal;font-family:Menlo,'DejaVu Sans Mono',consolas,'Courier New',monospace\">[  1/100] train_loss: 58.72686 valid_loss: 56.80672\n",
       "</pre>\n"
      ],
      "text/plain": [
       "[  1/100] train_loss: 58.72686 valid_loss: 56.80672\n"
      ]
     },
     "metadata": {},
     "output_type": "display_data"
    },
    {
     "data": {
      "text/html": [
       "<pre style=\"white-space:pre;overflow-x:auto;line-height:normal;font-family:Menlo,'DejaVu Sans Mono',consolas,'Courier New',monospace\">Validation loss decreased (63.921268 --&gt; 56.806720).  Saving model ...\n",
       "</pre>\n"
      ],
      "text/plain": [
       "Validation loss decreased (63.921268 --> 56.806720).  Saving model ...\n"
      ]
     },
     "metadata": {},
     "output_type": "display_data"
    },
    {
     "data": {
      "text/html": [
       "<pre style=\"white-space:pre;overflow-x:auto;line-height:normal;font-family:Menlo,'DejaVu Sans Mono',consolas,'Courier New',monospace\">[  2/100] train_loss: 52.30563 valid_loss: 50.80997\n",
       "</pre>\n"
      ],
      "text/plain": [
       "[  2/100] train_loss: 52.30563 valid_loss: 50.80997\n"
      ]
     },
     "metadata": {},
     "output_type": "display_data"
    },
    {
     "data": {
      "text/html": [
       "<pre style=\"white-space:pre;overflow-x:auto;line-height:normal;font-family:Menlo,'DejaVu Sans Mono',consolas,'Courier New',monospace\">Validation loss decreased (56.806720 --&gt; 50.809973).  Saving model ...\n",
       "</pre>\n"
      ],
      "text/plain": [
       "Validation loss decreased (56.806720 --> 50.809973).  Saving model ...\n"
      ]
     },
     "metadata": {},
     "output_type": "display_data"
    },
    {
     "data": {
      "text/html": [
       "<pre style=\"white-space:pre;overflow-x:auto;line-height:normal;font-family:Menlo,'DejaVu Sans Mono',consolas,'Courier New',monospace\">[  3/100] train_loss: 47.07781 valid_loss: 47.28155\n",
       "</pre>\n"
      ],
      "text/plain": [
       "[  3/100] train_loss: 47.07781 valid_loss: 47.28155\n"
      ]
     },
     "metadata": {},
     "output_type": "display_data"
    },
    {
     "data": {
      "text/html": [
       "<pre style=\"white-space:pre;overflow-x:auto;line-height:normal;font-family:Menlo,'DejaVu Sans Mono',consolas,'Courier New',monospace\">Validation loss decreased (50.809973 --&gt; 47.281548).  Saving model ...\n",
       "</pre>\n"
      ],
      "text/plain": [
       "Validation loss decreased (50.809973 --> 47.281548).  Saving model ...\n"
      ]
     },
     "metadata": {},
     "output_type": "display_data"
    },
    {
     "data": {
      "text/html": [
       "<pre style=\"white-space:pre;overflow-x:auto;line-height:normal;font-family:Menlo,'DejaVu Sans Mono',consolas,'Courier New',monospace\">[  4/100] train_loss: 43.42445 valid_loss: 43.51736\n",
       "</pre>\n"
      ],
      "text/plain": [
       "[  4/100] train_loss: 43.42445 valid_loss: 43.51736\n"
      ]
     },
     "metadata": {},
     "output_type": "display_data"
    },
    {
     "data": {
      "text/html": [
       "<pre style=\"white-space:pre;overflow-x:auto;line-height:normal;font-family:Menlo,'DejaVu Sans Mono',consolas,'Courier New',monospace\">Validation loss decreased (47.281548 --&gt; 43.517362).  Saving model ...\n",
       "</pre>\n"
      ],
      "text/plain": [
       "Validation loss decreased (47.281548 --> 43.517362).  Saving model ...\n"
      ]
     },
     "metadata": {},
     "output_type": "display_data"
    },
    {
     "data": {
      "text/html": [
       "<pre style=\"white-space:pre;overflow-x:auto;line-height:normal;font-family:Menlo,'DejaVu Sans Mono',consolas,'Courier New',monospace\">[  5/100] train_loss: 41.13944 valid_loss: 41.91522\n",
       "</pre>\n"
      ],
      "text/plain": [
       "[  5/100] train_loss: 41.13944 valid_loss: 41.91522\n"
      ]
     },
     "metadata": {},
     "output_type": "display_data"
    },
    {
     "data": {
      "text/html": [
       "<pre style=\"white-space:pre;overflow-x:auto;line-height:normal;font-family:Menlo,'DejaVu Sans Mono',consolas,'Courier New',monospace\">Validation loss decreased (43.517362 --&gt; 41.915217).  Saving model ...\n",
       "</pre>\n"
      ],
      "text/plain": [
       "Validation loss decreased (43.517362 --> 41.915217).  Saving model ...\n"
      ]
     },
     "metadata": {},
     "output_type": "display_data"
    },
    {
     "data": {
      "text/html": [
       "<pre style=\"white-space:pre;overflow-x:auto;line-height:normal;font-family:Menlo,'DejaVu Sans Mono',consolas,'Courier New',monospace\">[  6/100] train_loss: 39.85975 valid_loss: 40.45078\n",
       "</pre>\n"
      ],
      "text/plain": [
       "[  6/100] train_loss: 39.85975 valid_loss: 40.45078\n"
      ]
     },
     "metadata": {},
     "output_type": "display_data"
    },
    {
     "data": {
      "text/html": [
       "<pre style=\"white-space:pre;overflow-x:auto;line-height:normal;font-family:Menlo,'DejaVu Sans Mono',consolas,'Courier New',monospace\">Validation loss decreased (41.915217 --&gt; 40.450784).  Saving model ...\n",
       "</pre>\n"
      ],
      "text/plain": [
       "Validation loss decreased (41.915217 --> 40.450784).  Saving model ...\n"
      ]
     },
     "metadata": {},
     "output_type": "display_data"
    },
    {
     "data": {
      "text/html": [
       "<pre style=\"white-space:pre;overflow-x:auto;line-height:normal;font-family:Menlo,'DejaVu Sans Mono',consolas,'Courier New',monospace\">[  7/100] train_loss: 39.15335 valid_loss: 40.03781\n",
       "</pre>\n"
      ],
      "text/plain": [
       "[  7/100] train_loss: 39.15335 valid_loss: 40.03781\n"
      ]
     },
     "metadata": {},
     "output_type": "display_data"
    },
    {
     "data": {
      "text/html": [
       "<pre style=\"white-space:pre;overflow-x:auto;line-height:normal;font-family:Menlo,'DejaVu Sans Mono',consolas,'Courier New',monospace\">Validation loss decreased (40.450784 --&gt; 40.037806).  Saving model ...\n",
       "</pre>\n"
      ],
      "text/plain": [
       "Validation loss decreased (40.450784 --> 40.037806).  Saving model ...\n"
      ]
     },
     "metadata": {},
     "output_type": "display_data"
    },
    {
     "data": {
      "text/html": [
       "<pre style=\"white-space:pre;overflow-x:auto;line-height:normal;font-family:Menlo,'DejaVu Sans Mono',consolas,'Courier New',monospace\">[  8/100] train_loss: 38.79341 valid_loss: 39.70116\n",
       "</pre>\n"
      ],
      "text/plain": [
       "[  8/100] train_loss: 38.79341 valid_loss: 39.70116\n"
      ]
     },
     "metadata": {},
     "output_type": "display_data"
    },
    {
     "data": {
      "text/html": [
       "<pre style=\"white-space:pre;overflow-x:auto;line-height:normal;font-family:Menlo,'DejaVu Sans Mono',consolas,'Courier New',monospace\">Validation loss decreased (40.037806 --&gt; 39.701159).  Saving model ...\n",
       "</pre>\n"
      ],
      "text/plain": [
       "Validation loss decreased (40.037806 --> 39.701159).  Saving model ...\n"
      ]
     },
     "metadata": {},
     "output_type": "display_data"
    },
    {
     "data": {
      "text/html": [
       "<pre style=\"white-space:pre;overflow-x:auto;line-height:normal;font-family:Menlo,'DejaVu Sans Mono',consolas,'Courier New',monospace\">[  9/100] train_loss: 38.59683 valid_loss: 39.56642\n",
       "</pre>\n"
      ],
      "text/plain": [
       "[  9/100] train_loss: 38.59683 valid_loss: 39.56642\n"
      ]
     },
     "metadata": {},
     "output_type": "display_data"
    },
    {
     "data": {
      "text/html": [
       "<pre style=\"white-space:pre;overflow-x:auto;line-height:normal;font-family:Menlo,'DejaVu Sans Mono',consolas,'Courier New',monospace\">Validation loss decreased (39.701159 --&gt; 39.566422).  Saving model ...\n",
       "</pre>\n"
      ],
      "text/plain": [
       "Validation loss decreased (39.701159 --> 39.566422).  Saving model ...\n"
      ]
     },
     "metadata": {},
     "output_type": "display_data"
    },
    {
     "data": {
      "text/html": [
       "<pre style=\"white-space:pre;overflow-x:auto;line-height:normal;font-family:Menlo,'DejaVu Sans Mono',consolas,'Courier New',monospace\">[ 10/100] train_loss: 38.50971 valid_loss: 39.53000\n",
       "</pre>\n"
      ],
      "text/plain": [
       "[ 10/100] train_loss: 38.50971 valid_loss: 39.53000\n"
      ]
     },
     "metadata": {},
     "output_type": "display_data"
    },
    {
     "data": {
      "text/html": [
       "<pre style=\"white-space:pre;overflow-x:auto;line-height:normal;font-family:Menlo,'DejaVu Sans Mono',consolas,'Courier New',monospace\">Validation loss decreased (39.566422 --&gt; 39.529997).  Saving model ...\n",
       "</pre>\n"
      ],
      "text/plain": [
       "Validation loss decreased (39.566422 --> 39.529997).  Saving model ...\n"
      ]
     },
     "metadata": {},
     "output_type": "display_data"
    },
    {
     "data": {
      "text/html": [
       "<pre style=\"white-space:pre;overflow-x:auto;line-height:normal;font-family:Menlo,'DejaVu Sans Mono',consolas,'Courier New',monospace\">[ 11/100] train_loss: 38.45922 valid_loss: 39.48223\n",
       "</pre>\n"
      ],
      "text/plain": [
       "[ 11/100] train_loss: 38.45922 valid_loss: 39.48223\n"
      ]
     },
     "metadata": {},
     "output_type": "display_data"
    },
    {
     "data": {
      "text/html": [
       "<pre style=\"white-space:pre;overflow-x:auto;line-height:normal;font-family:Menlo,'DejaVu Sans Mono',consolas,'Courier New',monospace\">Validation loss decreased (39.529997 --&gt; 39.482228).  Saving model ...\n",
       "</pre>\n"
      ],
      "text/plain": [
       "Validation loss decreased (39.529997 --> 39.482228).  Saving model ...\n"
      ]
     },
     "metadata": {},
     "output_type": "display_data"
    },
    {
     "data": {
      "text/html": [
       "<pre style=\"white-space:pre;overflow-x:auto;line-height:normal;font-family:Menlo,'DejaVu Sans Mono',consolas,'Courier New',monospace\">[ 12/100] train_loss: 38.42240 valid_loss: 39.50739\n",
       "</pre>\n"
      ],
      "text/plain": [
       "[ 12/100] train_loss: 38.42240 valid_loss: 39.50739\n"
      ]
     },
     "metadata": {},
     "output_type": "display_data"
    },
    {
     "data": {
      "text/html": [
       "<pre style=\"white-space:pre;overflow-x:auto;line-height:normal;font-family:Menlo,'DejaVu Sans Mono',consolas,'Courier New',monospace\">EarlyStopping counter: 1 out of 10\n",
       "</pre>\n"
      ],
      "text/plain": [
       "EarlyStopping counter: 1 out of 10\n"
      ]
     },
     "metadata": {},
     "output_type": "display_data"
    },
    {
     "data": {
      "text/html": [
       "<pre style=\"white-space:pre;overflow-x:auto;line-height:normal;font-family:Menlo,'DejaVu Sans Mono',consolas,'Courier New',monospace\">[ 13/100] train_loss: 38.40436 valid_loss: 39.46732\n",
       "</pre>\n"
      ],
      "text/plain": [
       "[ 13/100] train_loss: 38.40436 valid_loss: 39.46732\n"
      ]
     },
     "metadata": {},
     "output_type": "display_data"
    },
    {
     "data": {
      "text/html": [
       "<pre style=\"white-space:pre;overflow-x:auto;line-height:normal;font-family:Menlo,'DejaVu Sans Mono',consolas,'Courier New',monospace\">Validation loss decreased (39.482228 --&gt; 39.467320).  Saving model ...\n",
       "</pre>\n"
      ],
      "text/plain": [
       "Validation loss decreased (39.482228 --> 39.467320).  Saving model ...\n"
      ]
     },
     "metadata": {},
     "output_type": "display_data"
    },
    {
     "data": {
      "text/html": [
       "<pre style=\"white-space:pre;overflow-x:auto;line-height:normal;font-family:Menlo,'DejaVu Sans Mono',consolas,'Courier New',monospace\">[ 14/100] train_loss: 38.39493 valid_loss: 39.46379\n",
       "</pre>\n"
      ],
      "text/plain": [
       "[ 14/100] train_loss: 38.39493 valid_loss: 39.46379\n"
      ]
     },
     "metadata": {},
     "output_type": "display_data"
    },
    {
     "data": {
      "text/html": [
       "<pre style=\"white-space:pre;overflow-x:auto;line-height:normal;font-family:Menlo,'DejaVu Sans Mono',consolas,'Courier New',monospace\">Validation loss decreased (39.467320 --&gt; 39.463789).  Saving model ...\n",
       "</pre>\n"
      ],
      "text/plain": [
       "Validation loss decreased (39.467320 --> 39.463789).  Saving model ...\n"
      ]
     },
     "metadata": {},
     "output_type": "display_data"
    },
    {
     "data": {
      "text/html": [
       "<pre style=\"white-space:pre;overflow-x:auto;line-height:normal;font-family:Menlo,'DejaVu Sans Mono',consolas,'Courier New',monospace\">[ 15/100] train_loss: 38.39015 valid_loss: 39.45774\n",
       "</pre>\n"
      ],
      "text/plain": [
       "[ 15/100] train_loss: 38.39015 valid_loss: 39.45774\n"
      ]
     },
     "metadata": {},
     "output_type": "display_data"
    },
    {
     "data": {
      "text/html": [
       "<pre style=\"white-space:pre;overflow-x:auto;line-height:normal;font-family:Menlo,'DejaVu Sans Mono',consolas,'Courier New',monospace\">Validation loss decreased (39.463789 --&gt; 39.457743).  Saving model ...\n",
       "</pre>\n"
      ],
      "text/plain": [
       "Validation loss decreased (39.463789 --> 39.457743).  Saving model ...\n"
      ]
     },
     "metadata": {},
     "output_type": "display_data"
    }
   ],
   "source": [
    "n_epochs = 100\n",
    "patience = 10\n",
    "losses = []\n",
    "pred_y = []\n",
    "train_losses = []\n",
    "\n",
    "# Track the validation loss as the model trains\n",
    "valid_losses = []\n",
    "# Track the average training loss per epoch as the model trains\n",
    "avg_train_losses = []\n",
    "# Track the average validation loss per epoch as the model trains\n",
    "avg_valid_losses = [] \n",
    "\n",
    "# Initialize the early_stopping object\n",
    "early_stopping = EarlyStopping(patience=patience, verbose=True)\n",
    "\n",
    "for epoch in track(range(n_epochs)):\n",
    "    for batch_idx, data_target in enumerate(train_loader):\n",
    "        X, y = data_target\n",
    "        \n",
    "        optimizer.zero_grad()\n",
    "        \n",
    "        pred_y = model_WNG(X)\n",
    "        temp = pred_y\n",
    "        loss = criterion(torch.sqrt(torch.square(pred_y[:,0])+torch.square(pred_y[:,1])), torch.sqrt(torch.square(y[:,0])+torch.square(y[:,1])))\n",
    "        # criterion(pred_y[:,0], y[:,0]) + criterion(pred_y[:,1], y[:,1])\n",
    "        train_losses.append(loss.item())\n",
    "        \n",
    "        loss.backward()\n",
    "        optimizer.step()\n",
    "    # Validate the model\n",
    "    model_WNG.eval() # prep model for evaluation\n",
    "    for data, target in valid_loader:\n",
    "        # forward pass: compute predicted outputs by passing inputs to the model\n",
    "        output = model_WNG(data)\n",
    "        # calculate the loss\n",
    "        loss = criterion(torch.sqrt(torch.square(output[:,0])+torch.square(output[:,1])), torch.sqrt(torch.square(target[:,0])+torch.square(target[:,1])))\n",
    "        # criterion(output[:,0], target[:,0]) + criterion(output[:,1], target[:,1])\n",
    "        # record validation loss\n",
    "        valid_losses.append(loss.item())\n",
    "\n",
    "    # print training/validation statistics \n",
    "    # calculate average loss over an epoch\n",
    "    train_loss = np.average(train_losses)\n",
    "    valid_loss = np.average(valid_losses)\n",
    "    avg_train_losses.append(train_loss)\n",
    "    avg_valid_losses.append(valid_loss)\n",
    "        \n",
    "    epoch_len = len(str(n_epochs))\n",
    "        \n",
    "    print_msg = (f'[{epoch:>{epoch_len}}/{n_epochs:>{epoch_len}}] ' +\n",
    "                     f'train_loss: {train_loss:.5f} ' +\n",
    "                     f'valid_loss: {valid_loss:.5f}')\n",
    "        \n",
    "    print(print_msg)\n",
    "        \n",
    "    # clear lists to track next epoch\n",
    "    train_losses = []\n",
    "    valid_losses = []\n",
    "        \n",
    "    # early_stopping needs the validation loss to check if it has decresed, \n",
    "    # and if it has, it will make a checkpoint of the current model\n",
    "    early_stopping(valid_loss, model_WNG)\n",
    "    \n",
    "    if early_stopping.early_stop:\n",
    "        print(\"Early stopping\")\n",
    "        break\n",
    "    \n",
    "    scheduler.step()\n",
    "\n",
    "# load the last checkpoint with the best model\n",
    "model_WNG.load_state_dict(torch.load('checkpoint.pt'))"
   ]
  },
  {
   "cell_type": "code",
   "execution_count": 25,
   "id": "d9dbca1c",
   "metadata": {
    "scrolled": true
   },
   "outputs": [],
   "source": [
    "# Use the year 2015 for prediction\n",
    "mse = []\n",
    "prediction = []\n",
    "\n",
    "for i, data in enumerate(test_loader, 0):\n",
    "    X, y = data\n",
    "    \n",
    "    # Do the forward pass and get the predictions\n",
    "    pred = model_WNG(X)\n",
    "    error = criterion(torch.sqrt(torch.square(pred[:,0])+torch.square(pred[:,1])), torch.sqrt(torch.square(y[:,0])+torch.square(y[:,1])))   \n",
    "    prediction.extend(torch.sqrt(torch.square(pred[:,0])+torch.square(pred[:,1])).detach())\n",
    "    mse.append(error.item())"
   ]
  },
  {
   "cell_type": "code",
   "execution_count": 26,
   "id": "59c365dd",
   "metadata": {
    "scrolled": false
   },
   "outputs": [
    {
     "data": {
      "text/plain": [
       "178.86557363411063"
      ]
     },
     "execution_count": 26,
     "metadata": {},
     "output_type": "execute_result"
    }
   ],
   "source": [
    "# Calculate MSE\n",
    "sum(mse)/len(mse)"
   ]
  },
  {
   "cell_type": "code",
   "execution_count": 27,
   "id": "036eec08",
   "metadata": {
    "scrolled": false
   },
   "outputs": [
    {
     "data": {
      "text/plain": [
       "tensor(0.4176)"
      ]
     },
     "execution_count": 27,
     "metadata": {},
     "output_type": "execute_result"
    }
   ],
   "source": [
    "# Calculate R2\n",
    "r2score = R2Score()\n",
    "r2score(torch.stack(prediction),torch.sqrt(temp4[:,0]**2+temp4[:,1]**2))"
   ]
  },
  {
   "cell_type": "code",
   "execution_count": 28,
   "id": "0dbeb686",
   "metadata": {},
   "outputs": [
    {
     "data": {
      "text/plain": [
       "Text(0.5, 1.0, 'Prediction vs True on 2015 data (WNG)')"
      ]
     },
     "execution_count": 28,
     "metadata": {},
     "output_type": "execute_result"
    },
    {
     "data": {
      "image/png": "[encoded data removed]",
      "text/plain": [
       "<Figure size 432x288 with 1 Axes>"
      ]
     },
     "metadata": {
      "needs_background": "light"
     },
     "output_type": "display_data"
    }
   ],
   "source": [
    "prediction_WNG = [tensor.item() for tensor in prediction]\n",
    "prediction_WNG = pd.DataFrame(prediction_WNG)\n",
    "prediction_WNG.index = ytest_WNG.index\n",
    "ytest_WNG['h'] = (ytest_WNG['dbn_nez']**2 + ytest_WNG['dbe_nez']**2)**(1/2)\n",
    "plt.plot(ytest_WNG['h'], label = 'Horizontal Component')\n",
    "plt.plot(prediction_WNG, label = 'Prediction')\n",
    "plt.legend(loc=\"upper right\")\n",
    "plt.title('Prediction vs True on 2015 data (WNG)')"
   ]
  },
  {
   "cell_type": "code",
   "execution_count": 29,
   "id": "81e3bee3",
   "metadata": {
    "scrolled": true
   },
   "outputs": [
    {
     "data": {
      "text/plain": [
       "Text(0.5, 1.0, 'Prediction vs True on 2015-03-17 data (WNG)')"
      ]
     },
     "execution_count": 29,
     "metadata": {},
     "output_type": "execute_result"
    },
    {
     "data": {
      "image/png": "[encoded data removed]",
      "text/plain": [
       "<Figure size 432x288 with 1 Axes>"
      ]
     },
     "metadata": {
      "needs_background": "light"
     },
     "output_type": "display_data"
    }
   ],
   "source": [
    "plt.plot(ytest_WNG['h'].loc['2015-3-17':'2015-3-18'], label = 'Horizontal Component')\n",
    "plt.plot(prediction_WNG.loc['2015-3-17':'2015-3-18'], label = 'Prediction')\n",
    "plt.legend(loc=\"upper left\")\n",
    "plt.title('Prediction vs True on 2015-03-17 data (WNG)')"
   ]
  },
  {
   "cell_type": "code",
   "execution_count": 30,
   "id": "42ffc46d",
   "metadata": {},
   "outputs": [
    {
     "name": "stderr",
     "output_type": "stream",
     "text": [
      "/tmp/ipykernel_580294/309712772.py:2: RuntimeWarning: divide by zero encountered in log10\n",
      "  y = np.log10(ytest_WNG['h'].to_numpy())\n"
     ]
    }
   ],
   "source": [
    "x = np.log10(prediction_WNG.to_numpy().T[0])\n",
    "y = np.log10(ytest_WNG['h'].to_numpy())"
   ]
  },
  {
   "cell_type": "code",
   "execution_count": 31,
   "id": "102e6f20",
   "metadata": {},
   "outputs": [],
   "source": [
    "y[y<-1] = -1"
   ]
  },
  {
   "cell_type": "code",
   "execution_count": 32,
   "id": "b92b366e",
   "metadata": {
    "scrolled": true
   },
   "outputs": [
    {
     "data": {
      "image/png": "[encoded data removed]",
      "text/plain": [
       "<Figure size 432x288 with 2 Axes>"
      ]
     },
     "metadata": {
      "needs_background": "light"
     },
     "output_type": "display_data"
    }
   ],
   "source": [
    "import datashader as ds\n",
    "from datashader.mpl_ext import dsshow\n",
    "\n",
    "\n",
    "def using_datashader(ax, x, y):\n",
    "\n",
    "    df = pd.DataFrame(dict(x=x, y=y))\n",
    "    dsartist = dsshow(\n",
    "        df,\n",
    "        ds.Point(\"x\", \"y\"),\n",
    "        ds.count(),\n",
    "        vmin=0,\n",
    "        vmax=200,\n",
    "        norm=\"linear\",\n",
    "        aspect=\"auto\",\n",
    "        ax=ax,\n",
    "    )\n",
    "\n",
    "    plt.colorbar(dsartist)\n",
    "\n",
    "\n",
    "fig, ax = plt.subplots()\n",
    "using_datashader(ax, x, y)\n",
    "plt.xlabel(\"log10(dB_H)Predicted\", fontsize=12)\n",
    "plt.ylabel(\"log10(dB_H)\", fontsize=12)\n",
    "plt.title(\"WNG\")\n",
    "ax.axline((0, 0), slope=1, color='k')\n",
    "plt.show()"
   ]
  },
  {
   "cell_type": "code",
   "execution_count": 33,
   "id": "d26c6acb",
   "metadata": {},
   "outputs": [],
   "source": [
    "torch.save(model_WNG.state_dict(), 'model_WNG.pth')"
   ]
  },
  {
   "cell_type": "code",
   "execution_count": 34,
   "id": "24ca2ddf",
   "metadata": {},
   "outputs": [
    {
     "data": {
      "text/plain": [
       "<All keys matched successfully>"
      ]
     },
     "execution_count": 34,
     "metadata": {},
     "output_type": "execute_result"
    }
   ],
   "source": [
    "model_WNG = Net()\n",
    "model_WNG.load_state_dict(torch.load('model_WNG.pth'))"
   ]
  },
  {
   "cell_type": "markdown",
   "id": "7a21b4bc",
   "metadata": {},
   "source": [
    "## ABK"
   ]
  },
  {
   "cell_type": "code",
   "execution_count": 46,
   "id": "84b289d3",
   "metadata": {
    "scrolled": true
   },
   "outputs": [],
   "source": [
    "model_ABK = Net()\n",
    "# optimizer = optim.Adam(model.parameters(), lr=0.1)\n",
    "optimizer = torch.optim.AdamW(model_ABK.parameters(), lr=0.005, weight_decay=0.01, amsgrad=False)\n",
    "scheduler = torch.optim.lr_scheduler.ExponentialLR(optimizer, gamma=0.5, last_epoch=-1, verbose=False)\n",
    "criterion = nn.MSELoss()"
   ]
  },
  {
   "cell_type": "code",
   "execution_count": 47,
   "id": "c76af574",
   "metadata": {},
   "outputs": [],
   "source": [
    "# Set validation set size for early stopping and batch size\n",
    "valid_size = 0.2\n",
    "batch_size = 32\n",
    "\n",
    "# Obtain training indices that will be used for validation\n",
    "from torch.utils.data.sampler import SubsetRandomSampler"
   ]
  },
  {
   "cell_type": "code",
   "execution_count": 48,
   "id": "b9b9eab4",
   "metadata": {},
   "outputs": [],
   "source": [
    "def get_device() -> torch.device:\n",
    "    return torch.device(\"cuda:0\") if torch.cuda.is_available() else torch.device(\"cpu\")\n",
    "\n",
    "\n",
    "def df_to_tensor(x: pd.DataFrame) -> torch:\n",
    "    return torch.from_numpy(x.values).to(get_device())"
   ]
  },
  {
   "cell_type": "code",
   "execution_count": 49,
   "id": "5b475786",
   "metadata": {
    "scrolled": true
   },
   "outputs": [],
   "source": [
    "temp1 = df_to_tensor(train).to(torch.float32)"
   ]
  },
  {
   "cell_type": "code",
   "execution_count": 50,
   "id": "4b98026c",
   "metadata": {},
   "outputs": [],
   "source": [
    "temp2 = df_to_tensor(ytrain_ABK).to(torch.float32)"
   ]
  },
  {
   "cell_type": "code",
   "execution_count": 51,
   "id": "56d59dda",
   "metadata": {},
   "outputs": [],
   "source": [
    "temp3 = df_to_tensor(test).to(torch.float32)"
   ]
  },
  {
   "cell_type": "code",
   "execution_count": 52,
   "id": "bcbd2674",
   "metadata": {},
   "outputs": [],
   "source": [
    "temp4 = df_to_tensor(ytest_ABK).to(torch.float32)"
   ]
  },
  {
   "cell_type": "code",
   "execution_count": 53,
   "id": "6a701c27",
   "metadata": {},
   "outputs": [],
   "source": [
    "temp2 = torch.abs(temp2)\n",
    "temp4 = torch.abs(temp4)"
   ]
  },
  {
   "cell_type": "code",
   "execution_count": 54,
   "id": "6641e2af",
   "metadata": {},
   "outputs": [],
   "source": [
    "train_tensor = data_utils.TensorDataset(temp1, temp2)\n",
    "test_tensor = data_utils.TensorDataset(temp3, temp4)"
   ]
  },
  {
   "cell_type": "code",
   "execution_count": 55,
   "id": "52a34236",
   "metadata": {},
   "outputs": [],
   "source": [
    "num_train = len(train_tensor)\n",
    "indices = list(range(num_train))\n",
    "np.random.shuffle(indices)\n",
    "split = int(np.floor(valid_size * num_train))\n",
    "train_idx, valid_idx = indices[split:], indices[:split]\n",
    "\n",
    "# define samplers for obtaining training and validation batches\n",
    "train_sampler = SubsetRandomSampler(train_idx)\n",
    "valid_sampler = SubsetRandomSampler(valid_idx)\n",
    "    \n",
    "# load training data in batches\n",
    "train_loader = torch.utils.data.DataLoader(train_tensor,\n",
    "                                               batch_size=batch_size,\n",
    "                                               sampler=train_sampler,\n",
    "                                               num_workers=0)\n",
    "    \n",
    "# load validation data in batches\n",
    "valid_loader = torch.utils.data.DataLoader(train_tensor,\n",
    "                                               batch_size=batch_size,\n",
    "                                               sampler=valid_sampler,\n",
    "                                               num_workers=0)\n",
    "    \n",
    "# load test data in batches\n",
    "test_loader = torch.utils.data.DataLoader(test_tensor,\n",
    "                                              batch_size=batch_size,\n",
    "                                              num_workers=0)"
   ]
  },
  {
   "cell_type": "code",
   "execution_count": 56,
   "id": "28837c59",
   "metadata": {
    "scrolled": true
   },
   "outputs": [
    {
     "data": {
      "application/vnd.jupyter.widget-view+json": {
       "model_id": "39b0279de0cc439ea59a4ac58a851a30",
       "version_major": 2,
       "version_minor": 0
      },
      "text/plain": [
       "Output()"
      ]
     },
     "metadata": {},
     "output_type": "display_data"
    },
    {
     "data": {
      "text/html": [
       "<pre style=\"white-space:pre;overflow-x:auto;line-height:normal;font-family:Menlo,'DejaVu Sans Mono',consolas,'Courier New',monospace\">[  0/100] train_loss: 2666.70613 valid_loss: 2535.81621\n",
       "</pre>\n"
      ],
      "text/plain": [
       "[  0/100] train_loss: 2666.70613 valid_loss: 2535.81621\n"
      ]
     },
     "metadata": {},
     "output_type": "display_data"
    },
    {
     "data": {
      "text/html": [
       "<pre style=\"white-space:pre;overflow-x:auto;line-height:normal;font-family:Menlo,'DejaVu Sans Mono',consolas,'Courier New',monospace\">Validation loss decreased (inf --&gt; 2535.816211).  Saving model ...\n",
       "</pre>\n"
      ],
      "text/plain": [
       "Validation loss decreased (inf --> 2535.816211).  Saving model ...\n"
      ]
     },
     "metadata": {},
     "output_type": "display_data"
    },
    {
     "data": {
      "text/html": [
       "<pre style=\"white-space:pre;overflow-x:auto;line-height:normal;font-family:Menlo,'DejaVu Sans Mono',consolas,'Courier New',monospace\">[  1/100] train_loss: 2280.48684 valid_loss: 2186.60145\n",
       "</pre>\n"
      ],
      "text/plain": [
       "[  1/100] train_loss: 2280.48684 valid_loss: 2186.60145\n"
      ]
     },
     "metadata": {},
     "output_type": "display_data"
    },
    {
     "data": {
      "text/html": [
       "<pre style=\"white-space:pre;overflow-x:auto;line-height:normal;font-family:Menlo,'DejaVu Sans Mono',consolas,'Courier New',monospace\">Validation loss decreased (2535.816211 --&gt; 2186.601452).  Saving model ...\n",
       "</pre>\n"
      ],
      "text/plain": [
       "Validation loss decreased (2535.816211 --> 2186.601452).  Saving model ...\n"
      ]
     },
     "metadata": {},
     "output_type": "display_data"
    },
    {
     "data": {
      "text/html": [
       "<pre style=\"white-space:pre;overflow-x:auto;line-height:normal;font-family:Menlo,'DejaVu Sans Mono',consolas,'Courier New',monospace\">[  2/100] train_loss: 1929.14129 valid_loss: 1988.41460\n",
       "</pre>\n"
      ],
      "text/plain": [
       "[  2/100] train_loss: 1929.14129 valid_loss: 1988.41460\n"
      ]
     },
     "metadata": {},
     "output_type": "display_data"
    },
    {
     "data": {
      "text/html": [
       "<pre style=\"white-space:pre;overflow-x:auto;line-height:normal;font-family:Menlo,'DejaVu Sans Mono',consolas,'Courier New',monospace\">Validation loss decreased (2186.601452 --&gt; 1988.414600).  Saving model ...\n",
       "</pre>\n"
      ],
      "text/plain": [
       "Validation loss decreased (2186.601452 --> 1988.414600).  Saving model ...\n"
      ]
     },
     "metadata": {},
     "output_type": "display_data"
    },
    {
     "data": {
      "text/html": [
       "<pre style=\"white-space:pre;overflow-x:auto;line-height:normal;font-family:Menlo,'DejaVu Sans Mono',consolas,'Courier New',monospace\">[  3/100] train_loss: 1622.39687 valid_loss: 1579.19510\n",
       "</pre>\n"
      ],
      "text/plain": [
       "[  3/100] train_loss: 1622.39687 valid_loss: 1579.19510\n"
      ]
     },
     "metadata": {},
     "output_type": "display_data"
    },
    {
     "data": {
      "text/html": [
       "<pre style=\"white-space:pre;overflow-x:auto;line-height:normal;font-family:Menlo,'DejaVu Sans Mono',consolas,'Courier New',monospace\">Validation loss decreased (1988.414600 --&gt; 1579.195104).  Saving model ...\n",
       "</pre>\n"
      ],
      "text/plain": [
       "Validation loss decreased (1988.414600 --> 1579.195104).  Saving model ...\n"
      ]
     },
     "metadata": {},
     "output_type": "display_data"
    },
    {
     "data": {
      "text/html": [
       "<pre style=\"white-space:pre;overflow-x:auto;line-height:normal;font-family:Menlo,'DejaVu Sans Mono',consolas,'Courier New',monospace\">[  4/100] train_loss: 1396.09627 valid_loss: 1379.71116\n",
       "</pre>\n"
      ],
      "text/plain": [
       "[  4/100] train_loss: 1396.09627 valid_loss: 1379.71116\n"
      ]
     },
     "metadata": {},
     "output_type": "display_data"
    },
    {
     "data": {
      "text/html": [
       "<pre style=\"white-space:pre;overflow-x:auto;line-height:normal;font-family:Menlo,'DejaVu Sans Mono',consolas,'Courier New',monospace\">Validation loss decreased (1579.195104 --&gt; 1379.711156).  Saving model ...\n",
       "</pre>\n"
      ],
      "text/plain": [
       "Validation loss decreased (1579.195104 --> 1379.711156).  Saving model ...\n"
      ]
     },
     "metadata": {},
     "output_type": "display_data"
    },
    {
     "data": {
      "text/html": [
       "<pre style=\"white-space:pre;overflow-x:auto;line-height:normal;font-family:Menlo,'DejaVu Sans Mono',consolas,'Courier New',monospace\">[  5/100] train_loss: 1250.60697 valid_loss: 1245.86952\n",
       "</pre>\n"
      ],
      "text/plain": [
       "[  5/100] train_loss: 1250.60697 valid_loss: 1245.86952\n"
      ]
     },
     "metadata": {},
     "output_type": "display_data"
    },
    {
     "data": {
      "text/html": [
       "<pre style=\"white-space:pre;overflow-x:auto;line-height:normal;font-family:Menlo,'DejaVu Sans Mono',consolas,'Courier New',monospace\">Validation loss decreased (1379.711156 --&gt; 1245.869521).  Saving model ...\n",
       "</pre>\n"
      ],
      "text/plain": [
       "Validation loss decreased (1379.711156 --> 1245.869521).  Saving model ...\n"
      ]
     },
     "metadata": {},
     "output_type": "display_data"
    },
    {
     "data": {
      "text/html": [
       "<pre style=\"white-space:pre;overflow-x:auto;line-height:normal;font-family:Menlo,'DejaVu Sans Mono',consolas,'Courier New',monospace\">[  6/100] train_loss: 1168.11143 valid_loss: 1182.63254\n",
       "</pre>\n"
      ],
      "text/plain": [
       "[  6/100] train_loss: 1168.11143 valid_loss: 1182.63254\n"
      ]
     },
     "metadata": {},
     "output_type": "display_data"
    },
    {
     "data": {
      "text/html": [
       "<pre style=\"white-space:pre;overflow-x:auto;line-height:normal;font-family:Menlo,'DejaVu Sans Mono',consolas,'Courier New',monospace\">Validation loss decreased (1245.869521 --&gt; 1182.632543).  Saving model ...\n",
       "</pre>\n"
      ],
      "text/plain": [
       "Validation loss decreased (1245.869521 --> 1182.632543).  Saving model ...\n"
      ]
     },
     "metadata": {},
     "output_type": "display_data"
    },
    {
     "data": {
      "text/html": [
       "<pre style=\"white-space:pre;overflow-x:auto;line-height:normal;font-family:Menlo,'DejaVu Sans Mono',consolas,'Courier New',monospace\">[  7/100] train_loss: 1121.87413 valid_loss: 1164.86948\n",
       "</pre>\n"
      ],
      "text/plain": [
       "[  7/100] train_loss: 1121.87413 valid_loss: 1164.86948\n"
      ]
     },
     "metadata": {},
     "output_type": "display_data"
    },
    {
     "data": {
      "text/html": [
       "<pre style=\"white-space:pre;overflow-x:auto;line-height:normal;font-family:Menlo,'DejaVu Sans Mono',consolas,'Courier New',monospace\">Validation loss decreased (1182.632543 --&gt; 1164.869480).  Saving model ...\n",
       "</pre>\n"
      ],
      "text/plain": [
       "Validation loss decreased (1182.632543 --> 1164.869480).  Saving model ...\n"
      ]
     },
     "metadata": {},
     "output_type": "display_data"
    },
    {
     "data": {
      "text/html": [
       "<pre style=\"white-space:pre;overflow-x:auto;line-height:normal;font-family:Menlo,'DejaVu Sans Mono',consolas,'Courier New',monospace\">[  8/100] train_loss: 1098.40468 valid_loss: 1139.64756\n",
       "</pre>\n"
      ],
      "text/plain": [
       "[  8/100] train_loss: 1098.40468 valid_loss: 1139.64756\n"
      ]
     },
     "metadata": {},
     "output_type": "display_data"
    },
    {
     "data": {
      "text/html": [
       "<pre style=\"white-space:pre;overflow-x:auto;line-height:normal;font-family:Menlo,'DejaVu Sans Mono',consolas,'Courier New',monospace\">Validation loss decreased (1164.869480 --&gt; 1139.647559).  Saving model ...\n",
       "</pre>\n"
      ],
      "text/plain": [
       "Validation loss decreased (1164.869480 --> 1139.647559).  Saving model ...\n"
      ]
     },
     "metadata": {},
     "output_type": "display_data"
    },
    {
     "data": {
      "text/html": [
       "<pre style=\"white-space:pre;overflow-x:auto;line-height:normal;font-family:Menlo,'DejaVu Sans Mono',consolas,'Courier New',monospace\">[  9/100] train_loss: 1085.88241 valid_loss: 1130.96716\n",
       "</pre>\n"
      ],
      "text/plain": [
       "[  9/100] train_loss: 1085.88241 valid_loss: 1130.96716\n"
      ]
     },
     "metadata": {},
     "output_type": "display_data"
    },
    {
     "data": {
      "text/html": [
       "<pre style=\"white-space:pre;overflow-x:auto;line-height:normal;font-family:Menlo,'DejaVu Sans Mono',consolas,'Courier New',monospace\">Validation loss decreased (1139.647559 --&gt; 1130.967158).  Saving model ...\n",
       "</pre>\n"
      ],
      "text/plain": [
       "Validation loss decreased (1139.647559 --> 1130.967158).  Saving model ...\n"
      ]
     },
     "metadata": {},
     "output_type": "display_data"
    },
    {
     "data": {
      "text/html": [
       "<pre style=\"white-space:pre;overflow-x:auto;line-height:normal;font-family:Menlo,'DejaVu Sans Mono',consolas,'Courier New',monospace\">[ 10/100] train_loss: 1079.96229 valid_loss: 1129.91317\n",
       "</pre>\n"
      ],
      "text/plain": [
       "[ 10/100] train_loss: 1079.96229 valid_loss: 1129.91317\n"
      ]
     },
     "metadata": {},
     "output_type": "display_data"
    },
    {
     "data": {
      "text/html": [
       "<pre style=\"white-space:pre;overflow-x:auto;line-height:normal;font-family:Menlo,'DejaVu Sans Mono',consolas,'Courier New',monospace\">Validation loss decreased (1130.967158 --&gt; 1129.913174).  Saving model ...\n",
       "</pre>\n"
      ],
      "text/plain": [
       "Validation loss decreased (1130.967158 --> 1129.913174).  Saving model ...\n"
      ]
     },
     "metadata": {},
     "output_type": "display_data"
    },
    {
     "data": {
      "text/html": [
       "<pre style=\"white-space:pre;overflow-x:auto;line-height:normal;font-family:Menlo,'DejaVu Sans Mono',consolas,'Courier New',monospace\">[ 11/100] train_loss: 1076.81613 valid_loss: 1127.32872\n",
       "</pre>\n"
      ],
      "text/plain": [
       "[ 11/100] train_loss: 1076.81613 valid_loss: 1127.32872\n"
      ]
     },
     "metadata": {},
     "output_type": "display_data"
    },
    {
     "data": {
      "text/html": [
       "<pre style=\"white-space:pre;overflow-x:auto;line-height:normal;font-family:Menlo,'DejaVu Sans Mono',consolas,'Courier New',monospace\">Validation loss decreased (1129.913174 --&gt; 1127.328724).  Saving model ...\n",
       "</pre>\n"
      ],
      "text/plain": [
       "Validation loss decreased (1129.913174 --> 1127.328724).  Saving model ...\n"
      ]
     },
     "metadata": {},
     "output_type": "display_data"
    },
    {
     "data": {
      "text/html": [
       "<pre style=\"white-space:pre;overflow-x:auto;line-height:normal;font-family:Menlo,'DejaVu Sans Mono',consolas,'Courier New',monospace\">[ 12/100] train_loss: 1074.41035 valid_loss: 1126.26455\n",
       "</pre>\n"
      ],
      "text/plain": [
       "[ 12/100] train_loss: 1074.41035 valid_loss: 1126.26455\n"
      ]
     },
     "metadata": {},
     "output_type": "display_data"
    },
    {
     "data": {
      "text/html": [
       "<pre style=\"white-space:pre;overflow-x:auto;line-height:normal;font-family:Menlo,'DejaVu Sans Mono',consolas,'Courier New',monospace\">Validation loss decreased (1127.328724 --&gt; 1126.264545).  Saving model ...\n",
       "</pre>\n"
      ],
      "text/plain": [
       "Validation loss decreased (1127.328724 --> 1126.264545).  Saving model ...\n"
      ]
     },
     "metadata": {},
     "output_type": "display_data"
    },
    {
     "data": {
      "text/html": [
       "<pre style=\"white-space:pre;overflow-x:auto;line-height:normal;font-family:Menlo,'DejaVu Sans Mono',consolas,'Courier New',monospace\">[ 13/100] train_loss: 1073.29831 valid_loss: 1125.83773\n",
       "</pre>\n"
      ],
      "text/plain": [
       "[ 13/100] train_loss: 1073.29831 valid_loss: 1125.83773\n"
      ]
     },
     "metadata": {},
     "output_type": "display_data"
    },
    {
     "data": {
      "text/html": [
       "<pre style=\"white-space:pre;overflow-x:auto;line-height:normal;font-family:Menlo,'DejaVu Sans Mono',consolas,'Courier New',monospace\">Validation loss decreased (1126.264545 --&gt; 1125.837734).  Saving model ...\n",
       "</pre>\n"
      ],
      "text/plain": [
       "Validation loss decreased (1126.264545 --> 1125.837734).  Saving model ...\n"
      ]
     },
     "metadata": {},
     "output_type": "display_data"
    },
    {
     "data": {
      "text/html": [
       "<pre style=\"white-space:pre;overflow-x:auto;line-height:normal;font-family:Menlo,'DejaVu Sans Mono',consolas,'Courier New',monospace\">[ 14/100] train_loss: 1072.68004 valid_loss: 1125.56314\n",
       "</pre>\n"
      ],
      "text/plain": [
       "[ 14/100] train_loss: 1072.68004 valid_loss: 1125.56314\n"
      ]
     },
     "metadata": {},
     "output_type": "display_data"
    },
    {
     "data": {
      "text/html": [
       "<pre style=\"white-space:pre;overflow-x:auto;line-height:normal;font-family:Menlo,'DejaVu Sans Mono',consolas,'Courier New',monospace\">Validation loss decreased (1125.837734 --&gt; 1125.563137).  Saving model ...\n",
       "</pre>\n"
      ],
      "text/plain": [
       "Validation loss decreased (1125.837734 --> 1125.563137).  Saving model ...\n"
      ]
     },
     "metadata": {},
     "output_type": "display_data"
    },
    {
     "data": {
      "text/html": [
       "<pre style=\"white-space:pre;overflow-x:auto;line-height:normal;font-family:Menlo,'DejaVu Sans Mono',consolas,'Courier New',monospace\">[ 15/100] train_loss: 1072.38621 valid_loss: 1125.43436\n",
       "</pre>\n"
      ],
      "text/plain": [
       "[ 15/100] train_loss: 1072.38621 valid_loss: 1125.43436\n"
      ]
     },
     "metadata": {},
     "output_type": "display_data"
    },
    {
     "data": {
      "text/html": [
       "<pre style=\"white-space:pre;overflow-x:auto;line-height:normal;font-family:Menlo,'DejaVu Sans Mono',consolas,'Courier New',monospace\">Validation loss decreased (1125.563137 --&gt; 1125.434365).  Saving model ...\n",
       "</pre>\n"
      ],
      "text/plain": [
       "Validation loss decreased (1125.563137 --> 1125.434365).  Saving model ...\n"
      ]
     },
     "metadata": {},
     "output_type": "display_data"
    },
    {
     "data": {
      "text/html": [
       "<pre style=\"white-space:pre;overflow-x:auto;line-height:normal;font-family:Menlo,'DejaVu Sans Mono',consolas,'Courier New',monospace\">[ 16/100] train_loss: 1072.24769 valid_loss: 1125.34573\n",
       "</pre>\n"
      ],
      "text/plain": [
       "[ 16/100] train_loss: 1072.24769 valid_loss: 1125.34573\n"
      ]
     },
     "metadata": {},
     "output_type": "display_data"
    },
    {
     "data": {
      "text/html": [
       "<pre style=\"white-space:pre;overflow-x:auto;line-height:normal;font-family:Menlo,'DejaVu Sans Mono',consolas,'Courier New',monospace\">Validation loss decreased (1125.434365 --&gt; 1125.345726).  Saving model ...\n",
       "</pre>\n"
      ],
      "text/plain": [
       "Validation loss decreased (1125.434365 --> 1125.345726).  Saving model ...\n"
      ]
     },
     "metadata": {},
     "output_type": "display_data"
    },
    {
     "data": {
      "text/html": [
       "<pre style=\"white-space:pre;overflow-x:auto;line-height:normal;font-family:Menlo,'DejaVu Sans Mono',consolas,'Courier New',monospace\">[ 17/100] train_loss: 1072.17806 valid_loss: 1125.33249\n",
       "</pre>\n"
      ],
      "text/plain": [
       "[ 17/100] train_loss: 1072.17806 valid_loss: 1125.33249\n"
      ]
     },
     "metadata": {},
     "output_type": "display_data"
    },
    {
     "data": {
      "text/html": [
       "<pre style=\"white-space:pre;overflow-x:auto;line-height:normal;font-family:Menlo,'DejaVu Sans Mono',consolas,'Courier New',monospace\">Validation loss decreased (1125.345726 --&gt; 1125.332490).  Saving model ...\n",
       "</pre>\n"
      ],
      "text/plain": [
       "Validation loss decreased (1125.345726 --> 1125.332490).  Saving model ...\n"
      ]
     },
     "metadata": {},
     "output_type": "display_data"
    },
    {
     "data": {
      "text/html": [
       "<pre style=\"white-space:pre;overflow-x:auto;line-height:normal;font-family:Menlo,'DejaVu Sans Mono',consolas,'Courier New',monospace\">[ 18/100] train_loss: 1072.14946 valid_loss: 1125.32548\n",
       "</pre>\n"
      ],
      "text/plain": [
       "[ 18/100] train_loss: 1072.14946 valid_loss: 1125.32548\n"
      ]
     },
     "metadata": {},
     "output_type": "display_data"
    },
    {
     "data": {
      "text/html": [
       "<pre style=\"white-space:pre;overflow-x:auto;line-height:normal;font-family:Menlo,'DejaVu Sans Mono',consolas,'Courier New',monospace\">Validation loss decreased (1125.332490 --&gt; 1125.325483).  Saving model ...\n",
       "</pre>\n"
      ],
      "text/plain": [
       "Validation loss decreased (1125.332490 --> 1125.325483).  Saving model ...\n"
      ]
     },
     "metadata": {},
     "output_type": "display_data"
    },
    {
     "data": {
      "text/html": [
       "<pre style=\"white-space:pre;overflow-x:auto;line-height:normal;font-family:Menlo,'DejaVu Sans Mono',consolas,'Courier New',monospace\">[ 19/100] train_loss: 1072.13775 valid_loss: 1125.33551\n",
       "</pre>\n"
      ],
      "text/plain": [
       "[ 19/100] train_loss: 1072.13775 valid_loss: 1125.33551\n"
      ]
     },
     "metadata": {},
     "output_type": "display_data"
    },
    {
     "data": {
      "text/html": [
       "<pre style=\"white-space:pre;overflow-x:auto;line-height:normal;font-family:Menlo,'DejaVu Sans Mono',consolas,'Courier New',monospace\">EarlyStopping counter: 1 out of 10\n",
       "</pre>\n"
      ],
      "text/plain": [
       "EarlyStopping counter: 1 out of 10\n"
      ]
     },
     "metadata": {},
     "output_type": "display_data"
    },
    {
     "data": {
      "text/html": [
       "<pre style=\"white-space:pre;overflow-x:auto;line-height:normal;font-family:Menlo,'DejaVu Sans Mono',consolas,'Courier New',monospace\">[ 20/100] train_loss: 1072.13500 valid_loss: 1125.32330\n",
       "</pre>\n"
      ],
      "text/plain": [
       "[ 20/100] train_loss: 1072.13500 valid_loss: 1125.32330\n"
      ]
     },
     "metadata": {},
     "output_type": "display_data"
    },
    {
     "data": {
      "text/html": [
       "<pre style=\"white-space:pre;overflow-x:auto;line-height:normal;font-family:Menlo,'DejaVu Sans Mono',consolas,'Courier New',monospace\">Validation loss decreased (1125.325483 --&gt; 1125.323302).  Saving model ...\n",
       "</pre>\n"
      ],
      "text/plain": [
       "Validation loss decreased (1125.325483 --> 1125.323302).  Saving model ...\n"
      ]
     },
     "metadata": {},
     "output_type": "display_data"
    },
    {
     "data": {
      "text/html": [
       "<pre style=\"white-space:pre;overflow-x:auto;line-height:normal;font-family:Menlo,'DejaVu Sans Mono',consolas,'Courier New',monospace\">[ 21/100] train_loss: 1072.13372 valid_loss: 1125.36378\n",
       "</pre>\n"
      ],
      "text/plain": [
       "[ 21/100] train_loss: 1072.13372 valid_loss: 1125.36378\n"
      ]
     },
     "metadata": {},
     "output_type": "display_data"
    },
    {
     "data": {
      "text/html": [
       "<pre style=\"white-space:pre;overflow-x:auto;line-height:normal;font-family:Menlo,'DejaVu Sans Mono',consolas,'Courier New',monospace\">EarlyStopping counter: 1 out of 10\n",
       "</pre>\n"
      ],
      "text/plain": [
       "EarlyStopping counter: 1 out of 10\n"
      ]
     },
     "metadata": {},
     "output_type": "display_data"
    },
    {
     "data": {
      "text/html": [
       "<pre style=\"white-space:pre;overflow-x:auto;line-height:normal;font-family:Menlo,'DejaVu Sans Mono',consolas,'Courier New',monospace\">[ 22/100] train_loss: 1072.13361 valid_loss: 1125.33139\n",
       "</pre>\n"
      ],
      "text/plain": [
       "[ 22/100] train_loss: 1072.13361 valid_loss: 1125.33139\n"
      ]
     },
     "metadata": {},
     "output_type": "display_data"
    },
    {
     "data": {
      "text/html": [
       "<pre style=\"white-space:pre;overflow-x:auto;line-height:normal;font-family:Menlo,'DejaVu Sans Mono',consolas,'Courier New',monospace\">EarlyStopping counter: 2 out of 10\n",
       "</pre>\n"
      ],
      "text/plain": [
       "EarlyStopping counter: 2 out of 10\n"
      ]
     },
     "metadata": {},
     "output_type": "display_data"
    },
    {
     "data": {
      "text/html": [
       "<pre style=\"white-space:pre;overflow-x:auto;line-height:normal;font-family:Menlo,'DejaVu Sans Mono',consolas,'Courier New',monospace\">[ 23/100] train_loss: 1072.13355 valid_loss: 1125.36318\n",
       "</pre>\n"
      ],
      "text/plain": [
       "[ 23/100] train_loss: 1072.13355 valid_loss: 1125.36318\n"
      ]
     },
     "metadata": {},
     "output_type": "display_data"
    },
    {
     "data": {
      "text/html": [
       "<pre style=\"white-space:pre;overflow-x:auto;line-height:normal;font-family:Menlo,'DejaVu Sans Mono',consolas,'Courier New',monospace\">EarlyStopping counter: 3 out of 10\n",
       "</pre>\n"
      ],
      "text/plain": [
       "EarlyStopping counter: 3 out of 10\n"
      ]
     },
     "metadata": {},
     "output_type": "display_data"
    },
    {
     "data": {
      "text/html": [
       "<pre style=\"white-space:pre;overflow-x:auto;line-height:normal;font-family:Menlo,'DejaVu Sans Mono',consolas,'Courier New',monospace\">[ 24/100] train_loss: 1072.13354 valid_loss: 1125.65396\n",
       "</pre>\n"
      ],
      "text/plain": [
       "[ 24/100] train_loss: 1072.13354 valid_loss: 1125.65396\n"
      ]
     },
     "metadata": {},
     "output_type": "display_data"
    },
    {
     "data": {
      "text/html": [
       "<pre style=\"white-space:pre;overflow-x:auto;line-height:normal;font-family:Menlo,'DejaVu Sans Mono',consolas,'Courier New',monospace\">EarlyStopping counter: 4 out of 10\n",
       "</pre>\n"
      ],
      "text/plain": [
       "EarlyStopping counter: 4 out of 10\n"
      ]
     },
     "metadata": {},
     "output_type": "display_data"
    },
    {
     "data": {
      "text/html": [
       "<pre style=\"white-space:pre;overflow-x:auto;line-height:normal;font-family:Menlo,'DejaVu Sans Mono',consolas,'Courier New',monospace\">[ 25/100] train_loss: 1072.13354 valid_loss: 1125.33317\n",
       "</pre>\n"
      ],
      "text/plain": [
       "[ 25/100] train_loss: 1072.13354 valid_loss: 1125.33317\n"
      ]
     },
     "metadata": {},
     "output_type": "display_data"
    },
    {
     "data": {
      "text/html": [
       "<pre style=\"white-space:pre;overflow-x:auto;line-height:normal;font-family:Menlo,'DejaVu Sans Mono',consolas,'Courier New',monospace\">EarlyStopping counter: 5 out of 10\n",
       "</pre>\n"
      ],
      "text/plain": [
       "EarlyStopping counter: 5 out of 10\n"
      ]
     },
     "metadata": {},
     "output_type": "display_data"
    },
    {
     "data": {
      "text/html": [
       "<pre style=\"white-space:pre;overflow-x:auto;line-height:normal;font-family:Menlo,'DejaVu Sans Mono',consolas,'Courier New',monospace\">[ 26/100] train_loss: 1072.13354 valid_loss: 1125.32575\n",
       "</pre>\n"
      ],
      "text/plain": [
       "[ 26/100] train_loss: 1072.13354 valid_loss: 1125.32575\n"
      ]
     },
     "metadata": {},
     "output_type": "display_data"
    },
    {
     "data": {
      "text/html": [
       "<pre style=\"white-space:pre;overflow-x:auto;line-height:normal;font-family:Menlo,'DejaVu Sans Mono',consolas,'Courier New',monospace\">EarlyStopping counter: 6 out of 10\n",
       "</pre>\n"
      ],
      "text/plain": [
       "EarlyStopping counter: 6 out of 10\n"
      ]
     },
     "metadata": {},
     "output_type": "display_data"
    },
    {
     "data": {
      "text/html": [
       "<pre style=\"white-space:pre;overflow-x:auto;line-height:normal;font-family:Menlo,'DejaVu Sans Mono',consolas,'Courier New',monospace\">[ 27/100] train_loss: 1072.13354 valid_loss: 1125.41510\n",
       "</pre>\n"
      ],
      "text/plain": [
       "[ 27/100] train_loss: 1072.13354 valid_loss: 1125.41510\n"
      ]
     },
     "metadata": {},
     "output_type": "display_data"
    },
    {
     "data": {
      "text/html": [
       "<pre style=\"white-space:pre;overflow-x:auto;line-height:normal;font-family:Menlo,'DejaVu Sans Mono',consolas,'Courier New',monospace\">EarlyStopping counter: 7 out of 10\n",
       "</pre>\n"
      ],
      "text/plain": [
       "EarlyStopping counter: 7 out of 10\n"
      ]
     },
     "metadata": {},
     "output_type": "display_data"
    },
    {
     "data": {
      "text/html": [
       "<pre style=\"white-space:pre;overflow-x:auto;line-height:normal;font-family:Menlo,'DejaVu Sans Mono',consolas,'Courier New',monospace\">[ 28/100] train_loss: 1072.13354 valid_loss: 1125.33809\n",
       "</pre>\n"
      ],
      "text/plain": [
       "[ 28/100] train_loss: 1072.13354 valid_loss: 1125.33809\n"
      ]
     },
     "metadata": {},
     "output_type": "display_data"
    },
    {
     "data": {
      "text/html": [
       "<pre style=\"white-space:pre;overflow-x:auto;line-height:normal;font-family:Menlo,'DejaVu Sans Mono',consolas,'Courier New',monospace\">EarlyStopping counter: 8 out of 10\n",
       "</pre>\n"
      ],
      "text/plain": [
       "EarlyStopping counter: 8 out of 10\n"
      ]
     },
     "metadata": {},
     "output_type": "display_data"
    },
    {
     "data": {
      "text/html": [
       "<pre style=\"white-space:pre;overflow-x:auto;line-height:normal;font-family:Menlo,'DejaVu Sans Mono',consolas,'Courier New',monospace\">[ 29/100] train_loss: 1072.13354 valid_loss: 1125.43355\n",
       "</pre>\n"
      ],
      "text/plain": [
       "[ 29/100] train_loss: 1072.13354 valid_loss: 1125.43355\n"
      ]
     },
     "metadata": {},
     "output_type": "display_data"
    },
    {
     "data": {
      "text/html": [
       "<pre style=\"white-space:pre;overflow-x:auto;line-height:normal;font-family:Menlo,'DejaVu Sans Mono',consolas,'Courier New',monospace\">EarlyStopping counter: 9 out of 10\n",
       "</pre>\n"
      ],
      "text/plain": [
       "EarlyStopping counter: 9 out of 10\n"
      ]
     },
     "metadata": {},
     "output_type": "display_data"
    },
    {
     "data": {
      "text/html": [
       "<pre style=\"white-space:pre;overflow-x:auto;line-height:normal;font-family:Menlo,'DejaVu Sans Mono',consolas,'Courier New',monospace\">[ 30/100] train_loss: 1072.13354 valid_loss: 1125.33661\n",
       "</pre>\n"
      ],
      "text/plain": [
       "[ 30/100] train_loss: 1072.13354 valid_loss: 1125.33661\n"
      ]
     },
     "metadata": {},
     "output_type": "display_data"
    },
    {
     "data": {
      "text/html": [
       "<pre style=\"white-space:pre;overflow-x:auto;line-height:normal;font-family:Menlo,'DejaVu Sans Mono',consolas,'Courier New',monospace\">EarlyStopping counter: 10 out of 10\n",
       "</pre>\n"
      ],
      "text/plain": [
       "EarlyStopping counter: 10 out of 10\n"
      ]
     },
     "metadata": {},
     "output_type": "display_data"
    },
    {
     "data": {
      "text/html": [
       "<pre style=\"white-space:pre;overflow-x:auto;line-height:normal;font-family:Menlo,'DejaVu Sans Mono',consolas,'Courier New',monospace\">Early stopping\n",
       "</pre>\n"
      ],
      "text/plain": [
       "Early stopping\n"
      ]
     },
     "metadata": {},
     "output_type": "display_data"
    },
    {
     "data": {
      "text/html": [
       "<pre style=\"white-space:pre;overflow-x:auto;line-height:normal;font-family:Menlo,'DejaVu Sans Mono',consolas,'Courier New',monospace\"></pre>\n"
      ],
      "text/plain": []
     },
     "metadata": {},
     "output_type": "display_data"
    },
    {
     "data": {
      "text/html": [
       "<pre style=\"white-space:pre;overflow-x:auto;line-height:normal;font-family:Menlo,'DejaVu Sans Mono',consolas,'Courier New',monospace\">\n",
       "</pre>\n"
      ],
      "text/plain": [
       "\n"
      ]
     },
     "metadata": {},
     "output_type": "display_data"
    },
    {
     "data": {
      "text/plain": [
       "<All keys matched successfully>"
      ]
     },
     "execution_count": 56,
     "metadata": {},
     "output_type": "execute_result"
    }
   ],
   "source": [
    "n_epochs = 100\n",
    "patience = 10\n",
    "losses = []\n",
    "pred_y = []\n",
    "train_losses = []\n",
    "\n",
    "# Track the validation loss as the model trains\n",
    "valid_losses = []\n",
    "# Track the average training loss per epoch as the model trains\n",
    "avg_train_losses = []\n",
    "# Track the average validation loss per epoch as the model trains\n",
    "avg_valid_losses = [] \n",
    "\n",
    "# Initialize the early_stopping object\n",
    "early_stopping = EarlyStopping(patience=patience, verbose=True)\n",
    "\n",
    "for epoch in track(range(n_epochs)):\n",
    "    for batch_idx, data_target in enumerate(train_loader):\n",
    "        X, y = data_target\n",
    "        \n",
    "        optimizer.zero_grad()\n",
    "        \n",
    "        pred_y = model_ABK(X)\n",
    "        temp = pred_y\n",
    "        loss = criterion(torch.sqrt(torch.square(pred_y[:,0])+torch.square(pred_y[:,1])), torch.sqrt(torch.square(y[:,0])+torch.square(y[:,1])))\n",
    "        # criterion(pred_y[:,0], y[:,0]) + criterion(pred_y[:,1], y[:,1])\n",
    "        train_losses.append(loss.item())\n",
    "        \n",
    "        loss.backward()\n",
    "        optimizer.step()\n",
    "    # Validate the model\n",
    "    model_ABK.eval() # prep model for evaluation\n",
    "    for data, target in valid_loader:\n",
    "        # forward pass: compute predicted outputs by passing inputs to the model\n",
    "        output = model_ABK(data)\n",
    "        # calculate the loss\n",
    "        loss = criterion(torch.sqrt(torch.square(output[:,0])+torch.square(output[:,1])), torch.sqrt(torch.square(target[:,0])+torch.square(target[:,1])))\n",
    "        # criterion(output[:,0], target[:,0]) + criterion(output[:,1], target[:,1])\n",
    "        # record validation loss\n",
    "        valid_losses.append(loss.item())\n",
    "\n",
    "    # print training/validation statistics \n",
    "    # calculate average loss over an epoch\n",
    "    train_loss = np.average(train_losses)\n",
    "    valid_loss = np.average(valid_losses)\n",
    "    avg_train_losses.append(train_loss)\n",
    "    avg_valid_losses.append(valid_loss)\n",
    "        \n",
    "    epoch_len = len(str(n_epochs))\n",
    "        \n",
    "    print_msg = (f'[{epoch:>{epoch_len}}/{n_epochs:>{epoch_len}}] ' +\n",
    "                     f'train_loss: {train_loss:.5f} ' +\n",
    "                     f'valid_loss: {valid_loss:.5f}')\n",
    "        \n",
    "    print(print_msg)\n",
    "        \n",
    "    # clear lists to track next epoch\n",
    "    train_losses = []\n",
    "    valid_losses = []\n",
    "        \n",
    "    # early_stopping needs the validation loss to check if it has decresed, \n",
    "    # and if it has, it will make a checkpoint of the current model\n",
    "    early_stopping(valid_loss, model_ABK)\n",
    "    \n",
    "    if early_stopping.early_stop:\n",
    "        print(\"Early stopping\")\n",
    "        break\n",
    "    \n",
    "    scheduler.step()\n",
    "\n",
    "# load the last checkpoint with the best model\n",
    "model_ABK.load_state_dict(torch.load('checkpoint.pt'))"
   ]
  },
  {
   "cell_type": "code",
   "execution_count": 57,
   "id": "ea89328d",
   "metadata": {
    "scrolled": true
   },
   "outputs": [],
   "source": [
    "# Use the year 2015 for prediction\n",
    "mse = []\n",
    "prediction = []\n",
    "\n",
    "for i, data in enumerate(test_loader, 0):\n",
    "    X, y = data\n",
    "    \n",
    "    # Do the forward pass and get the predictions\n",
    "    pred = model_ABK(X)\n",
    "    error = criterion(torch.sqrt(torch.square(pred[:,0])+torch.square(pred[:,1])), torch.sqrt(torch.square(y[:,0])+torch.square(y[:,1])))   \n",
    "    prediction.extend(torch.sqrt(torch.square(pred[:,0])+torch.square(pred[:,1])).detach())\n",
    "    mse.append(error.item())"
   ]
  },
  {
   "cell_type": "code",
   "execution_count": 58,
   "id": "dba3fc15",
   "metadata": {
    "scrolled": false
   },
   "outputs": [
    {
     "data": {
      "text/plain": [
       "7482.878878385106"
      ]
     },
     "execution_count": 58,
     "metadata": {},
     "output_type": "execute_result"
    }
   ],
   "source": [
    "# Calculate MSE\n",
    "sum(mse)/len(mse)"
   ]
  },
  {
   "cell_type": "code",
   "execution_count": 59,
   "id": "41aebc1d",
   "metadata": {
    "scrolled": false
   },
   "outputs": [
    {
     "data": {
      "text/plain": [
       "tensor(0.0410)"
      ]
     },
     "execution_count": 59,
     "metadata": {},
     "output_type": "execute_result"
    }
   ],
   "source": [
    "# Calculate R2\n",
    "r2score = R2Score()\n",
    "r2score(torch.stack(prediction),torch.sqrt(temp4[:,0]**2+temp4[:,1]**2))"
   ]
  },
  {
   "cell_type": "code",
   "execution_count": 60,
   "id": "818b8784",
   "metadata": {},
   "outputs": [
    {
     "data": {
      "text/plain": [
       "Text(0.5, 1.0, 'Prediction vs True on 2015 data (ABK)')"
      ]
     },
     "execution_count": 60,
     "metadata": {},
     "output_type": "execute_result"
    },
    {
     "data": {
      "image/png": "[encoded data removed]",
      "text/plain": [
       "<Figure size 432x288 with 1 Axes>"
      ]
     },
     "metadata": {
      "needs_background": "light"
     },
     "output_type": "display_data"
    }
   ],
   "source": [
    "prediction_ABK = [tensor.item() for tensor in prediction]\n",
    "prediction_ABK = pd.DataFrame(prediction_ABK)\n",
    "prediction_ABK.index = ytest_ABK.index\n",
    "ytest_ABK['h'] = (ytest_ABK['dbn_nez']**2 + ytest_ABK['dbe_nez']**2)**(1/2)\n",
    "plt.plot(ytest_ABK['h'], label = 'Horizontal Component')\n",
    "plt.plot(prediction_ABK, label = 'Prediction')\n",
    "plt.legend(loc=\"upper right\")\n",
    "plt.title('Prediction vs True on 2015 data (ABK)')"
   ]
  },
  {
   "cell_type": "code",
   "execution_count": 61,
   "id": "60fd6f0b",
   "metadata": {
    "scrolled": true
   },
   "outputs": [
    {
     "data": {
      "text/plain": [
       "Text(0.5, 1.0, 'Prediction vs True on 2015-03-17 data (ABK)')"
      ]
     },
     "execution_count": 61,
     "metadata": {},
     "output_type": "execute_result"
    },
    {
     "data": {
      "image/png": "[encoded data removed]",
      "text/plain": [
       "<Figure size 432x288 with 1 Axes>"
      ]
     },
     "metadata": {
      "needs_background": "light"
     },
     "output_type": "display_data"
    }
   ],
   "source": [
    "plt.plot(ytest_ABK['h'].loc['2015-3-17':'2015-3-18'], label = 'Horizontal Component')\n",
    "plt.plot(prediction_ABK.loc['2015-3-17':'2015-3-18'], label = 'Prediction')\n",
    "plt.legend(loc=\"upper left\")\n",
    "plt.title('Prediction vs True on 2015-03-17 data (ABK)')"
   ]
  },
  {
   "cell_type": "code",
   "execution_count": 62,
   "id": "5bc77651",
   "metadata": {},
   "outputs": [
    {
     "name": "stderr",
     "output_type": "stream",
     "text": [
      "/tmp/ipykernel_580294/3330989109.py:2: RuntimeWarning: divide by zero encountered in log10\n",
      "  y = np.log10(ytest_ABK['h'].to_numpy())\n"
     ]
    }
   ],
   "source": [
    "x = np.log10(prediction_ABK.to_numpy().T[0])\n",
    "y = np.log10(ytest_ABK['h'].to_numpy())"
   ]
  },
  {
   "cell_type": "code",
   "execution_count": 63,
   "id": "ae0c9dc4",
   "metadata": {},
   "outputs": [],
   "source": [
    "y[y<-1] = -1"
   ]
  },
  {
   "cell_type": "code",
   "execution_count": 64,
   "id": "c15c87ff",
   "metadata": {
    "scrolled": true
   },
   "outputs": [
    {
     "data": {
      "image/png": "[encoded data removed]",
      "text/plain": [
       "<Figure size 432x288 with 2 Axes>"
      ]
     },
     "metadata": {
      "needs_background": "light"
     },
     "output_type": "display_data"
    }
   ],
   "source": [
    "import datashader as ds\n",
    "from datashader.mpl_ext import dsshow\n",
    "\n",
    "\n",
    "def using_datashader(ax, x, y):\n",
    "\n",
    "    df = pd.DataFrame(dict(x=x, y=y))\n",
    "    dsartist = dsshow(\n",
    "        df,\n",
    "        ds.Point(\"x\", \"y\"),\n",
    "        ds.count(),\n",
    "        vmin=0,\n",
    "        vmax=200,\n",
    "        norm=\"linear\",\n",
    "        aspect=\"auto\",\n",
    "        ax=ax,\n",
    "    )\n",
    "\n",
    "    plt.colorbar(dsartist)\n",
    "\n",
    "\n",
    "fig, ax = plt.subplots()\n",
    "using_datashader(ax, x, y)\n",
    "plt.xlabel(\"log10(dB_H)Predicted\", fontsize=12)\n",
    "plt.ylabel(\"log10(dB_H)\", fontsize=12)\n",
    "plt.title(\"ABK\")\n",
    "ax.axline((0, 0), slope=1, color='k')\n",
    "plt.show()"
   ]
  },
  {
   "cell_type": "code",
   "execution_count": 65,
   "id": "80d2b946",
   "metadata": {},
   "outputs": [],
   "source": [
    "torch.save(model_ABK.state_dict(), 'model_ABK.pth')"
   ]
  },
  {
   "cell_type": "code",
   "execution_count": 66,
   "id": "34f71629",
   "metadata": {},
   "outputs": [
    {
     "data": {
      "text/plain": [
       "<All keys matched successfully>"
      ]
     },
     "execution_count": 66,
     "metadata": {},
     "output_type": "execute_result"
    }
   ],
   "source": [
    "model_ABK = Net()\n",
    "model_ABK.load_state_dict(torch.load('model_ABK.pth'))"
   ]
  },
  {
   "cell_type": "markdown",
   "id": "f33caa83",
   "metadata": {},
   "source": [
    "## YKC"
   ]
  },
  {
   "cell_type": "code",
   "execution_count": 67,
   "id": "5b64049e",
   "metadata": {
    "scrolled": true
   },
   "outputs": [],
   "source": [
    "model_YKC = Net()\n",
    "# optimizer = optim.Adam(model.parameters(), lr=0.1)\n",
    "optimizer = torch.optim.AdamW(model_YKC.parameters(), lr=0.005, weight_decay=0.01, amsgrad=False)\n",
    "scheduler = torch.optim.lr_scheduler.ExponentialLR(optimizer, gamma=0.5, last_epoch=-1, verbose=False)\n",
    "criterion = nn.MSELoss()"
   ]
  },
  {
   "cell_type": "code",
   "execution_count": 68,
   "id": "f37b640b",
   "metadata": {},
   "outputs": [],
   "source": [
    "# Set validation set size for early stopping and batch size\n",
    "valid_size = 0.2\n",
    "batch_size = 32\n",
    "\n",
    "# Obtain training indices that will be used for validation\n",
    "from torch.utils.data.sampler import SubsetRandomSampler"
   ]
  },
  {
   "cell_type": "code",
   "execution_count": 69,
   "id": "4929b20f",
   "metadata": {},
   "outputs": [],
   "source": [
    "def get_device() -> torch.device:\n",
    "    return torch.device(\"cuda:0\") if torch.cuda.is_available() else torch.device(\"cpu\")\n",
    "\n",
    "\n",
    "def df_to_tensor(x: pd.DataFrame) -> torch:\n",
    "    return torch.from_numpy(x.values).to(get_device())"
   ]
  },
  {
   "cell_type": "code",
   "execution_count": 70,
   "id": "c60c6e7b",
   "metadata": {
    "scrolled": true
   },
   "outputs": [],
   "source": [
    "temp1 = df_to_tensor(train).to(torch.float32)"
   ]
  },
  {
   "cell_type": "code",
   "execution_count": 71,
   "id": "6ce43445",
   "metadata": {},
   "outputs": [],
   "source": [
    "temp2 = df_to_tensor(ytrain_YKC).to(torch.float32)"
   ]
  },
  {
   "cell_type": "code",
   "execution_count": 72,
   "id": "a3043776",
   "metadata": {},
   "outputs": [],
   "source": [
    "temp3 = df_to_tensor(test).to(torch.float32)"
   ]
  },
  {
   "cell_type": "code",
   "execution_count": 73,
   "id": "fab3eceb",
   "metadata": {},
   "outputs": [],
   "source": [
    "temp4 = df_to_tensor(ytest_YKC).to(torch.float32)"
   ]
  },
  {
   "cell_type": "code",
   "execution_count": 74,
   "id": "6744a1d1",
   "metadata": {},
   "outputs": [],
   "source": [
    "temp5=temp3[:502319]"
   ]
  },
  {
   "cell_type": "code",
   "execution_count": 75,
   "id": "a8d450cd",
   "metadata": {},
   "outputs": [],
   "source": [
    "temp2 = torch.abs(temp2)\n",
    "temp4 = torch.abs(temp4)"
   ]
  },
  {
   "cell_type": "code",
   "execution_count": 77,
   "id": "63c6955f",
   "metadata": {},
   "outputs": [],
   "source": [
    "train_tensor = data_utils.TensorDataset(temp1, temp2)\n",
    "test_tensor = data_utils.TensorDataset(temp5, temp4)"
   ]
  },
  {
   "cell_type": "code",
   "execution_count": 78,
   "id": "a9438dac",
   "metadata": {},
   "outputs": [],
   "source": [
    "num_train = len(train_tensor)\n",
    "indices = list(range(num_train))\n",
    "np.random.shuffle(indices)\n",
    "split = int(np.floor(valid_size * num_train))\n",
    "train_idx, valid_idx = indices[split:], indices[:split]\n",
    "\n",
    "# define samplers for obtaining training and validation batches\n",
    "train_sampler = SubsetRandomSampler(train_idx)\n",
    "valid_sampler = SubsetRandomSampler(valid_idx)\n",
    "    \n",
    "# load training data in batches\n",
    "train_loader = torch.utils.data.DataLoader(train_tensor,\n",
    "                                               batch_size=batch_size,\n",
    "                                               sampler=train_sampler,\n",
    "                                               num_workers=0)\n",
    "    \n",
    "# load validation data in batches\n",
    "valid_loader = torch.utils.data.DataLoader(train_tensor,\n",
    "                                               batch_size=batch_size,\n",
    "                                               sampler=valid_sampler,\n",
    "                                               num_workers=0)\n",
    "    \n",
    "# load test data in batches\n",
    "test_loader = torch.utils.data.DataLoader(test_tensor,\n",
    "                                              batch_size=batch_size,\n",
    "                                              num_workers=0)"
   ]
  },
  {
   "cell_type": "code",
   "execution_count": 79,
   "id": "46d5b62c",
   "metadata": {
    "scrolled": true
   },
   "outputs": [
    {
     "data": {
      "application/vnd.jupyter.widget-view+json": {
       "model_id": "c6a8de5e9d114b428871fe0d7a9dfe07",
       "version_major": 2,
       "version_minor": 0
      },
      "text/plain": [
       "Output()"
      ]
     },
     "metadata": {},
     "output_type": "display_data"
    },
    {
     "data": {
      "text/html": [
       "<pre style=\"white-space:pre;overflow-x:auto;line-height:normal;font-family:Menlo,'DejaVu Sans Mono',consolas,'Courier New',monospace\">[  0/100] train_loss: 2803.38559 valid_loss: 2670.24479\n",
       "</pre>\n"
      ],
      "text/plain": [
       "[  0/100] train_loss: 2803.38559 valid_loss: 2670.24479\n"
      ]
     },
     "metadata": {},
     "output_type": "display_data"
    },
    {
     "data": {
      "text/html": [
       "<pre style=\"white-space:pre;overflow-x:auto;line-height:normal;font-family:Menlo,'DejaVu Sans Mono',consolas,'Courier New',monospace\">Validation loss decreased (inf --&gt; 2670.244786).  Saving model ...\n",
       "</pre>\n"
      ],
      "text/plain": [
       "Validation loss decreased (inf --> 2670.244786).  Saving model ...\n"
      ]
     },
     "metadata": {},
     "output_type": "display_data"
    },
    {
     "data": {
      "text/html": [
       "<pre style=\"white-space:pre;overflow-x:auto;line-height:normal;font-family:Menlo,'DejaVu Sans Mono',consolas,'Courier New',monospace\">[  1/100] train_loss: 2499.49464 valid_loss: 2454.19297\n",
       "</pre>\n"
      ],
      "text/plain": [
       "[  1/100] train_loss: 2499.49464 valid_loss: 2454.19297\n"
      ]
     },
     "metadata": {},
     "output_type": "display_data"
    },
    {
     "data": {
      "text/html": [
       "<pre style=\"white-space:pre;overflow-x:auto;line-height:normal;font-family:Menlo,'DejaVu Sans Mono',consolas,'Courier New',monospace\">Validation loss decreased (2670.244786 --&gt; 2454.192965).  Saving model ...\n",
       "</pre>\n"
      ],
      "text/plain": [
       "Validation loss decreased (2670.244786 --> 2454.192965).  Saving model ...\n"
      ]
     },
     "metadata": {},
     "output_type": "display_data"
    },
    {
     "data": {
      "text/html": [
       "<pre style=\"white-space:pre;overflow-x:auto;line-height:normal;font-family:Menlo,'DejaVu Sans Mono',consolas,'Courier New',monospace\">[  2/100] train_loss: 2238.74249 valid_loss: 2197.32081\n",
       "</pre>\n"
      ],
      "text/plain": [
       "[  2/100] train_loss: 2238.74249 valid_loss: 2197.32081\n"
      ]
     },
     "metadata": {},
     "output_type": "display_data"
    },
    {
     "data": {
      "text/html": [
       "<pre style=\"white-space:pre;overflow-x:auto;line-height:normal;font-family:Menlo,'DejaVu Sans Mono',consolas,'Courier New',monospace\">Validation loss decreased (2454.192965 --&gt; 2197.320811).  Saving model ...\n",
       "</pre>\n"
      ],
      "text/plain": [
       "Validation loss decreased (2454.192965 --> 2197.320811).  Saving model ...\n"
      ]
     },
     "metadata": {},
     "output_type": "display_data"
    },
    {
     "data": {
      "text/html": [
       "<pre style=\"white-space:pre;overflow-x:auto;line-height:normal;font-family:Menlo,'DejaVu Sans Mono',consolas,'Courier New',monospace\">[  3/100] train_loss: 2013.66017 valid_loss: 1969.70516\n",
       "</pre>\n"
      ],
      "text/plain": [
       "[  3/100] train_loss: 2013.66017 valid_loss: 1969.70516\n"
      ]
     },
     "metadata": {},
     "output_type": "display_data"
    },
    {
     "data": {
      "text/html": [
       "<pre style=\"white-space:pre;overflow-x:auto;line-height:normal;font-family:Menlo,'DejaVu Sans Mono',consolas,'Courier New',monospace\">Validation loss decreased (2197.320811 --&gt; 1969.705158).  Saving model ...\n",
       "</pre>\n"
      ],
      "text/plain": [
       "Validation loss decreased (2197.320811 --> 1969.705158).  Saving model ...\n"
      ]
     },
     "metadata": {},
     "output_type": "display_data"
    },
    {
     "data": {
      "text/html": [
       "<pre style=\"white-space:pre;overflow-x:auto;line-height:normal;font-family:Menlo,'DejaVu Sans Mono',consolas,'Courier New',monospace\">[  4/100] train_loss: 1857.07147 valid_loss: 1839.56768\n",
       "</pre>\n"
      ],
      "text/plain": [
       "[  4/100] train_loss: 1857.07147 valid_loss: 1839.56768\n"
      ]
     },
     "metadata": {},
     "output_type": "display_data"
    },
    {
     "data": {
      "text/html": [
       "<pre style=\"white-space:pre;overflow-x:auto;line-height:normal;font-family:Menlo,'DejaVu Sans Mono',consolas,'Courier New',monospace\">Validation loss decreased (1969.705158 --&gt; 1839.567682).  Saving model ...\n",
       "</pre>\n"
      ],
      "text/plain": [
       "Validation loss decreased (1969.705158 --> 1839.567682).  Saving model ...\n"
      ]
     },
     "metadata": {},
     "output_type": "display_data"
    },
    {
     "data": {
      "text/html": [
       "<pre style=\"white-space:pre;overflow-x:auto;line-height:normal;font-family:Menlo,'DejaVu Sans Mono',consolas,'Courier New',monospace\">[  5/100] train_loss: 1761.67399 valid_loss: 1766.59245\n",
       "</pre>\n"
      ],
      "text/plain": [
       "[  5/100] train_loss: 1761.67399 valid_loss: 1766.59245\n"
      ]
     },
     "metadata": {},
     "output_type": "display_data"
    },
    {
     "data": {
      "text/html": [
       "<pre style=\"white-space:pre;overflow-x:auto;line-height:normal;font-family:Menlo,'DejaVu Sans Mono',consolas,'Courier New',monospace\">Validation loss decreased (1839.567682 --&gt; 1766.592446).  Saving model ...\n",
       "</pre>\n"
      ],
      "text/plain": [
       "Validation loss decreased (1839.567682 --> 1766.592446).  Saving model ...\n"
      ]
     },
     "metadata": {},
     "output_type": "display_data"
    },
    {
     "data": {
      "text/html": [
       "<pre style=\"white-space:pre;overflow-x:auto;line-height:normal;font-family:Menlo,'DejaVu Sans Mono',consolas,'Courier New',monospace\">[  6/100] train_loss: 1704.59950 valid_loss: 1723.86806\n",
       "</pre>\n"
      ],
      "text/plain": [
       "[  6/100] train_loss: 1704.59950 valid_loss: 1723.86806\n"
      ]
     },
     "metadata": {},
     "output_type": "display_data"
    },
    {
     "data": {
      "text/html": [
       "<pre style=\"white-space:pre;overflow-x:auto;line-height:normal;font-family:Menlo,'DejaVu Sans Mono',consolas,'Courier New',monospace\">Validation loss decreased (1766.592446 --&gt; 1723.868061).  Saving model ...\n",
       "</pre>\n"
      ],
      "text/plain": [
       "Validation loss decreased (1766.592446 --> 1723.868061).  Saving model ...\n"
      ]
     },
     "metadata": {},
     "output_type": "display_data"
    },
    {
     "data": {
      "text/html": [
       "<pre style=\"white-space:pre;overflow-x:auto;line-height:normal;font-family:Menlo,'DejaVu Sans Mono',consolas,'Courier New',monospace\">[  7/100] train_loss: 1675.25362 valid_loss: 1700.92823\n",
       "</pre>\n"
      ],
      "text/plain": [
       "[  7/100] train_loss: 1675.25362 valid_loss: 1700.92823\n"
      ]
     },
     "metadata": {},
     "output_type": "display_data"
    },
    {
     "data": {
      "text/html": [
       "<pre style=\"white-space:pre;overflow-x:auto;line-height:normal;font-family:Menlo,'DejaVu Sans Mono',consolas,'Courier New',monospace\">Validation loss decreased (1723.868061 --&gt; 1700.928229).  Saving model ...\n",
       "</pre>\n"
      ],
      "text/plain": [
       "Validation loss decreased (1723.868061 --> 1700.928229).  Saving model ...\n"
      ]
     },
     "metadata": {},
     "output_type": "display_data"
    },
    {
     "data": {
      "text/html": [
       "<pre style=\"white-space:pre;overflow-x:auto;line-height:normal;font-family:Menlo,'DejaVu Sans Mono',consolas,'Courier New',monospace\">[  8/100] train_loss: 1660.02666 valid_loss: 1690.33402\n",
       "</pre>\n"
      ],
      "text/plain": [
       "[  8/100] train_loss: 1660.02666 valid_loss: 1690.33402\n"
      ]
     },
     "metadata": {},
     "output_type": "display_data"
    },
    {
     "data": {
      "text/html": [
       "<pre style=\"white-space:pre;overflow-x:auto;line-height:normal;font-family:Menlo,'DejaVu Sans Mono',consolas,'Courier New',monospace\">Validation loss decreased (1700.928229 --&gt; 1690.334025).  Saving model ...\n",
       "</pre>\n"
      ],
      "text/plain": [
       "Validation loss decreased (1700.928229 --> 1690.334025).  Saving model ...\n"
      ]
     },
     "metadata": {},
     "output_type": "display_data"
    },
    {
     "data": {
      "text/html": [
       "<pre style=\"white-space:pre;overflow-x:auto;line-height:normal;font-family:Menlo,'DejaVu Sans Mono',consolas,'Courier New',monospace\">[  9/100] train_loss: 1652.07805 valid_loss: 1685.19220\n",
       "</pre>\n"
      ],
      "text/plain": [
       "[  9/100] train_loss: 1652.07805 valid_loss: 1685.19220\n"
      ]
     },
     "metadata": {},
     "output_type": "display_data"
    },
    {
     "data": {
      "text/html": [
       "<pre style=\"white-space:pre;overflow-x:auto;line-height:normal;font-family:Menlo,'DejaVu Sans Mono',consolas,'Courier New',monospace\">Validation loss decreased (1690.334025 --&gt; 1685.192204).  Saving model ...\n",
       "</pre>\n"
      ],
      "text/plain": [
       "Validation loss decreased (1690.334025 --> 1685.192204).  Saving model ...\n"
      ]
     },
     "metadata": {},
     "output_type": "display_data"
    },
    {
     "data": {
      "text/html": [
       "<pre style=\"white-space:pre;overflow-x:auto;line-height:normal;font-family:Menlo,'DejaVu Sans Mono',consolas,'Courier New',monospace\">[ 10/100] train_loss: 1648.62583 valid_loss: 1683.56031\n",
       "</pre>\n"
      ],
      "text/plain": [
       "[ 10/100] train_loss: 1648.62583 valid_loss: 1683.56031\n"
      ]
     },
     "metadata": {},
     "output_type": "display_data"
    },
    {
     "data": {
      "text/html": [
       "<pre style=\"white-space:pre;overflow-x:auto;line-height:normal;font-family:Menlo,'DejaVu Sans Mono',consolas,'Courier New',monospace\">Validation loss decreased (1685.192204 --&gt; 1683.560314).  Saving model ...\n",
       "</pre>\n"
      ],
      "text/plain": [
       "Validation loss decreased (1685.192204 --> 1683.560314).  Saving model ...\n"
      ]
     },
     "metadata": {},
     "output_type": "display_data"
    },
    {
     "data": {
      "text/html": [
       "<pre style=\"white-space:pre;overflow-x:auto;line-height:normal;font-family:Menlo,'DejaVu Sans Mono',consolas,'Courier New',monospace\">[ 11/100] train_loss: 1646.46066 valid_loss: 1681.50891\n",
       "</pre>\n"
      ],
      "text/plain": [
       "[ 11/100] train_loss: 1646.46066 valid_loss: 1681.50891\n"
      ]
     },
     "metadata": {},
     "output_type": "display_data"
    },
    {
     "data": {
      "text/html": [
       "<pre style=\"white-space:pre;overflow-x:auto;line-height:normal;font-family:Menlo,'DejaVu Sans Mono',consolas,'Courier New',monospace\">Validation loss decreased (1683.560314 --&gt; 1681.508905).  Saving model ...\n",
       "</pre>\n"
      ],
      "text/plain": [
       "Validation loss decreased (1683.560314 --> 1681.508905).  Saving model ...\n"
      ]
     },
     "metadata": {},
     "output_type": "display_data"
    },
    {
     "data": {
      "text/html": [
       "<pre style=\"white-space:pre;overflow-x:auto;line-height:normal;font-family:Menlo,'DejaVu Sans Mono',consolas,'Courier New',monospace\">[ 12/100] train_loss: 1644.70369 valid_loss: 1680.60906\n",
       "</pre>\n"
      ],
      "text/plain": [
       "[ 12/100] train_loss: 1644.70369 valid_loss: 1680.60906\n"
      ]
     },
     "metadata": {},
     "output_type": "display_data"
    },
    {
     "data": {
      "text/html": [
       "<pre style=\"white-space:pre;overflow-x:auto;line-height:normal;font-family:Menlo,'DejaVu Sans Mono',consolas,'Courier New',monospace\">Validation loss decreased (1681.508905 --&gt; 1680.609064).  Saving model ...\n",
       "</pre>\n"
      ],
      "text/plain": [
       "Validation loss decreased (1681.508905 --> 1680.609064).  Saving model ...\n"
      ]
     },
     "metadata": {},
     "output_type": "display_data"
    },
    {
     "data": {
      "text/html": [
       "<pre style=\"white-space:pre;overflow-x:auto;line-height:normal;font-family:Menlo,'DejaVu Sans Mono',consolas,'Courier New',monospace\">[ 13/100] train_loss: 1643.76488 valid_loss: 1680.22374\n",
       "</pre>\n"
      ],
      "text/plain": [
       "[ 13/100] train_loss: 1643.76488 valid_loss: 1680.22374\n"
      ]
     },
     "metadata": {},
     "output_type": "display_data"
    },
    {
     "data": {
      "text/html": [
       "<pre style=\"white-space:pre;overflow-x:auto;line-height:normal;font-family:Menlo,'DejaVu Sans Mono',consolas,'Courier New',monospace\">Validation loss decreased (1680.609064 --&gt; 1680.223739).  Saving model ...\n",
       "</pre>\n"
      ],
      "text/plain": [
       "Validation loss decreased (1680.609064 --> 1680.223739).  Saving model ...\n"
      ]
     },
     "metadata": {},
     "output_type": "display_data"
    },
    {
     "data": {
      "text/html": [
       "<pre style=\"white-space:pre;overflow-x:auto;line-height:normal;font-family:Menlo,'DejaVu Sans Mono',consolas,'Courier New',monospace\">[ 14/100] train_loss: 1643.32306 valid_loss: 1680.04906\n",
       "</pre>\n"
      ],
      "text/plain": [
       "[ 14/100] train_loss: 1643.32306 valid_loss: 1680.04906\n"
      ]
     },
     "metadata": {},
     "output_type": "display_data"
    },
    {
     "data": {
      "text/html": [
       "<pre style=\"white-space:pre;overflow-x:auto;line-height:normal;font-family:Menlo,'DejaVu Sans Mono',consolas,'Courier New',monospace\">Validation loss decreased (1680.223739 --&gt; 1680.049059).  Saving model ...\n",
       "</pre>\n"
      ],
      "text/plain": [
       "Validation loss decreased (1680.223739 --> 1680.049059).  Saving model ...\n"
      ]
     },
     "metadata": {},
     "output_type": "display_data"
    },
    {
     "data": {
      "text/html": [
       "<pre style=\"white-space:pre;overflow-x:auto;line-height:normal;font-family:Menlo,'DejaVu Sans Mono',consolas,'Courier New',monospace\">[ 15/100] train_loss: 1643.11018 valid_loss: 1679.94272\n",
       "</pre>\n"
      ],
      "text/plain": [
       "[ 15/100] train_loss: 1643.11018 valid_loss: 1679.94272\n"
      ]
     },
     "metadata": {},
     "output_type": "display_data"
    },
    {
     "data": {
      "text/html": [
       "<pre style=\"white-space:pre;overflow-x:auto;line-height:normal;font-family:Menlo,'DejaVu Sans Mono',consolas,'Courier New',monospace\">Validation loss decreased (1680.049059 --&gt; 1679.942720).  Saving model ...\n",
       "</pre>\n"
      ],
      "text/plain": [
       "Validation loss decreased (1680.049059 --> 1679.942720).  Saving model ...\n"
      ]
     },
     "metadata": {},
     "output_type": "display_data"
    },
    {
     "data": {
      "text/html": [
       "<pre style=\"white-space:pre;overflow-x:auto;line-height:normal;font-family:Menlo,'DejaVu Sans Mono',consolas,'Courier New',monospace\">[ 16/100] train_loss: 1643.01412 valid_loss: 1679.98261\n",
       "</pre>\n"
      ],
      "text/plain": [
       "[ 16/100] train_loss: 1643.01412 valid_loss: 1679.98261\n"
      ]
     },
     "metadata": {},
     "output_type": "display_data"
    },
    {
     "data": {
      "text/html": [
       "<pre style=\"white-space:pre;overflow-x:auto;line-height:normal;font-family:Menlo,'DejaVu Sans Mono',consolas,'Courier New',monospace\">EarlyStopping counter: 1 out of 10\n",
       "</pre>\n"
      ],
      "text/plain": [
       "EarlyStopping counter: 1 out of 10\n"
      ]
     },
     "metadata": {},
     "output_type": "display_data"
    },
    {
     "data": {
      "text/html": [
       "<pre style=\"white-space:pre;overflow-x:auto;line-height:normal;font-family:Menlo,'DejaVu Sans Mono',consolas,'Courier New',monospace\">[ 17/100] train_loss: 1642.96947 valid_loss: 1679.93139\n",
       "</pre>\n"
      ],
      "text/plain": [
       "[ 17/100] train_loss: 1642.96947 valid_loss: 1679.93139\n"
      ]
     },
     "metadata": {},
     "output_type": "display_data"
    },
    {
     "data": {
      "text/html": [
       "<pre style=\"white-space:pre;overflow-x:auto;line-height:normal;font-family:Menlo,'DejaVu Sans Mono',consolas,'Courier New',monospace\">Validation loss decreased (1679.942720 --&gt; 1679.931393).  Saving model ...\n",
       "</pre>\n"
      ],
      "text/plain": [
       "Validation loss decreased (1679.942720 --> 1679.931393).  Saving model ...\n"
      ]
     },
     "metadata": {},
     "output_type": "display_data"
    },
    {
     "data": {
      "text/html": [
       "<pre style=\"white-space:pre;overflow-x:auto;line-height:normal;font-family:Menlo,'DejaVu Sans Mono',consolas,'Courier New',monospace\">[ 18/100] train_loss: 1642.95070 valid_loss: 1679.94467\n",
       "</pre>\n"
      ],
      "text/plain": [
       "[ 18/100] train_loss: 1642.95070 valid_loss: 1679.94467\n"
      ]
     },
     "metadata": {},
     "output_type": "display_data"
    },
    {
     "data": {
      "text/html": [
       "<pre style=\"white-space:pre;overflow-x:auto;line-height:normal;font-family:Menlo,'DejaVu Sans Mono',consolas,'Courier New',monospace\">EarlyStopping counter: 1 out of 10\n",
       "</pre>\n"
      ],
      "text/plain": [
       "EarlyStopping counter: 1 out of 10\n"
      ]
     },
     "metadata": {},
     "output_type": "display_data"
    },
    {
     "data": {
      "text/html": [
       "<pre style=\"white-space:pre;overflow-x:auto;line-height:normal;font-family:Menlo,'DejaVu Sans Mono',consolas,'Courier New',monospace\">[ 19/100] train_loss: 1642.94175 valid_loss: 1679.93520\n",
       "</pre>\n"
      ],
      "text/plain": [
       "[ 19/100] train_loss: 1642.94175 valid_loss: 1679.93520\n"
      ]
     },
     "metadata": {},
     "output_type": "display_data"
    },
    {
     "data": {
      "text/html": [
       "<pre style=\"white-space:pre;overflow-x:auto;line-height:normal;font-family:Menlo,'DejaVu Sans Mono',consolas,'Courier New',monospace\">EarlyStopping counter: 2 out of 10\n",
       "</pre>\n"
      ],
      "text/plain": [
       "EarlyStopping counter: 2 out of 10\n"
      ]
     },
     "metadata": {},
     "output_type": "display_data"
    },
    {
     "data": {
      "text/html": [
       "<pre style=\"white-space:pre;overflow-x:auto;line-height:normal;font-family:Menlo,'DejaVu Sans Mono',consolas,'Courier New',monospace\">[ 20/100] train_loss: 1642.94001 valid_loss: 1679.93812\n",
       "</pre>\n"
      ],
      "text/plain": [
       "[ 20/100] train_loss: 1642.94001 valid_loss: 1679.93812\n"
      ]
     },
     "metadata": {},
     "output_type": "display_data"
    },
    {
     "data": {
      "text/html": [
       "<pre style=\"white-space:pre;overflow-x:auto;line-height:normal;font-family:Menlo,'DejaVu Sans Mono',consolas,'Courier New',monospace\">EarlyStopping counter: 3 out of 10\n",
       "</pre>\n"
      ],
      "text/plain": [
       "EarlyStopping counter: 3 out of 10\n"
      ]
     },
     "metadata": {},
     "output_type": "display_data"
    },
    {
     "data": {
      "text/html": [
       "<pre style=\"white-space:pre;overflow-x:auto;line-height:normal;font-family:Menlo,'DejaVu Sans Mono',consolas,'Courier New',monospace\">[ 21/100] train_loss: 1642.93920 valid_loss: 1679.98228\n",
       "</pre>\n"
      ],
      "text/plain": [
       "[ 21/100] train_loss: 1642.93920 valid_loss: 1679.98228\n"
      ]
     },
     "metadata": {},
     "output_type": "display_data"
    },
    {
     "data": {
      "text/html": [
       "<pre style=\"white-space:pre;overflow-x:auto;line-height:normal;font-family:Menlo,'DejaVu Sans Mono',consolas,'Courier New',monospace\">EarlyStopping counter: 4 out of 10\n",
       "</pre>\n"
      ],
      "text/plain": [
       "EarlyStopping counter: 4 out of 10\n"
      ]
     },
     "metadata": {},
     "output_type": "display_data"
    },
    {
     "data": {
      "text/html": [
       "<pre style=\"white-space:pre;overflow-x:auto;line-height:normal;font-family:Menlo,'DejaVu Sans Mono',consolas,'Courier New',monospace\">[ 22/100] train_loss: 1642.93890 valid_loss: 1679.93889\n",
       "</pre>\n"
      ],
      "text/plain": [
       "[ 22/100] train_loss: 1642.93890 valid_loss: 1679.93889\n"
      ]
     },
     "metadata": {},
     "output_type": "display_data"
    },
    {
     "data": {
      "text/html": [
       "<pre style=\"white-space:pre;overflow-x:auto;line-height:normal;font-family:Menlo,'DejaVu Sans Mono',consolas,'Courier New',monospace\">EarlyStopping counter: 5 out of 10\n",
       "</pre>\n"
      ],
      "text/plain": [
       "EarlyStopping counter: 5 out of 10\n"
      ]
     },
     "metadata": {},
     "output_type": "display_data"
    },
    {
     "data": {
      "text/html": [
       "<pre style=\"white-space:pre;overflow-x:auto;line-height:normal;font-family:Menlo,'DejaVu Sans Mono',consolas,'Courier New',monospace\">[ 23/100] train_loss: 1642.93886 valid_loss: 1679.97568\n",
       "</pre>\n"
      ],
      "text/plain": [
       "[ 23/100] train_loss: 1642.93886 valid_loss: 1679.97568\n"
      ]
     },
     "metadata": {},
     "output_type": "display_data"
    },
    {
     "data": {
      "text/html": [
       "<pre style=\"white-space:pre;overflow-x:auto;line-height:normal;font-family:Menlo,'DejaVu Sans Mono',consolas,'Courier New',monospace\">EarlyStopping counter: 6 out of 10\n",
       "</pre>\n"
      ],
      "text/plain": [
       "EarlyStopping counter: 6 out of 10\n"
      ]
     },
     "metadata": {},
     "output_type": "display_data"
    },
    {
     "data": {
      "text/html": [
       "<pre style=\"white-space:pre;overflow-x:auto;line-height:normal;font-family:Menlo,'DejaVu Sans Mono',consolas,'Courier New',monospace\">[ 24/100] train_loss: 1642.93885 valid_loss: 1679.98977\n",
       "</pre>\n"
      ],
      "text/plain": [
       "[ 24/100] train_loss: 1642.93885 valid_loss: 1679.98977\n"
      ]
     },
     "metadata": {},
     "output_type": "display_data"
    },
    {
     "data": {
      "text/html": [
       "<pre style=\"white-space:pre;overflow-x:auto;line-height:normal;font-family:Menlo,'DejaVu Sans Mono',consolas,'Courier New',monospace\">EarlyStopping counter: 7 out of 10\n",
       "</pre>\n"
      ],
      "text/plain": [
       "EarlyStopping counter: 7 out of 10\n"
      ]
     },
     "metadata": {},
     "output_type": "display_data"
    },
    {
     "data": {
      "text/html": [
       "<pre style=\"white-space:pre;overflow-x:auto;line-height:normal;font-family:Menlo,'DejaVu Sans Mono',consolas,'Courier New',monospace\">[ 25/100] train_loss: 1642.93885 valid_loss: 1679.95262\n",
       "</pre>\n"
      ],
      "text/plain": [
       "[ 25/100] train_loss: 1642.93885 valid_loss: 1679.95262\n"
      ]
     },
     "metadata": {},
     "output_type": "display_data"
    },
    {
     "data": {
      "text/html": [
       "<pre style=\"white-space:pre;overflow-x:auto;line-height:normal;font-family:Menlo,'DejaVu Sans Mono',consolas,'Courier New',monospace\">EarlyStopping counter: 8 out of 10\n",
       "</pre>\n"
      ],
      "text/plain": [
       "EarlyStopping counter: 8 out of 10\n"
      ]
     },
     "metadata": {},
     "output_type": "display_data"
    },
    {
     "data": {
      "text/html": [
       "<pre style=\"white-space:pre;overflow-x:auto;line-height:normal;font-family:Menlo,'DejaVu Sans Mono',consolas,'Courier New',monospace\">[ 26/100] train_loss: 1642.93885 valid_loss: 1679.92778\n",
       "</pre>\n"
      ],
      "text/plain": [
       "[ 26/100] train_loss: 1642.93885 valid_loss: 1679.92778\n"
      ]
     },
     "metadata": {},
     "output_type": "display_data"
    },
    {
     "data": {
      "text/html": [
       "<pre style=\"white-space:pre;overflow-x:auto;line-height:normal;font-family:Menlo,'DejaVu Sans Mono',consolas,'Courier New',monospace\">Validation loss decreased (1679.931393 --&gt; 1679.927779).  Saving model ...\n",
       "</pre>\n"
      ],
      "text/plain": [
       "Validation loss decreased (1679.931393 --> 1679.927779).  Saving model ...\n"
      ]
     },
     "metadata": {},
     "output_type": "display_data"
    },
    {
     "data": {
      "text/html": [
       "<pre style=\"white-space:pre;overflow-x:auto;line-height:normal;font-family:Menlo,'DejaVu Sans Mono',consolas,'Courier New',monospace\">[ 27/100] train_loss: 1642.93885 valid_loss: 1679.96970\n",
       "</pre>\n"
      ],
      "text/plain": [
       "[ 27/100] train_loss: 1642.93885 valid_loss: 1679.96970\n"
      ]
     },
     "metadata": {},
     "output_type": "display_data"
    },
    {
     "data": {
      "text/html": [
       "<pre style=\"white-space:pre;overflow-x:auto;line-height:normal;font-family:Menlo,'DejaVu Sans Mono',consolas,'Courier New',monospace\">EarlyStopping counter: 1 out of 10\n",
       "</pre>\n"
      ],
      "text/plain": [
       "EarlyStopping counter: 1 out of 10\n"
      ]
     },
     "metadata": {},
     "output_type": "display_data"
    },
    {
     "data": {
      "text/html": [
       "<pre style=\"white-space:pre;overflow-x:auto;line-height:normal;font-family:Menlo,'DejaVu Sans Mono',consolas,'Courier New',monospace\">[ 28/100] train_loss: 1642.93885 valid_loss: 1680.01057\n",
       "</pre>\n"
      ],
      "text/plain": [
       "[ 28/100] train_loss: 1642.93885 valid_loss: 1680.01057\n"
      ]
     },
     "metadata": {},
     "output_type": "display_data"
    },
    {
     "data": {
      "text/html": [
       "<pre style=\"white-space:pre;overflow-x:auto;line-height:normal;font-family:Menlo,'DejaVu Sans Mono',consolas,'Courier New',monospace\">EarlyStopping counter: 2 out of 10\n",
       "</pre>\n"
      ],
      "text/plain": [
       "EarlyStopping counter: 2 out of 10\n"
      ]
     },
     "metadata": {},
     "output_type": "display_data"
    },
    {
     "data": {
      "text/html": [
       "<pre style=\"white-space:pre;overflow-x:auto;line-height:normal;font-family:Menlo,'DejaVu Sans Mono',consolas,'Courier New',monospace\">[ 29/100] train_loss: 1642.93884 valid_loss: 1680.06133\n",
       "</pre>\n"
      ],
      "text/plain": [
       "[ 29/100] train_loss: 1642.93884 valid_loss: 1680.06133\n"
      ]
     },
     "metadata": {},
     "output_type": "display_data"
    },
    {
     "data": {
      "text/html": [
       "<pre style=\"white-space:pre;overflow-x:auto;line-height:normal;font-family:Menlo,'DejaVu Sans Mono',consolas,'Courier New',monospace\">EarlyStopping counter: 3 out of 10\n",
       "</pre>\n"
      ],
      "text/plain": [
       "EarlyStopping counter: 3 out of 10\n"
      ]
     },
     "metadata": {},
     "output_type": "display_data"
    },
    {
     "data": {
      "text/html": [
       "<pre style=\"white-space:pre;overflow-x:auto;line-height:normal;font-family:Menlo,'DejaVu Sans Mono',consolas,'Courier New',monospace\">[ 30/100] train_loss: 1642.93885 valid_loss: 1680.01738\n",
       "</pre>\n"
      ],
      "text/plain": [
       "[ 30/100] train_loss: 1642.93885 valid_loss: 1680.01738\n"
      ]
     },
     "metadata": {},
     "output_type": "display_data"
    },
    {
     "data": {
      "text/html": [
       "<pre style=\"white-space:pre;overflow-x:auto;line-height:normal;font-family:Menlo,'DejaVu Sans Mono',consolas,'Courier New',monospace\">EarlyStopping counter: 4 out of 10\n",
       "</pre>\n"
      ],
      "text/plain": [
       "EarlyStopping counter: 4 out of 10\n"
      ]
     },
     "metadata": {},
     "output_type": "display_data"
    },
    {
     "data": {
      "text/html": [
       "<pre style=\"white-space:pre;overflow-x:auto;line-height:normal;font-family:Menlo,'DejaVu Sans Mono',consolas,'Courier New',monospace\">[ 31/100] train_loss: 1642.93885 valid_loss: 1679.95044\n",
       "</pre>\n"
      ],
      "text/plain": [
       "[ 31/100] train_loss: 1642.93885 valid_loss: 1679.95044\n"
      ]
     },
     "metadata": {},
     "output_type": "display_data"
    },
    {
     "data": {
      "text/html": [
       "<pre style=\"white-space:pre;overflow-x:auto;line-height:normal;font-family:Menlo,'DejaVu Sans Mono',consolas,'Courier New',monospace\">EarlyStopping counter: 5 out of 10\n",
       "</pre>\n"
      ],
      "text/plain": [
       "EarlyStopping counter: 5 out of 10\n"
      ]
     },
     "metadata": {},
     "output_type": "display_data"
    },
    {
     "data": {
      "text/html": [
       "<pre style=\"white-space:pre;overflow-x:auto;line-height:normal;font-family:Menlo,'DejaVu Sans Mono',consolas,'Courier New',monospace\">[ 32/100] train_loss: 1642.93884 valid_loss: 1680.02412\n",
       "</pre>\n"
      ],
      "text/plain": [
       "[ 32/100] train_loss: 1642.93884 valid_loss: 1680.02412\n"
      ]
     },
     "metadata": {},
     "output_type": "display_data"
    },
    {
     "data": {
      "text/html": [
       "<pre style=\"white-space:pre;overflow-x:auto;line-height:normal;font-family:Menlo,'DejaVu Sans Mono',consolas,'Courier New',monospace\">EarlyStopping counter: 6 out of 10\n",
       "</pre>\n"
      ],
      "text/plain": [
       "EarlyStopping counter: 6 out of 10\n"
      ]
     },
     "metadata": {},
     "output_type": "display_data"
    },
    {
     "data": {
      "text/html": [
       "<pre style=\"white-space:pre;overflow-x:auto;line-height:normal;font-family:Menlo,'DejaVu Sans Mono',consolas,'Courier New',monospace\">[ 33/100] train_loss: 1642.93884 valid_loss: 1679.93060\n",
       "</pre>\n"
      ],
      "text/plain": [
       "[ 33/100] train_loss: 1642.93884 valid_loss: 1679.93060\n"
      ]
     },
     "metadata": {},
     "output_type": "display_data"
    },
    {
     "data": {
      "text/html": [
       "<pre style=\"white-space:pre;overflow-x:auto;line-height:normal;font-family:Menlo,'DejaVu Sans Mono',consolas,'Courier New',monospace\">EarlyStopping counter: 7 out of 10\n",
       "</pre>\n"
      ],
      "text/plain": [
       "EarlyStopping counter: 7 out of 10\n"
      ]
     },
     "metadata": {},
     "output_type": "display_data"
    },
    {
     "data": {
      "text/html": [
       "<pre style=\"white-space:pre;overflow-x:auto;line-height:normal;font-family:Menlo,'DejaVu Sans Mono',consolas,'Courier New',monospace\">[ 34/100] train_loss: 1642.93885 valid_loss: 1680.04539\n",
       "</pre>\n"
      ],
      "text/plain": [
       "[ 34/100] train_loss: 1642.93885 valid_loss: 1680.04539\n"
      ]
     },
     "metadata": {},
     "output_type": "display_data"
    },
    {
     "data": {
      "text/html": [
       "<pre style=\"white-space:pre;overflow-x:auto;line-height:normal;font-family:Menlo,'DejaVu Sans Mono',consolas,'Courier New',monospace\">EarlyStopping counter: 8 out of 10\n",
       "</pre>\n"
      ],
      "text/plain": [
       "EarlyStopping counter: 8 out of 10\n"
      ]
     },
     "metadata": {},
     "output_type": "display_data"
    },
    {
     "data": {
      "text/html": [
       "<pre style=\"white-space:pre;overflow-x:auto;line-height:normal;font-family:Menlo,'DejaVu Sans Mono',consolas,'Courier New',monospace\">[ 35/100] train_loss: 1642.93884 valid_loss: 1680.11227\n",
       "</pre>\n"
      ],
      "text/plain": [
       "[ 35/100] train_loss: 1642.93884 valid_loss: 1680.11227\n"
      ]
     },
     "metadata": {},
     "output_type": "display_data"
    },
    {
     "data": {
      "text/html": [
       "<pre style=\"white-space:pre;overflow-x:auto;line-height:normal;font-family:Menlo,'DejaVu Sans Mono',consolas,'Courier New',monospace\">EarlyStopping counter: 9 out of 10\n",
       "</pre>\n"
      ],
      "text/plain": [
       "EarlyStopping counter: 9 out of 10\n"
      ]
     },
     "metadata": {},
     "output_type": "display_data"
    },
    {
     "data": {
      "text/html": [
       "<pre style=\"white-space:pre;overflow-x:auto;line-height:normal;font-family:Menlo,'DejaVu Sans Mono',consolas,'Courier New',monospace\">[ 36/100] train_loss: 1642.93885 valid_loss: 1679.94651\n",
       "</pre>\n"
      ],
      "text/plain": [
       "[ 36/100] train_loss: 1642.93885 valid_loss: 1679.94651\n"
      ]
     },
     "metadata": {},
     "output_type": "display_data"
    },
    {
     "data": {
      "text/html": [
       "<pre style=\"white-space:pre;overflow-x:auto;line-height:normal;font-family:Menlo,'DejaVu Sans Mono',consolas,'Courier New',monospace\">EarlyStopping counter: 10 out of 10\n",
       "</pre>\n"
      ],
      "text/plain": [
       "EarlyStopping counter: 10 out of 10\n"
      ]
     },
     "metadata": {},
     "output_type": "display_data"
    },
    {
     "data": {
      "text/html": [
       "<pre style=\"white-space:pre;overflow-x:auto;line-height:normal;font-family:Menlo,'DejaVu Sans Mono',consolas,'Courier New',monospace\">Early stopping\n",
       "</pre>\n"
      ],
      "text/plain": [
       "Early stopping\n"
      ]
     },
     "metadata": {},
     "output_type": "display_data"
    },
    {
     "data": {
      "text/html": [
       "<pre style=\"white-space:pre;overflow-x:auto;line-height:normal;font-family:Menlo,'DejaVu Sans Mono',consolas,'Courier New',monospace\"></pre>\n"
      ],
      "text/plain": []
     },
     "metadata": {},
     "output_type": "display_data"
    },
    {
     "data": {
      "text/html": [
       "<pre style=\"white-space:pre;overflow-x:auto;line-height:normal;font-family:Menlo,'DejaVu Sans Mono',consolas,'Courier New',monospace\">\n",
       "</pre>\n"
      ],
      "text/plain": [
       "\n"
      ]
     },
     "metadata": {},
     "output_type": "display_data"
    },
    {
     "data": {
      "text/plain": [
       "<All keys matched successfully>"
      ]
     },
     "execution_count": 79,
     "metadata": {},
     "output_type": "execute_result"
    }
   ],
   "source": [
    "n_epochs = 100\n",
    "patience = 10\n",
    "losses = []\n",
    "pred_y = []\n",
    "train_losses = []\n",
    "\n",
    "# Track the validation loss as the model trains\n",
    "valid_losses = []\n",
    "# Track the average training loss per epoch as the model trains\n",
    "avg_train_losses = []\n",
    "# Track the average validation loss per epoch as the model trains\n",
    "avg_valid_losses = [] \n",
    "\n",
    "# Initialize the early_stopping object\n",
    "early_stopping = EarlyStopping(patience=patience, verbose=True)\n",
    "\n",
    "for epoch in track(range(n_epochs)):\n",
    "    for batch_idx, data_target in enumerate(train_loader):\n",
    "        X, y = data_target\n",
    "        \n",
    "        optimizer.zero_grad()\n",
    "        \n",
    "        pred_y = model_YKC(X)\n",
    "        temp = pred_y\n",
    "        loss = criterion(torch.sqrt(torch.square(pred_y[:,0])+torch.square(pred_y[:,1])), torch.sqrt(torch.square(y[:,0])+torch.square(y[:,1])))\n",
    "        # criterion(pred_y[:,0], y[:,0]) + criterion(pred_y[:,1], y[:,1])\n",
    "        train_losses.append(loss.item())\n",
    "        \n",
    "        loss.backward()\n",
    "        optimizer.step()\n",
    "    # Validate the model\n",
    "    model_YKC.eval() # prep model for evaluation\n",
    "    for data, target in valid_loader:\n",
    "        # forward pass: compute predicted outputs by passing inputs to the model\n",
    "        output = model_YKC(data)\n",
    "        # calculate the loss\n",
    "        loss = criterion(torch.sqrt(torch.square(output[:,0])+torch.square(output[:,1])), torch.sqrt(torch.square(target[:,0])+torch.square(target[:,1])))\n",
    "        # criterion(output[:,0], target[:,0]) + criterion(output[:,1], target[:,1])\n",
    "        # record validation loss\n",
    "        valid_losses.append(loss.item())\n",
    "\n",
    "    # print training/validation statistics \n",
    "    # calculate average loss over an epoch\n",
    "    train_loss = np.average(train_losses)\n",
    "    valid_loss = np.average(valid_losses)\n",
    "    avg_train_losses.append(train_loss)\n",
    "    avg_valid_losses.append(valid_loss)\n",
    "        \n",
    "    epoch_len = len(str(n_epochs))\n",
    "        \n",
    "    print_msg = (f'[{epoch:>{epoch_len}}/{n_epochs:>{epoch_len}}] ' +\n",
    "                     f'train_loss: {train_loss:.5f} ' +\n",
    "                     f'valid_loss: {valid_loss:.5f}')\n",
    "        \n",
    "    print(print_msg)\n",
    "        \n",
    "    # clear lists to track next epoch\n",
    "    train_losses = []\n",
    "    valid_losses = []\n",
    "        \n",
    "    # early_stopping needs the validation loss to check if it has decresed, \n",
    "    # and if it has, it will make a checkpoint of the current model\n",
    "    early_stopping(valid_loss, model_YKC)\n",
    "    \n",
    "    if early_stopping.early_stop:\n",
    "        print(\"Early stopping\")\n",
    "        break\n",
    "    \n",
    "    scheduler.step()\n",
    "\n",
    "# load the last checkpoint with the best model\n",
    "model_YKC.load_state_dict(torch.load('checkpoint.pt'))"
   ]
  },
  {
   "cell_type": "code",
   "execution_count": 80,
   "id": "d42e0148",
   "metadata": {
    "scrolled": true
   },
   "outputs": [],
   "source": [
    "# Use the year 2015 for prediction\n",
    "mse = []\n",
    "prediction = []\n",
    "\n",
    "for i, data in enumerate(test_loader, 0):\n",
    "    X, y = data\n",
    "    \n",
    "    # Do the forward pass and get the predictions\n",
    "    pred = model_YKC(X)\n",
    "    error = criterion(torch.sqrt(torch.square(pred[:,0])+torch.square(pred[:,1])), torch.sqrt(torch.square(y[:,0])+torch.square(y[:,1])))   \n",
    "    prediction.extend(torch.sqrt(torch.square(pred[:,0])+torch.square(pred[:,1])).detach())\n",
    "    mse.append(error.item())"
   ]
  },
  {
   "cell_type": "code",
   "execution_count": 81,
   "id": "b68cddd2",
   "metadata": {
    "scrolled": false
   },
   "outputs": [
    {
     "data": {
      "text/plain": [
       "5895.451977410392"
      ]
     },
     "execution_count": 81,
     "metadata": {},
     "output_type": "execute_result"
    }
   ],
   "source": [
    "# Calculate MSE\n",
    "sum(mse)/len(mse)"
   ]
  },
  {
   "cell_type": "code",
   "execution_count": 82,
   "id": "342a73da",
   "metadata": {
    "scrolled": false
   },
   "outputs": [
    {
     "data": {
      "text/plain": [
       "tensor(0.2702)"
      ]
     },
     "execution_count": 82,
     "metadata": {},
     "output_type": "execute_result"
    }
   ],
   "source": [
    "# Calculate R2\n",
    "r2score = R2Score()\n",
    "r2score(torch.stack(prediction),torch.sqrt(temp4[:,0]**2+temp4[:,1]**2))"
   ]
  },
  {
   "cell_type": "code",
   "execution_count": 83,
   "id": "734c5d89",
   "metadata": {},
   "outputs": [
    {
     "data": {
      "text/plain": [
       "Text(0.5, 1.0, 'Prediction vs True on 2015 data (YKC)')"
      ]
     },
     "execution_count": 83,
     "metadata": {},
     "output_type": "execute_result"
    },
    {
     "data": {
      "image/png": "[encoded data removed]",
      "text/plain": [
       "<Figure size 432x288 with 1 Axes>"
      ]
     },
     "metadata": {
      "needs_background": "light"
     },
     "output_type": "display_data"
    }
   ],
   "source": [
    "prediction_YKC = [tensor.item() for tensor in prediction]\n",
    "prediction_YKC = pd.DataFrame(prediction_YKC)\n",
    "prediction_YKC.index = ytest_YKC.index\n",
    "ytest_YKC['h'] = (ytest_YKC['dbn_nez']**2 + ytest_YKC['dbe_nez']**2)**(1/2)\n",
    "plt.plot(ytest_YKC['h'], label = 'Horizontal Component')\n",
    "plt.plot(prediction_YKC, label = 'Prediction')\n",
    "plt.legend(loc=\"upper right\")\n",
    "plt.title('Prediction vs True on 2015 data (YKC)')"
   ]
  },
  {
   "cell_type": "code",
   "execution_count": 84,
   "id": "24b4c44d",
   "metadata": {
    "scrolled": true
   },
   "outputs": [
    {
     "data": {
      "text/plain": [
       "Text(0.5, 1.0, 'Prediction vs True on 2015-03-17 data (YKC)')"
      ]
     },
     "execution_count": 84,
     "metadata": {},
     "output_type": "execute_result"
    },
    {
     "data": {
      "image/png": "[encoded data removed]",
      "text/plain": [
       "<Figure size 432x288 with 1 Axes>"
      ]
     },
     "metadata": {
      "needs_background": "light"
     },
     "output_type": "display_data"
    }
   ],
   "source": [
    "plt.plot(ytest_YKC['h'].loc['2015-3-17':'2015-3-18'], label = 'Horizontal Component')\n",
    "plt.plot(prediction_YKC.loc['2015-3-17':'2015-3-18'], label = 'Prediction')\n",
    "plt.legend(loc=\"upper left\")\n",
    "plt.title('Prediction vs True on 2015-03-17 data (YKC)')"
   ]
  },
  {
   "cell_type": "code",
   "execution_count": 85,
   "id": "8cff0afe",
   "metadata": {},
   "outputs": [
    {
     "name": "stderr",
     "output_type": "stream",
     "text": [
      "/tmp/ipykernel_580294/2675025335.py:2: RuntimeWarning: divide by zero encountered in log10\n",
      "  y = np.log10(ytest_YKC['h'].to_numpy())\n"
     ]
    }
   ],
   "source": [
    "x = np.log10(prediction_YKC.to_numpy().T[0])\n",
    "y = np.log10(ytest_YKC['h'].to_numpy())"
   ]
  },
  {
   "cell_type": "code",
   "execution_count": 86,
   "id": "73c3fad5",
   "metadata": {},
   "outputs": [],
   "source": [
    "y[y<-1] = -1"
   ]
  },
  {
   "cell_type": "code",
   "execution_count": 87,
   "id": "396854ef",
   "metadata": {
    "scrolled": true
   },
   "outputs": [
    {
     "data": {
      "image/png": "[encoded data removed]",
      "text/plain": [
       "<Figure size 432x288 with 2 Axes>"
      ]
     },
     "metadata": {
      "needs_background": "light"
     },
     "output_type": "display_data"
    }
   ],
   "source": [
    "import datashader as ds\n",
    "from datashader.mpl_ext import dsshow\n",
    "\n",
    "\n",
    "def using_datashader(ax, x, y):\n",
    "\n",
    "    df = pd.DataFrame(dict(x=x, y=y))\n",
    "    dsartist = dsshow(\n",
    "        df,\n",
    "        ds.Point(\"x\", \"y\"),\n",
    "        ds.count(),\n",
    "        vmin=0,\n",
    "        vmax=200,\n",
    "        norm=\"linear\",\n",
    "        aspect=\"auto\",\n",
    "        ax=ax,\n",
    "    )\n",
    "\n",
    "    plt.colorbar(dsartist)\n",
    "\n",
    "\n",
    "fig, ax = plt.subplots()\n",
    "using_datashader(ax, x, y)\n",
    "plt.xlabel(\"log10(dB_H)Predicted\", fontsize=12)\n",
    "plt.ylabel(\"log10(dB_H)\", fontsize=12)\n",
    "plt.title(\"YKC\")\n",
    "ax.axline((0, 0), slope=1, color='k')\n",
    "plt.show()"
   ]
  },
  {
   "cell_type": "code",
   "execution_count": 88,
   "id": "8b05eb92",
   "metadata": {},
   "outputs": [],
   "source": [
    "torch.save(model_YKC.state_dict(), 'model_YKC.pth')"
   ]
  },
  {
   "cell_type": "code",
   "execution_count": 89,
   "id": "ff156378",
   "metadata": {},
   "outputs": [
    {
     "data": {
      "text/plain": [
       "<All keys matched successfully>"
      ]
     },
     "execution_count": 89,
     "metadata": {},
     "output_type": "execute_result"
    }
   ],
   "source": [
    "model_YKC = Net()\n",
    "model_YKC.load_state_dict(torch.load('model_YKC.pth'))"
   ]
  },
  {
   "cell_type": "code",
   "execution_count": null,
   "id": "734e564a",
   "metadata": {},
   "outputs": [],
   "source": []
  }
 ],
 "metadata": {
  "kernelspec": {
   "display_name": "Python 3 (ipykernel)",
   "language": "python",
   "name": "python3"
  },
  "language_info": {
   "codemirror_mode": {
    "name": "ipython",
    "version": 3
   },
   "file_extension": ".py",
   "mimetype": "text/x-python",
   "name": "python",
   "nbconvert_exporter": "python",
   "pygments_lexer": "ipython3",
   "version": "3.9.7"
  }
 },
 "nbformat": 4,
 "nbformat_minor": 5
}
